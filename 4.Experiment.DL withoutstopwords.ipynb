{
 "cells": [
  {
   "cell_type": "code",
   "execution_count": 1,
   "id": "b4eb4bb2-a3d9-4fc7-90c0-3c6d178b41e5",
   "metadata": {},
   "outputs": [
    {
     "name": "stderr",
     "output_type": "stream",
     "text": [
      "C:\\ProgramData\\Anaconda3\\envs\\IDMC\\lib\\site-packages\\scipy\\__init__.py:146: UserWarning: A NumPy version >=1.16.5 and <1.23.0 is required for this version of SciPy (detected version 1.23.3\n",
      "  warnings.warn(f\"A NumPy version >={np_minversion} and <{np_maxversion}\"\n"
     ]
    }
   ],
   "source": [
    "import os\n",
    "import nltk\n",
    "import pandas as pd\n",
    "import numpy as np\n",
    "from sklearn import preprocessing, pipeline, svm, linear_model, neighbors, metrics, ensemble\n",
    "from sklearn.feature_extraction.text import CountVectorizer, TfidfVectorizer\n",
    "import matplotlib.pyplot as plt\n",
    "import seaborn as sns\n",
    "import torch\n",
    "import torch.nn as nn\n",
    "from torch.utils.data import DataLoader, Subset\n",
    "from torchvision import transforms, datasets\n",
    "from nltk.stem import WordNetLemmatizer\n",
    "from nltk import wordpunct_tokenize, WordNetLemmatizer, sent_tokenize, pos_tag\n",
    "from nltk.corpus import stopwords as sw, wordnet as wn\n",
    "import re\n",
    "import string \n",
    "import copy\n",
    "from unidecode import unidecode\n",
    "from IPython.core.interactiveshell import InteractiveShell\n",
    "InteractiveShell.ast_node_interactivity = \"all\"\n",
    "dataPath = \".\\\\data\""
   ]
  },
  {
   "cell_type": "code",
   "execution_count": 2,
   "id": "980cbd51-07f6-469e-b15e-5c8e69977b25",
   "metadata": {},
   "outputs": [],
   "source": [
    "import numpy as np\n",
    "CUSTOM_SEED = 42\n",
    "np.random.seed(CUSTOM_SEED)"
   ]
  },
  {
   "cell_type": "code",
   "execution_count": 3,
   "id": "81014b72-c790-44fc-8a87-0a772471eb41",
   "metadata": {},
   "outputs": [],
   "source": [
    "def find_files(search_path):\n",
    "    result = []\n",
    "    # Walking top-down from the root\n",
    "    for root, dir, files in os.walk(search_path):\n",
    "        for file in files:       \n",
    "                result.append(os.path.join(root, file))\n",
    "    return result\n",
    "\n",
    "def loadData(paths):\n",
    "    data = pd.DataFrame(columns=[\"tokens\", \"label\"])\n",
    "    for i in paths:\n",
    "        try:\n",
    "            doc = pd.read_csv(i, sep=\"\\t\", names=[\"tokens\", \"label\"], header=None)\n",
    "            doc['file'] = i[12:-5]\n",
    "            data = pd.concat([data, doc], ignore_index=True)\n",
    "        except Exception as e: \n",
    "            print(i, e)\n",
    "    return data\n",
    "\n",
    "def stripSpaces(x):\n",
    "    x = unidecode(x)\n",
    "    specialchar = \"!@#$%^&*()[]{};:,./<>?\\|`-~=_+\\t\\n\"\n",
    "    for tag in specialchar:\n",
    "        x = x.replace(tag, '')\n",
    "    x = x.replace(\" \", \"\")\n",
    "    x = x.lower()\n",
    "    x = x.strip()\n",
    "    return x\n",
    "\n",
    "def cleaning(_dataset, lemma=True, pos=False, verbose=True):\n",
    "    dataset = _dataset.copy()\n",
    "    dataset.drop(dataset[dataset[\"tokens\"].isna()].index, inplace=True)\n",
    "    if verbose: \n",
    "        print(\"Size after Dropping Null Tokens\",dataset.shape)\n",
    "        print(\"Tokens Without labels:\")\n",
    "    for indexWithNullLabel in dataset[dataset[\"label\"].isna()].index:\n",
    "        token = dataset[\"tokens\"][indexWithNullLabel]\n",
    "        #split with ' ' doesnt consider multiple spaces as one\n",
    "        tokenslist = token.split()\n",
    "        dataset[\"tokens\"][indexWithNullLabel] = tokenslist[0]\n",
    "\n",
    "        if (len(tokenslist) > 1):\n",
    "            dataset[\"label\"][indexWithNullLabel] = tokenslist[1]\n",
    "        else:\n",
    "            if verbose:\n",
    "                print(dataset.loc[indexWithNullLabel, :])\n",
    "            #Manual Correction for 5467 and 5858 (very & research)\n",
    "            dataset[\"label\"][indexWithNullLabel] = 'O'\n",
    "            if verbose:\n",
    "                print(\"Manual Corrected:\", dataset[\"tokens\"][indexWithNullLabel])\n",
    "    dataset = dataset.applymap(stripSpaces)\n",
    "    #label to handel 0, i*, b*, o*, 0*\n",
    "    dataset[dataset[\"label\"] == 'ii'] = 'i'\n",
    "    dataset[dataset[\"label\"] == '0'] = 'o'\n",
    "    if verbose:\n",
    "        print(\"Removing special characters\")\n",
    "    specialCharTokens = dataset[~(dataset[\"tokens\"].str.isalnum())][\"tokens\"].unique()\n",
    "    #for sprecialChar with label B, moving label to next row and droping rows  \n",
    "    specialCharWithB = dataset[dataset[\"tokens\"].isin(specialCharTokens) & (dataset[\"label\"] == 'b')].index\n",
    "    for i in specialCharWithB:\n",
    "        dataset.loc[i+1, \"label\"] = 'b'\n",
    "    dataset.drop(dataset[dataset[\"tokens\"].isin(specialCharTokens) & ((dataset[\"label\"] == 'o') | (dataset[\"label\"] == 'b') )].index, inplace=True)\n",
    "    #Drop i where there is i and b before it\n",
    "    toDrop = []\n",
    "    for i in dataset[dataset[\"tokens\"].isin(specialCharTokens)].index:\n",
    "        if(dataset[\"label\"][i-1] == 'b' or dataset[\"label\"][i-1] == 'i' ):\n",
    "            toDrop.append(i)\n",
    "        else:\n",
    "            dataset[\"label\"][i] = 'b'\n",
    "    dataset.drop(toDrop, axis=0, inplace=True)\n",
    "    if verbose:\n",
    "        print(dataset.value_counts()[:30])\n",
    "        print(\"Removing Stopwords based on above listed most frequent words\")\n",
    "    stopwords = [\"about\", \"all\", \"also\", \"among\", \"at\", \"available\", \"be\", \"because\", \"been\", \"both\", \"but\", \"by\", \"can\", \"each\", \"first\", \"has\", \"have\", \"here\", \"how\",\n",
    "             \"however\", \"into\", \"it\", \"its\", \"large\", \"learn\", \"many\", \"may\", \"more\", \"most\", \"much\", \"new\", \"not\", \"often\", \"only\", \"or\", \"other\", \"over\", \"recent\", \"related\", \"same\",\n",
    "             \"several\", \"shown\", \"some\", \"such\", \"than\", \"their\", \"them\", \"then\", \"there\", \"these\", \"they\", \"those\", \"through\", \"use\", \"used\", \"we\", \"well\", \"what\",\n",
    "             \"when\", \"where\", \"which\"]\n",
    "    if verbose:\n",
    "        print(\"Label order correction:\")\n",
    "    dataset.reset_index(drop=True, inplace=True)\n",
    "    temp = dataset.copy()\n",
    "    temp[\"before\"] = temp[\"label\"].shift(1)\n",
    "    temp[\"after\"] = temp[\"label\"].shift(-1)\n",
    "    for i in temp[(temp[\"label\"] == 'i') & (temp[\"before\"] == 'o') ].index:\n",
    "            # oio or oii\n",
    "            if verbose:\n",
    "                print(temp.loc[i-1, \"tokens\"]+\"(\"+temp.loc[i-1, \"label\"]+\")\\t\\t\", temp.loc[i, \"tokens\"]+\"(\"+temp.loc[i, \"label\"]+\")\\t\\t\", temp.loc[i+1, \"tokens\"]+\"(\"+temp.loc[i+1, \"label\"]+\")\")\n",
    "            if(temp.loc[i+1, \"label\"] == 'o' or temp.loc[i+1, \"label\"] == 'i'):\n",
    "                dataset.loc[i, \"label\"] = 'b'\n",
    "            # oib\n",
    "            if(temp.loc[i+1, \"label\"] == 'b'):\n",
    "                dataset.loc[i, \"label\"] = 'b'\n",
    "                dataset.loc[i+1, \"label\"] = 'i'\n",
    "    del temp\n",
    "    if verbose:\n",
    "        print(dataset[(dataset[\"tokens\"].isin(stopwords))][\"tokens\"].value_counts().index)\n",
    "    # dataset.drop(dataset[dataset[\"tokens\"].isin(stopwords)].index, inplace=True)\n",
    "    if pos:\n",
    "        dataset[\"POS\"] = nltk.pos_tag(train[\"tokens\"])\n",
    "    if lemma:\n",
    "        lemmatizer = WordNetLemmatizer()\n",
    "        dataset[\"tokens\"] = dataset[\"tokens\"].apply(lambda x: lemmatizer.lemmatize(x))\n",
    "    dataset.reset_index(drop=True, inplace=True)\n",
    "    return dataset\n",
    "\n",
    "def featurePreparation(_dataset, ref=1):\n",
    "    dataset = _dataset.copy()\n",
    "    if  ref == 0:\n",
    "        dataset[\"text\"] = dataset[\"tokens\"]\n",
    "    elif ref == 1:\n",
    "        dataset[\"text\"] = dataset[\"tokens\"].shift(fill_value= \"\") + \" \" + dataset[\"tokens\"] \\\n",
    "                            + \" \" + dataset[\"tokens\"].shift(-1, fill_value= \"\")\n",
    "    elif ref == 2:\n",
    "        dataset[\"text\"] = dataset[\"tokens\"].shift(2, fill_value= \"\") + \" \" + dataset[\"tokens\"].shift(fill_value= \"\") \\\n",
    "                            + \" \" + dataset[\"tokens\"] + \" \" + dataset[\"tokens\"].shift(-1, fill_value= \"\") \\\n",
    "                            + \" \" + dataset[\"tokens\"].shift(-2, fill_value= \"\")\n",
    "    elif ref == 3:\n",
    "        dataset[\"text\"] = dataset[\"tokens\"].shift(3, fill_value= \"\") + \" \" + dataset[\"tokens\"].shift(2, fill_value= \"\") \\\n",
    "                            + \" \" + dataset[\"tokens\"].shift(fill_value= \"\") + \" \" + dataset[\"tokens\"] \\\n",
    "                            + \" \" + dataset[\"tokens\"].shift(-1, fill_value= \"\") \\\n",
    "                            + \" \" + dataset[\"tokens\"].shift(-2, fill_value= \"\") + \" \" + dataset[\"tokens\"].shift(-3, fill_value= \"\")\n",
    "    dataset = dataset.drop([\"tokens\", \"file\"], axis=1)\n",
    "    return dataset\n",
    "\n",
    "def pre_pipeline(ref=1, pos=False,lemma=True):\n",
    "    trainFiles = find_files(dataPath + \"\\\\train\")\n",
    "    testFiles = find_files(dataPath + \"\\\\test\")\n",
    "    devFiles = find_files(dataPath + \"\\\\dev\")\n",
    "    train = loadData(trainFiles)\n",
    "    test  = loadData(testFiles)\n",
    "    dev = loadData(devFiles)\n",
    "    train = cleaning(train, lemma=lemma, pos=pos, verbose=False)\n",
    "    test = cleaning(test, lemma=lemma, pos=pos, verbose=False)\n",
    "    dev = cleaning(dev, lemma=lemma, pos=pos, verbose=False)\n",
    "    train = featurePreparation(train, ref=ref)\n",
    "    test = featurePreparation(test, ref=ref)\n",
    "    dev = featurePreparation(dev, ref=ref)\n",
    "    return train, test, dev"
   ]
  },
  {
   "cell_type": "code",
   "execution_count": 4,
   "id": "10a059b8-d09c-4c87-ad7e-9ce463af4c04",
   "metadata": {},
   "outputs": [
    {
     "name": "stdout",
     "output_type": "stream",
     "text": [
      "Vobac Size 2982\n"
     ]
    }
   ],
   "source": [
    "train, test, dev = pre_pipeline(ref=2,lemma=False)\n",
    "vectorizer = CountVectorizer()\n",
    "trainX = vectorizer.fit_transform(train[\"text\"])\n",
    "testX = vectorizer.transform(test[\"text\"])\n",
    "devX = vectorizer.transform(dev[\"text\"])\n",
    "print(\"Vobac Size\", len(vectorizer.get_feature_names_out()))\n",
    "\n",
    "le = preprocessing.OneHotEncoder()\n",
    "le = le.fit(train[\"label\"].values.reshape(-1,1))\n",
    "trainY = le.transform(train[\"label\"].values.reshape(-1,1))\n",
    "devY = le.transform(dev[\"label\"].values.reshape(-1,1))\n",
    "testY = le.transform(test[\"label\"].values.reshape(-1,1))"
   ]
  },
  {
   "cell_type": "code",
   "execution_count": 5,
   "id": "3ecafa7d-7962-4cb5-90c4-3326e491b89a",
   "metadata": {},
   "outputs": [],
   "source": [
    "from keras.models import Sequential\n",
    "from keras.layers import Dense, Dropout, Activation\n",
    "\n",
    "def build_model(input_dim, hidden_neurons, output_dim):\n",
    "    \"\"\"\n",
    "    Construct, compile and return a Keras model which will be used to fit/predict\n",
    "    \"\"\"\n",
    "    model = Sequential([\n",
    "        Dense(hidden_neurons, input_dim=input_dim),\n",
    "        Activation('relu'),\n",
    "        Dropout(0.2),\n",
    "        Dense(hidden_neurons),\n",
    "        Activation('relu'),\n",
    "        Dropout(0.2),\n",
    "        Dense(output_dim, activation='softmax')\n",
    "    ])\n",
    "    model.compile(loss='categorical_crossentropy', optimizer='adam', metrics=['accuracy'])\n",
    "    return model"
   ]
  },
  {
   "cell_type": "code",
   "execution_count": 6,
   "id": "2e2173a2-ca8f-4bef-80a9-772da63749e1",
   "metadata": {},
   "outputs": [
    {
     "name": "stderr",
     "output_type": "stream",
     "text": [
      "C:\\Users\\Administrator\\AppData\\Local\\Temp\\ipykernel_16440\\3618872089.py:13: DeprecationWarning: KerasClassifier is deprecated, use Sci-Keras (https://github.com/adriangb/scikeras) instead. See https://www.adriangb.com/scikeras/stable/migration.html for help migrating.\n",
      "  clf = KerasClassifier(**model_params)\n"
     ]
    }
   ],
   "source": [
    "from keras.wrappers.scikit_learn import KerasClassifier\n",
    "model_params = {\n",
    "    'build_fn': build_model,\n",
    "    'input_dim': trainX.shape[1],\n",
    "    'hidden_neurons': 512,\n",
    "    'output_dim': trainY.shape[1],\n",
    "    'epochs': 14,\n",
    "    'batch_size': 3000,\n",
    "    'verbose': 1,\n",
    "    'validation_data': (devX.toarray(), devY.toarray()),\n",
    "    'shuffle': True\n",
    "}\n",
    "clf = KerasClassifier(**model_params)"
   ]
  },
  {
   "cell_type": "code",
   "execution_count": 7,
   "id": "b5af8012-e89b-4c08-a341-9a517647a909",
   "metadata": {},
   "outputs": [
    {
     "name": "stdout",
     "output_type": "stream",
     "text": [
      "Epoch 1/14\n",
      "7/7 [==============================] - 2s 183ms/step - loss: 0.9073 - accuracy: 0.6630 - val_loss: 0.6996 - val_accuracy: 0.7590\n",
      "Epoch 2/14\n",
      "7/7 [==============================] - 1s 128ms/step - loss: 0.7358 - accuracy: 0.7386 - val_loss: 0.6671 - val_accuracy: 0.7590\n",
      "Epoch 3/14\n",
      "7/7 [==============================] - 1s 145ms/step - loss: 0.6624 - accuracy: 0.7386 - val_loss: 0.6639 - val_accuracy: 0.7590\n",
      "Epoch 4/14\n",
      "7/7 [==============================] - 1s 125ms/step - loss: 0.6248 - accuracy: 0.7386 - val_loss: 0.6332 - val_accuracy: 0.7590\n",
      "Epoch 5/14\n",
      "7/7 [==============================] - 1s 123ms/step - loss: 0.5928 - accuracy: 0.7386 - val_loss: 0.6268 - val_accuracy: 0.7590\n",
      "Epoch 6/14\n",
      "7/7 [==============================] - 1s 122ms/step - loss: 0.5656 - accuracy: 0.7387 - val_loss: 0.6228 - val_accuracy: 0.7594\n",
      "Epoch 7/14\n",
      "7/7 [==============================] - 1s 123ms/step - loss: 0.5426 - accuracy: 0.7436 - val_loss: 0.6209 - val_accuracy: 0.7622\n",
      "Epoch 8/14\n",
      "7/7 [==============================] - 1s 121ms/step - loss: 0.5191 - accuracy: 0.7554 - val_loss: 0.6245 - val_accuracy: 0.7660\n",
      "Epoch 9/14\n",
      "7/7 [==============================] - 1s 129ms/step - loss: 0.4944 - accuracy: 0.7697 - val_loss: 0.6273 - val_accuracy: 0.7692\n",
      "Epoch 10/14\n",
      "7/7 [==============================] - 1s 124ms/step - loss: 0.4677 - accuracy: 0.7860 - val_loss: 0.6365 - val_accuracy: 0.7688\n",
      "Epoch 11/14\n",
      "7/7 [==============================] - 1s 127ms/step - loss: 0.4377 - accuracy: 0.7969 - val_loss: 0.6480 - val_accuracy: 0.7669\n",
      "Epoch 12/14\n",
      "7/7 [==============================] - 1s 135ms/step - loss: 0.4056 - accuracy: 0.8133 - val_loss: 0.6668 - val_accuracy: 0.7669\n",
      "Epoch 13/14\n",
      "7/7 [==============================] - 1s 130ms/step - loss: 0.3693 - accuracy: 0.8365 - val_loss: 0.6896 - val_accuracy: 0.7655\n",
      "Epoch 14/14\n",
      "7/7 [==============================] - 1s 119ms/step - loss: 0.3311 - accuracy: 0.8608 - val_loss: 0.7168 - val_accuracy: 0.7580\n"
     ]
    }
   ],
   "source": [
    "hist = clf.fit(trainX.toarray(), trainY.toarray())"
   ]
  },
  {
   "cell_type": "code",
   "execution_count": 8,
   "id": "a166178d-98e0-4ba5-9824-09fa7e0adb06",
   "metadata": {},
   "outputs": [
    {
     "data": {
      "image/png": "[encoded data removed]",
      "text/plain": [
       "<Figure size 1000x800 with 2 Axes>"
      ]
     },
     "metadata": {},
     "output_type": "display_data"
    }
   ],
   "source": [
    "import matplotlib.pyplot as plt\n",
    "\n",
    "def plot_model_performance(train_loss, train_acc, train_val_loss, train_val_acc):\n",
    "    \"\"\" Plot model loss and accuracy through epochs. \"\"\"    \n",
    "    blue= '#34495E'\n",
    "    green = '#2ECC71'\n",
    "    orange = '#E23B13'    # plot model loss\n",
    "    fig, (ax1, ax2) = plt.subplots(2, figsize=(10, 8))\n",
    "    ax1.plot(range(1, len(train_loss) + 1), train_loss, blue, linewidth=5, label='training')\n",
    "    ax1.plot(range(1, len(train_val_loss) + 1), train_val_loss, green, linewidth=5, label='validation')\n",
    "    ax1.set_xlabel('# epoch')\n",
    "    ax1.set_ylabel('loss')\n",
    "    ax1.tick_params('y')\n",
    "    ax1.legend(loc='upper right', shadow=False)\n",
    "    ax1.set_title('Model loss through #epochs', color=orange, fontweight='bold')    # plot model accuracy\n",
    "    ax2.plot(range(1, len(train_acc) + 1), train_acc, blue, linewidth=5, label='training')\n",
    "    ax2.plot(range(1, len(train_val_acc) + 1), train_val_acc, green, linewidth=5, label='validation')\n",
    "    ax2.set_xlabel('# epoch')\n",
    "    ax2.set_ylabel('accuracy')\n",
    "    ax2.tick_params('y')\n",
    "    ax2.legend(loc='lower right', shadow=False)\n",
    "    ax2.set_title('Model accuracy through #epochs', color=orange, fontweight='bold')\n",
    "    \n",
    "plot_model_performance(\n",
    "    train_loss=hist.history.get('loss', []),\n",
    "    train_acc=hist.history.get('accuracy', []),\n",
    "    train_val_loss=hist.history.get('val_loss', []),\n",
    "    train_val_acc=hist.history.get('val_accuracy', [])\n",
    ")"
   ]
  },
  {
   "cell_type": "code",
   "execution_count": 9,
   "id": "4131ec82-5292-4415-9792-e0ddae6659ad",
   "metadata": {},
   "outputs": [
    {
     "name": "stdout",
     "output_type": "stream",
     "text": [
      "You must install pydot (`pip install pydot`) and install graphviz (see instructions at https://graphviz.gitlab.io/download/) for plot_model/model_to_dot to work.\n",
      "1/1 [==============================] - 0s 272ms/step - loss: 0.7905 - accuracy: 0.7366\n",
      "0.7365853786468506\n",
      "77/77 [==============================] - 0s 3ms/step\n"
     ]
    }
   ],
   "source": [
    "from keras.utils import plot_model\n",
    "plot_model(clf.model, to_file='model.png', show_shapes=True)\n",
    "clf.model.save('./keras_mlp.h5')\n",
    "score = clf.score(testX.toarray(), testY.toarray())\n",
    "print(score)\n",
    "yhat = clf.predict(testX.toarray())"
   ]
  },
  {
   "cell_type": "code",
   "execution_count": 10,
   "id": "d7567c79-34d9-4040-8907-d8823b8df171",
   "metadata": {},
   "outputs": [
    {
     "data": {
      "text/plain": [
       "0.031055900621118012"
      ]
     },
     "execution_count": 10,
     "metadata": {},
     "output_type": "execute_result"
    },
    {
     "data": {
      "text/plain": [
       "0.021739130434782608"
      ]
     },
     "execution_count": 10,
     "metadata": {},
     "output_type": "execute_result"
    },
    {
     "data": {
      "text/plain": [
       "0.05825242718446602"
      ]
     },
     "execution_count": 10,
     "metadata": {},
     "output_type": "execute_result"
    },
    {
     "data": {
      "text/plain": [
       "0.014705882352941176"
      ]
     },
     "execution_count": 10,
     "metadata": {},
     "output_type": "execute_result"
    }
   ],
   "source": [
    "# 0=b 1=i 2=o\n",
    "yhat = pd.DataFrame(yhat)\n",
    "yhat[yhat[0] == 0]  = 'b'\n",
    "yhat[yhat[0] == 1]  = 'i'\n",
    "yhat[yhat[0] == 2]  = 'o'\n",
    "\n",
    "\n",
    "d = {'y': test[\"label\"].values, 'yhat': yhat[0].values}\n",
    "comparison = pd.DataFrame(data=d)\n",
    "spanEval = pd.DataFrame( columns=[\"y\", \"yhat\"])\n",
    "for i in range(0, comparison.shape[0]):\n",
    "    if(comparison['y'][i] == 'b'):\n",
    "        j = i+1\n",
    "        ystr = \"b\"\n",
    "        yhatstr = comparison['yhat'][i]\n",
    "        while(comparison['y'][j] == \"i\"):\n",
    "            ystr = ystr + comparison['y'][j]\n",
    "            yhatstr = yhatstr + comparison['yhat'][j]\n",
    "            j = j + 1\n",
    "        toAppend = pd.DataFrame({'y':ystr, 'yhat':yhatstr}, index={1})\n",
    "        spanEval = pd.concat([spanEval, toAppend], ignore_index=True)\n",
    "\n",
    "spanEval[(spanEval['y'] == spanEval['yhat'])].shape[0] / spanEval.shape[0]\n",
    "spanEval[(spanEval['y'] == spanEval['yhat']) & (spanEval['yhat'].str.len() == 2)].shape[0] / spanEval[(spanEval['yhat'].str.len() == 2)].shape[0]\n",
    "spanEval[(spanEval['y'] == spanEval['yhat']) & (spanEval['yhat'].str.len() == 1)].shape[0] / spanEval[(spanEval['yhat'].str.len() == 1)].shape[0]\n",
    "spanEval[(spanEval['y'] == spanEval['yhat']) & (spanEval['yhat'].str.len() == 3)].shape[0] / spanEval[(spanEval['yhat'].str.len() == 3)].shape[0]"
   ]
  },
  {
   "cell_type": "code",
   "execution_count": 11,
   "id": "3f09ca59-d14d-476f-862e-1fcba8d50d32",
   "metadata": {},
   "outputs": [
    {
     "name": "stdout",
     "output_type": "stream",
     "text": [
      "Vobac Size 2982\n",
      "Epoch 1/14\n",
      "7/7 [==============================] - 2s 182ms/step - loss: 0.8806 - accuracy: 0.6709 - val_loss: 0.7055 - val_accuracy: 0.7590\n",
      "Epoch 2/14\n",
      "7/7 [==============================] - 1s 130ms/step - loss: 0.7488 - accuracy: 0.7386 - val_loss: 0.7016 - val_accuracy: 0.7590\n",
      "Epoch 3/14\n",
      "7/7 [==============================] - 1s 133ms/step - loss: 0.6826 - accuracy: 0.7386 - val_loss: 0.7082 - val_accuracy: 0.7590\n",
      "Epoch 4/14\n",
      "7/7 [==============================] - 1s 133ms/step - loss: 0.6483 - accuracy: 0.7386 - val_loss: 0.6555 - val_accuracy: 0.7590\n",
      "Epoch 5/14\n",
      "7/7 [==============================] - 1s 146ms/step - loss: 0.6246 - accuracy: 0.7386 - val_loss: 0.6572 - val_accuracy: 0.7590\n",
      "Epoch 6/14\n",
      "7/7 [==============================] - 1s 145ms/step - loss: 0.6019 - accuracy: 0.7386 - val_loss: 0.6599 - val_accuracy: 0.7590\n",
      "Epoch 7/14\n",
      "7/7 [==============================] - 1s 136ms/step - loss: 0.5825 - accuracy: 0.7391 - val_loss: 0.6456 - val_accuracy: 0.7599\n",
      "Epoch 8/14\n",
      "7/7 [==============================] - 1s 131ms/step - loss: 0.5622 - accuracy: 0.7421 - val_loss: 0.6451 - val_accuracy: 0.7618\n",
      "Epoch 9/14\n",
      "7/7 [==============================] - 1s 133ms/step - loss: 0.5400 - accuracy: 0.7524 - val_loss: 0.6469 - val_accuracy: 0.7674\n",
      "Epoch 10/14\n",
      "7/7 [==============================] - 1s 131ms/step - loss: 0.5159 - accuracy: 0.7629 - val_loss: 0.6455 - val_accuracy: 0.7660\n",
      "Epoch 11/14\n",
      "7/7 [==============================] - 1s 131ms/step - loss: 0.4881 - accuracy: 0.7758 - val_loss: 0.6498 - val_accuracy: 0.7655\n",
      "Epoch 12/14\n",
      "7/7 [==============================] - 1s 133ms/step - loss: 0.4577 - accuracy: 0.7905 - val_loss: 0.6579 - val_accuracy: 0.7650\n",
      "Epoch 13/14\n",
      "7/7 [==============================] - 1s 123ms/step - loss: 0.4235 - accuracy: 0.8063 - val_loss: 0.6715 - val_accuracy: 0.7608\n",
      "Epoch 14/14\n",
      "7/7 [==============================] - 1s 123ms/step - loss: 0.3872 - accuracy: 0.8225 - val_loss: 0.6898 - val_accuracy: 0.7529\n",
      "77/77 [==============================] - 0s 3ms/step\n"
     ]
    },
    {
     "data": {
      "text/plain": [
       "0.006211180124223602"
      ]
     },
     "execution_count": 11,
     "metadata": {},
     "output_type": "execute_result"
    },
    {
     "data": {
      "text/plain": [
       "0.0"
      ]
     },
     "execution_count": 11,
     "metadata": {},
     "output_type": "execute_result"
    },
    {
     "data": {
      "text/plain": [
       "0.019417475728155338"
      ]
     },
     "execution_count": 11,
     "metadata": {},
     "output_type": "execute_result"
    },
    {
     "data": {
      "text/plain": [
       "0.0"
      ]
     },
     "execution_count": 11,
     "metadata": {},
     "output_type": "execute_result"
    }
   ],
   "source": [
    "train, test, dev = pre_pipeline(ref=3,lemma=False)\n",
    "vectorizer = CountVectorizer()\n",
    "trainX = vectorizer.fit_transform(train[\"text\"])\n",
    "testX = vectorizer.transform(test[\"text\"])\n",
    "devX = vectorizer.transform(dev[\"text\"])\n",
    "print(\"Vobac Size\", len(vectorizer.get_feature_names_out()))\n",
    "\n",
    "le = preprocessing.OneHotEncoder()\n",
    "le = le.fit(train[\"label\"].values.reshape(-1,1))\n",
    "trainY = le.transform(train[\"label\"].values.reshape(-1,1))\n",
    "devY = le.transform(dev[\"label\"].values.reshape(-1,1))\n",
    "testY = le.transform(test[\"label\"].values.reshape(-1,1))\n",
    "\n",
    "\n",
    "\n",
    "from keras.models import Sequential\n",
    "from keras.layers import Dense, Dropout, Activation\n",
    "\n",
    "def build_model(input_dim, hidden_neurons, output_dim):\n",
    "    \"\"\"\n",
    "    Construct, compile and return a Keras model which will be used to fit/predict\n",
    "    \"\"\"\n",
    "    model = Sequential([\n",
    "        Dense(hidden_neurons, input_dim=input_dim),\n",
    "        Activation('relu'),\n",
    "        Dropout(0.2),\n",
    "        Dense(hidden_neurons),\n",
    "        Activation('relu'),\n",
    "        Dropout(0.2),\n",
    "        Dense(output_dim, activation='softmax')\n",
    "    ])\n",
    "    model.compile(loss='categorical_crossentropy', optimizer='adam', metrics=['accuracy'])\n",
    "    return model\n",
    "\n",
    "\n",
    "hist = clf.fit(trainX.toarray(), trainY.toarray())\n",
    "\n",
    "yhat = clf.predict(testX.toarray())\n",
    "\n",
    "# 0=b 1=i 2=o\n",
    "yhat = pd.DataFrame(yhat)\n",
    "yhat[yhat[0] == 0]  = 'b'\n",
    "yhat[yhat[0] == 1]  = 'i'\n",
    "yhat[yhat[0] == 2]  = 'o'\n",
    "\n",
    "\n",
    "d = {'y': test[\"label\"].values, 'yhat': yhat[0].values}\n",
    "comparison = pd.DataFrame(data=d)\n",
    "spanEval = pd.DataFrame( columns=[\"y\", \"yhat\"])\n",
    "for i in range(0, comparison.shape[0]):\n",
    "    if(comparison['y'][i] == 'b'):\n",
    "        j = i+1\n",
    "        ystr = \"b\"\n",
    "        yhatstr = comparison['yhat'][i]\n",
    "        while(comparison['y'][j] == \"i\"):\n",
    "            ystr = ystr + comparison['y'][j]\n",
    "            yhatstr = yhatstr + comparison['yhat'][j]\n",
    "            j = j + 1\n",
    "        toAppend = pd.DataFrame({'y':ystr, 'yhat':yhatstr}, index={1})\n",
    "        spanEval = pd.concat([spanEval, toAppend], ignore_index=True)\n",
    "\n",
    "spanEval[(spanEval['y'] == spanEval['yhat'])].shape[0] / spanEval.shape[0]\n",
    "spanEval[(spanEval['y'] == spanEval['yhat']) & (spanEval['yhat'].str.len() == 2)].shape[0] / spanEval[(spanEval['yhat'].str.len() == 2)].shape[0]\n",
    "spanEval[(spanEval['y'] == spanEval['yhat']) & (spanEval['yhat'].str.len() == 1)].shape[0] / spanEval[(spanEval['yhat'].str.len() == 1)].shape[0]\n",
    "spanEval[(spanEval['y'] == spanEval['yhat']) & (spanEval['yhat'].str.len() == 3)].shape[0] / spanEval[(spanEval['yhat'].str.len() == 3)].shape[0]"
   ]
  },
  {
   "cell_type": "code",
   "execution_count": 12,
   "id": "7ed67948-9343-4999-834b-eacd45e2abd6",
   "metadata": {},
   "outputs": [
    {
     "name": "stdout",
     "output_type": "stream",
     "text": [
      "Vobac Size 2982\n",
      "Epoch 1/14\n",
      "7/7 [==============================] - 2s 182ms/step - loss: 0.9212 - accuracy: 0.6715 - val_loss: 0.6998 - val_accuracy: 0.7590\n",
      "Epoch 2/14\n",
      "7/7 [==============================] - 1s 142ms/step - loss: 0.7090 - accuracy: 0.7386 - val_loss: 0.7453 - val_accuracy: 0.7590\n",
      "Epoch 3/14\n",
      "7/7 [==============================] - 1s 132ms/step - loss: 0.6269 - accuracy: 0.7386 - val_loss: 0.6416 - val_accuracy: 0.7590\n",
      "Epoch 4/14\n",
      "7/7 [==============================] - 1s 153ms/step - loss: 0.5761 - accuracy: 0.7386 - val_loss: 0.6493 - val_accuracy: 0.7590\n",
      "Epoch 5/14\n",
      "7/7 [==============================] - 1s 127ms/step - loss: 0.5322 - accuracy: 0.7386 - val_loss: 0.7013 - val_accuracy: 0.7590\n",
      "Epoch 6/14\n",
      "7/7 [==============================] - 1s 133ms/step - loss: 0.5009 - accuracy: 0.7387 - val_loss: 0.7026 - val_accuracy: 0.7594\n",
      "Epoch 7/14\n",
      "7/7 [==============================] - 1s 145ms/step - loss: 0.4726 - accuracy: 0.7508 - val_loss: 0.7082 - val_accuracy: 0.7650\n",
      "Epoch 8/14\n",
      "7/7 [==============================] - 1s 136ms/step - loss: 0.4489 - accuracy: 0.7773 - val_loss: 0.7581 - val_accuracy: 0.7669\n",
      "Epoch 9/14\n",
      "7/7 [==============================] - 1s 115ms/step - loss: 0.4256 - accuracy: 0.7993 - val_loss: 0.7937 - val_accuracy: 0.7697\n",
      "Epoch 10/14\n",
      "7/7 [==============================] - 1s 116ms/step - loss: 0.4005 - accuracy: 0.8221 - val_loss: 0.8258 - val_accuracy: 0.7711\n",
      "Epoch 11/14\n",
      "7/7 [==============================] - 1s 118ms/step - loss: 0.3725 - accuracy: 0.8476 - val_loss: 0.8753 - val_accuracy: 0.7678\n",
      "Epoch 12/14\n",
      "7/7 [==============================] - 1s 121ms/step - loss: 0.3395 - accuracy: 0.8680 - val_loss: 0.9344 - val_accuracy: 0.7669\n",
      "Epoch 13/14\n",
      "7/7 [==============================] - 1s 120ms/step - loss: 0.3067 - accuracy: 0.8866 - val_loss: 1.0014 - val_accuracy: 0.7627\n",
      "Epoch 14/14\n",
      "7/7 [==============================] - 1s 111ms/step - loss: 0.2716 - accuracy: 0.9037 - val_loss: 1.0879 - val_accuracy: 0.7608\n",
      "77/77 [==============================] - 0s 3ms/step\n"
     ]
    },
    {
     "data": {
      "text/plain": [
       "0.10869565217391304"
      ]
     },
     "execution_count": 12,
     "metadata": {},
     "output_type": "execute_result"
    },
    {
     "data": {
      "text/plain": [
       "0.08695652173913043"
      ]
     },
     "execution_count": 12,
     "metadata": {},
     "output_type": "execute_result"
    },
    {
     "data": {
      "text/plain": [
       "0.10679611650485436"
      ]
     },
     "execution_count": 12,
     "metadata": {},
     "output_type": "execute_result"
    },
    {
     "data": {
      "text/plain": [
       "0.14705882352941177"
      ]
     },
     "execution_count": 12,
     "metadata": {},
     "output_type": "execute_result"
    }
   ],
   "source": [
    "train, test, dev = pre_pipeline(ref=1,lemma=False)\n",
    "vectorizer = CountVectorizer()\n",
    "trainX = vectorizer.fit_transform(train[\"text\"])\n",
    "testX = vectorizer.transform(test[\"text\"])\n",
    "devX = vectorizer.transform(dev[\"text\"])\n",
    "print(\"Vobac Size\", len(vectorizer.get_feature_names_out()))\n",
    "\n",
    "le = preprocessing.OneHotEncoder()\n",
    "le = le.fit(train[\"label\"].values.reshape(-1,1))\n",
    "trainY = le.transform(train[\"label\"].values.reshape(-1,1))\n",
    "devY = le.transform(dev[\"label\"].values.reshape(-1,1))\n",
    "testY = le.transform(test[\"label\"].values.reshape(-1,1))\n",
    "\n",
    "\n",
    "\n",
    "from keras.models import Sequential\n",
    "from keras.layers import Dense, Dropout, Activation\n",
    "\n",
    "def build_model(input_dim, hidden_neurons, output_dim):\n",
    "    \"\"\"\n",
    "    Construct, compile and return a Keras model which will be used to fit/predict\n",
    "    \"\"\"\n",
    "    model = Sequential([\n",
    "        Dense(hidden_neurons, input_dim=input_dim),\n",
    "        Activation('relu'),\n",
    "        Dropout(0.2),\n",
    "        Dense(hidden_neurons),\n",
    "        Activation('relu'),\n",
    "        Dropout(0.2),\n",
    "        Dense(output_dim, activation='softmax')\n",
    "    ])\n",
    "    model.compile(loss='categorical_crossentropy', optimizer='adam', metrics=['accuracy'])\n",
    "    return model\n",
    "\n",
    "\n",
    "hist = clf.fit(trainX.toarray(), trainY.toarray())\n",
    "\n",
    "yhat = clf.predict(testX.toarray())\n",
    "\n",
    "# 0=b 1=i 2=o\n",
    "yhat = pd.DataFrame(yhat)\n",
    "yhat[yhat[0] == 0]  = 'b'\n",
    "yhat[yhat[0] == 1]  = 'i'\n",
    "yhat[yhat[0] == 2]  = 'o'\n",
    "\n",
    "\n",
    "d = {'y': test[\"label\"].values, 'yhat': yhat[0].values}\n",
    "comparison = pd.DataFrame(data=d)\n",
    "spanEval = pd.DataFrame( columns=[\"y\", \"yhat\"])\n",
    "for i in range(0, comparison.shape[0]):\n",
    "    if(comparison['y'][i] == 'b'):\n",
    "        j = i+1\n",
    "        ystr = \"b\"\n",
    "        yhatstr = comparison['yhat'][i]\n",
    "        while(comparison['y'][j] == \"i\"):\n",
    "            ystr = ystr + comparison['y'][j]\n",
    "            yhatstr = yhatstr + comparison['yhat'][j]\n",
    "            j = j + 1\n",
    "        toAppend = pd.DataFrame({'y':ystr, 'yhat':yhatstr}, index={1})\n",
    "        spanEval = pd.concat([spanEval, toAppend], ignore_index=True)\n",
    "\n",
    "spanEval[(spanEval['y'] == spanEval['yhat'])].shape[0] / spanEval.shape[0]\n",
    "spanEval[(spanEval['y'] == spanEval['yhat']) & (spanEval['yhat'].str.len() == 2)].shape[0] / spanEval[(spanEval['yhat'].str.len() == 2)].shape[0]\n",
    "spanEval[(spanEval['y'] == spanEval['yhat']) & (spanEval['yhat'].str.len() == 1)].shape[0] / spanEval[(spanEval['yhat'].str.len() == 1)].shape[0]\n",
    "spanEval[(spanEval['y'] == spanEval['yhat']) & (spanEval['yhat'].str.len() == 3)].shape[0] / spanEval[(spanEval['yhat'].str.len() == 3)].shape[0]"
   ]
  },
  {
   "cell_type": "code",
   "execution_count": 13,
   "id": "1985fcb4-4c10-424f-b91e-896450ce9f01",
   "metadata": {},
   "outputs": [
    {
     "name": "stdout",
     "output_type": "stream",
     "text": [
      "Vobac Size 2982\n",
      "Epoch 1/14\n",
      "7/7 [==============================] - 2s 185ms/step - loss: 0.9713 - accuracy: 0.6618 - val_loss: 0.6991 - val_accuracy: 0.7590\n",
      "Epoch 2/14\n",
      "7/7 [==============================] - 1s 135ms/step - loss: 0.7179 - accuracy: 0.7386 - val_loss: 1.0208 - val_accuracy: 0.7590\n",
      "Epoch 3/14\n",
      "7/7 [==============================] - 1s 132ms/step - loss: 0.6490 - accuracy: 0.7386 - val_loss: 0.9682 - val_accuracy: 0.7590\n",
      "Epoch 4/14\n",
      "7/7 [==============================] - 1s 165ms/step - loss: 0.5671 - accuracy: 0.7386 - val_loss: 0.9102 - val_accuracy: 0.7590\n",
      "Epoch 5/14\n",
      "7/7 [==============================] - 1s 132ms/step - loss: 0.5216 - accuracy: 0.7386 - val_loss: 1.0739 - val_accuracy: 0.7590\n",
      "Epoch 6/14\n",
      "7/7 [==============================] - 1s 123ms/step - loss: 0.4798 - accuracy: 0.7386 - val_loss: 1.2924 - val_accuracy: 0.7590\n",
      "Epoch 7/14\n",
      "7/7 [==============================] - 1s 125ms/step - loss: 0.4518 - accuracy: 0.7388 - val_loss: 1.4239 - val_accuracy: 0.7590\n",
      "Epoch 8/14\n",
      "7/7 [==============================] - 1s 131ms/step - loss: 0.4313 - accuracy: 0.7683 - val_loss: 1.5125 - val_accuracy: 0.7594\n",
      "Epoch 9/14\n",
      "7/7 [==============================] - 1s 109ms/step - loss: 0.4154 - accuracy: 0.8037 - val_loss: 1.6055 - val_accuracy: 0.7604\n",
      "Epoch 10/14\n",
      "7/7 [==============================] - 1s 126ms/step - loss: 0.3989 - accuracy: 0.8265 - val_loss: 1.6895 - val_accuracy: 0.7604\n",
      "Epoch 11/14\n",
      "7/7 [==============================] - 1s 128ms/step - loss: 0.3810 - accuracy: 0.8498 - val_loss: 1.7091 - val_accuracy: 0.7618\n",
      "Epoch 12/14\n",
      "7/7 [==============================] - 1s 133ms/step - loss: 0.3601 - accuracy: 0.8665 - val_loss: 1.7359 - val_accuracy: 0.7636\n",
      "Epoch 13/14\n",
      "7/7 [==============================] - 1s 131ms/step - loss: 0.3367 - accuracy: 0.8747 - val_loss: 1.8200 - val_accuracy: 0.7622\n",
      "Epoch 14/14\n",
      "7/7 [==============================] - 1s 132ms/step - loss: 0.3173 - accuracy: 0.8762 - val_loss: 1.9269 - val_accuracy: 0.7678\n",
      "77/77 [==============================] - 0s 3ms/step\n"
     ]
    },
    {
     "data": {
      "text/plain": [
       "0.20496894409937888"
      ]
     },
     "execution_count": 13,
     "metadata": {},
     "output_type": "execute_result"
    },
    {
     "data": {
      "text/plain": [
       "0.2391304347826087"
      ]
     },
     "execution_count": 13,
     "metadata": {},
     "output_type": "execute_result"
    },
    {
     "data": {
      "text/plain": [
       "0.30097087378640774"
      ]
     },
     "execution_count": 13,
     "metadata": {},
     "output_type": "execute_result"
    },
    {
     "data": {
      "text/plain": [
       "0.029411764705882353"
      ]
     },
     "execution_count": 13,
     "metadata": {},
     "output_type": "execute_result"
    }
   ],
   "source": [
    "train, test, dev = pre_pipeline(ref=0,lemma=False)\n",
    "vectorizer = CountVectorizer()\n",
    "trainX = vectorizer.fit_transform(train[\"text\"])\n",
    "testX = vectorizer.transform(test[\"text\"])\n",
    "devX = vectorizer.transform(dev[\"text\"])\n",
    "print(\"Vobac Size\", len(vectorizer.get_feature_names_out()))\n",
    "\n",
    "le = preprocessing.OneHotEncoder()\n",
    "le = le.fit(train[\"label\"].values.reshape(-1,1))\n",
    "trainY = le.transform(train[\"label\"].values.reshape(-1,1))\n",
    "devY = le.transform(dev[\"label\"].values.reshape(-1,1))\n",
    "testY = le.transform(test[\"label\"].values.reshape(-1,1))\n",
    "\n",
    "\n",
    "\n",
    "from keras.models import Sequential\n",
    "from keras.layers import Dense, Dropout, Activation\n",
    "\n",
    "def build_model(input_dim, hidden_neurons, output_dim):\n",
    "    \"\"\"\n",
    "    Construct, compile and return a Keras model which will be used to fit/predict\n",
    "    \"\"\"\n",
    "    model = Sequential([\n",
    "        Dense(hidden_neurons, input_dim=input_dim),\n",
    "        Activation('relu'),\n",
    "        Dropout(0.2),\n",
    "        Dense(hidden_neurons),\n",
    "        Activation('relu'),\n",
    "        Dropout(0.2),\n",
    "        Dense(output_dim, activation='softmax')\n",
    "    ])\n",
    "    model.compile(loss='categorical_crossentropy', optimizer='adam', metrics=['accuracy'])\n",
    "    return model\n",
    "\n",
    "\n",
    "hist = clf.fit(trainX.toarray(), trainY.toarray())\n",
    "\n",
    "yhat = clf.predict(testX.toarray())\n",
    "\n",
    "# 0=b 1=i 2=o\n",
    "yhat = pd.DataFrame(yhat)\n",
    "yhat[yhat[0] == 0]  = 'b'\n",
    "yhat[yhat[0] == 1]  = 'i'\n",
    "yhat[yhat[0] == 2]  = 'o'\n",
    "\n",
    "\n",
    "d = {'y': test[\"label\"].values, 'yhat': yhat[0].values}\n",
    "comparison = pd.DataFrame(data=d)\n",
    "spanEval = pd.DataFrame( columns=[\"y\", \"yhat\"])\n",
    "for i in range(0, comparison.shape[0]):\n",
    "    if(comparison['y'][i] == 'b'):\n",
    "        j = i+1\n",
    "        ystr = \"b\"\n",
    "        yhatstr = comparison['yhat'][i]\n",
    "        while(comparison['y'][j] == \"i\"):\n",
    "            ystr = ystr + comparison['y'][j]\n",
    "            yhatstr = yhatstr + comparison['yhat'][j]\n",
    "            j = j + 1\n",
    "        toAppend = pd.DataFrame({'y':ystr, 'yhat':yhatstr}, index={1})\n",
    "        spanEval = pd.concat([spanEval, toAppend], ignore_index=True)\n",
    "\n",
    "spanEval[(spanEval['y'] == spanEval['yhat'])].shape[0] / spanEval.shape[0]\n",
    "spanEval[(spanEval['y'] == spanEval['yhat']) & (spanEval['yhat'].str.len() == 2)].shape[0] / spanEval[(spanEval['yhat'].str.len() == 2)].shape[0]\n",
    "spanEval[(spanEval['y'] == spanEval['yhat']) & (spanEval['yhat'].str.len() == 1)].shape[0] / spanEval[(spanEval['yhat'].str.len() == 1)].shape[0]\n",
    "spanEval[(spanEval['y'] == spanEval['yhat']) & (spanEval['yhat'].str.len() == 3)].shape[0] / spanEval[(spanEval['yhat'].str.len() == 3)].shape[0]"
   ]
  },
  {
   "cell_type": "code",
   "execution_count": 14,
   "id": "70727d63-9804-4c86-b57d-6b0d21420f3d",
   "metadata": {},
   "outputs": [
    {
     "name": "stdout",
     "output_type": "stream",
     "text": [
      "Vobac Size 2670\n"
     ]
    },
    {
     "name": "stderr",
     "output_type": "stream",
     "text": [
      "C:\\Users\\Administrator\\AppData\\Local\\Temp\\ipykernel_16440\\3123351505.py:47: DeprecationWarning: KerasClassifier is deprecated, use Sci-Keras (https://github.com/adriangb/scikeras) instead. See https://www.adriangb.com/scikeras/stable/migration.html for help migrating.\n",
      "  clf = KerasClassifier(**model_params)\n"
     ]
    },
    {
     "name": "stdout",
     "output_type": "stream",
     "text": [
      "Epoch 1/20\n",
      "38/38 [==============================] - 3s 67ms/step - loss: 0.7515 - accuracy: 0.7219 - val_loss: 0.6678 - val_accuracy: 0.7590\n",
      "Epoch 2/20\n",
      "38/38 [==============================] - 2s 61ms/step - loss: 0.6372 - accuracy: 0.7388 - val_loss: 0.6603 - val_accuracy: 0.7608\n",
      "Epoch 3/20\n",
      "38/38 [==============================] - 2s 62ms/step - loss: 0.5834 - accuracy: 0.7519 - val_loss: 0.6764 - val_accuracy: 0.7552\n",
      "Epoch 4/20\n",
      "38/38 [==============================] - 2s 64ms/step - loss: 0.5235 - accuracy: 0.7731 - val_loss: 0.7141 - val_accuracy: 0.7450\n",
      "Epoch 5/20\n",
      "38/38 [==============================] - 2s 62ms/step - loss: 0.4503 - accuracy: 0.7986 - val_loss: 0.7898 - val_accuracy: 0.7324\n",
      "Epoch 6/20\n",
      "38/38 [==============================] - 2s 63ms/step - loss: 0.3712 - accuracy: 0.8374 - val_loss: 0.9006 - val_accuracy: 0.6727\n",
      "Epoch 7/20\n",
      "38/38 [==============================] - 1s 32ms/step - loss: 0.2964 - accuracy: 0.8786 - val_loss: 1.0405 - val_accuracy: 0.6667\n",
      "Epoch 8/20\n",
      "38/38 [==============================] - 1s 31ms/step - loss: 0.2287 - accuracy: 0.9110 - val_loss: 1.1701 - val_accuracy: 0.6695\n",
      "Epoch 9/20\n",
      "38/38 [==============================] - 1s 32ms/step - loss: 0.1821 - accuracy: 0.9324 - val_loss: 1.3194 - val_accuracy: 0.6517\n",
      "Epoch 10/20\n",
      "38/38 [==============================] - 1s 30ms/step - loss: 0.1465 - accuracy: 0.9484 - val_loss: 1.4230 - val_accuracy: 0.6727\n",
      "Epoch 11/20\n",
      "38/38 [==============================] - 1s 29ms/step - loss: 0.1203 - accuracy: 0.9605 - val_loss: 1.5320 - val_accuracy: 0.6462\n",
      "Epoch 12/20\n",
      "38/38 [==============================] - 1s 29ms/step - loss: 0.1023 - accuracy: 0.9674 - val_loss: 1.6243 - val_accuracy: 0.6578\n",
      "Epoch 13/20\n",
      "38/38 [==============================] - 1s 29ms/step - loss: 0.0907 - accuracy: 0.9711 - val_loss: 1.6841 - val_accuracy: 0.6359\n",
      "Epoch 14/20\n",
      "38/38 [==============================] - 1s 29ms/step - loss: 0.0798 - accuracy: 0.9761 - val_loss: 1.7565 - val_accuracy: 0.6583\n",
      "Epoch 15/20\n",
      "38/38 [==============================] - 1s 29ms/step - loss: 0.0730 - accuracy: 0.9772 - val_loss: 1.8413 - val_accuracy: 0.6695\n",
      "Epoch 16/20\n",
      "38/38 [==============================] - 1s 29ms/step - loss: 0.0635 - accuracy: 0.9800 - val_loss: 1.9077 - val_accuracy: 0.6648\n",
      "Epoch 17/20\n",
      "38/38 [==============================] - 1s 29ms/step - loss: 0.0531 - accuracy: 0.9851 - val_loss: 1.9464 - val_accuracy: 0.6704\n",
      "Epoch 18/20\n",
      "38/38 [==============================] - 1s 29ms/step - loss: 0.0537 - accuracy: 0.9851 - val_loss: 1.9828 - val_accuracy: 0.6457\n",
      "Epoch 19/20\n",
      "38/38 [==============================] - 2s 44ms/step - loss: 0.0487 - accuracy: 0.9857 - val_loss: 1.9641 - val_accuracy: 0.6555\n",
      "Epoch 20/20\n",
      "38/38 [==============================] - 2s 63ms/step - loss: 0.0470 - accuracy: 0.9866 - val_loss: 2.0221 - val_accuracy: 0.6573\n",
      "77/77 [==============================] - 1s 11ms/step\n"
     ]
    },
    {
     "data": {
      "text/plain": [
       "0.06521739130434782"
      ]
     },
     "execution_count": 14,
     "metadata": {},
     "output_type": "execute_result"
    },
    {
     "data": {
      "text/plain": [
       "0.1553398058252427"
      ]
     },
     "execution_count": 14,
     "metadata": {},
     "output_type": "execute_result"
    },
    {
     "data": {
      "text/plain": [
       "0.028985507246376812"
      ]
     },
     "execution_count": 14,
     "metadata": {},
     "output_type": "execute_result"
    },
    {
     "data": {
      "text/plain": [
       "0.014705882352941176"
      ]
     },
     "execution_count": 14,
     "metadata": {},
     "output_type": "execute_result"
    }
   ],
   "source": [
    "train, test, dev = pre_pipeline(ref=3,lemma=True)\n",
    "vectorizer = CountVectorizer()\n",
    "trainX = vectorizer.fit_transform(train[\"text\"])\n",
    "testX = vectorizer.transform(test[\"text\"])\n",
    "devX = vectorizer.transform(dev[\"text\"])\n",
    "print(\"Vobac Size\", len(vectorizer.get_feature_names_out()))\n",
    "\n",
    "le = preprocessing.OneHotEncoder()\n",
    "le = le.fit(train[\"label\"].values.reshape(-1,1))\n",
    "trainY = le.transform(train[\"label\"].values.reshape(-1,1))\n",
    "devY = le.transform(dev[\"label\"].values.reshape(-1,1))\n",
    "testY = le.transform(test[\"label\"].values.reshape(-1,1))\n",
    "\n",
    "\n",
    "\n",
    "from keras.models import Sequential\n",
    "from keras.layers import Dense, Dropout, Activation\n",
    "\n",
    "def build_model(input_dim, hidden_neurons, output_dim):\n",
    "    \"\"\"\n",
    "    Construct, compile and return a Keras model which will be used to fit/predict\n",
    "    \"\"\"\n",
    "    model = Sequential([\n",
    "        Dense(hidden_neurons, input_dim=input_dim),\n",
    "        Activation('relu'),\n",
    "        Dropout(0.2),\n",
    "        Dense(hidden_neurons),\n",
    "        Activation('relu'),\n",
    "        Dropout(0.2),\n",
    "        Dense(output_dim, activation='softmax')\n",
    "    ])\n",
    "    model.compile(loss='categorical_crossentropy', optimizer='adam', metrics=['accuracy'])\n",
    "    return model\n",
    "\n",
    "from keras.wrappers.scikit_learn import KerasClassifier\n",
    "model_params = {\n",
    "    'build_fn': build_model,\n",
    "    'input_dim': trainX.shape[1],\n",
    "    'hidden_neurons': 512,\n",
    "    'output_dim': trainY.shape[1],\n",
    "    'epochs': 20,\n",
    "    'batch_size': 512,\n",
    "    'verbose': 1,\n",
    "    'validation_data': (devX.toarray(), devY.toarray()),\n",
    "    'shuffle': True\n",
    "}\n",
    "clf = KerasClassifier(**model_params)\n",
    "\n",
    "\n",
    "hist = clf.fit(trainX.toarray(), trainY.toarray())\n",
    "\n",
    "yhat = clf.predict(testX.toarray())\n",
    "\n",
    "# 0=b 1=i 2=o\n",
    "yhat = pd.DataFrame(yhat)\n",
    "yhat[yhat[0] == 0]  = 'b'\n",
    "yhat[yhat[0] == 1]  = 'i'\n",
    "yhat[yhat[0] == 2]  = 'o'\n",
    "\n",
    "\n",
    "d = {'y': test[\"label\"].values, 'yhat': yhat[0].values}\n",
    "comparison = pd.DataFrame(data=d)\n",
    "spanEval = pd.DataFrame( columns=[\"y\", \"yhat\"])\n",
    "for i in range(0, comparison.shape[0]):\n",
    "    if(comparison['y'][i] == 'b'):\n",
    "        j = i+1\n",
    "        ystr = \"b\"\n",
    "        yhatstr = comparison['yhat'][i]\n",
    "        while(comparison['y'][j] == \"i\"):\n",
    "            ystr = ystr + comparison['y'][j]\n",
    "            yhatstr = yhatstr + comparison['yhat'][j]\n",
    "            j = j + 1\n",
    "        toAppend = pd.DataFrame({'y':ystr, 'yhat':yhatstr}, index={1})\n",
    "        spanEval = pd.concat([spanEval, toAppend], ignore_index=True)\n",
    "\n",
    "spanEval[(spanEval['y'] == spanEval['yhat'])].shape[0] / spanEval.shape[0]\n",
    "spanEval[(spanEval['y'] == spanEval['yhat']) & (spanEval['yhat'].str.len() == 1)].shape[0] / spanEval[(spanEval['yhat'].str.len() == 1)].shape[0]\n",
    "spanEval[(spanEval['y'] == spanEval['yhat']) & (spanEval['yhat'].str.len() == 2)].shape[0] / spanEval[(spanEval['yhat'].str.len() == 2)].shape[0]\n",
    "spanEval[(spanEval['y'] == spanEval['yhat']) & (spanEval['yhat'].str.len() == 3)].shape[0] / spanEval[(spanEval['yhat'].str.len() == 3)].shape[0]"
   ]
  },
  {
   "cell_type": "code",
   "execution_count": 15,
   "id": "d76c41d8-e060-4f6b-ab5b-e37e08d267a1",
   "metadata": {},
   "outputs": [
    {
     "name": "stdout",
     "output_type": "stream",
     "text": [
      "Vobac Size 2670\n"
     ]
    },
    {
     "name": "stderr",
     "output_type": "stream",
     "text": [
      "C:\\Users\\Administrator\\AppData\\Local\\Temp\\ipykernel_16440\\3011276660.py:47: DeprecationWarning: KerasClassifier is deprecated, use Sci-Keras (https://github.com/adriangb/scikeras) instead. See https://www.adriangb.com/scikeras/stable/migration.html for help migrating.\n",
      "  clf = KerasClassifier(**model_params)\n"
     ]
    },
    {
     "name": "stdout",
     "output_type": "stream",
     "text": [
      "Epoch 1/14\n",
      "7/7 [==============================] - 2s 178ms/step - loss: 0.8960 - accuracy: 0.6720 - val_loss: 0.7083 - val_accuracy: 0.7590\n",
      "Epoch 2/14\n",
      "7/7 [==============================] - 1s 121ms/step - loss: 0.7401 - accuracy: 0.7386 - val_loss: 0.6705 - val_accuracy: 0.7590\n",
      "Epoch 3/14\n",
      "7/7 [==============================] - 1s 121ms/step - loss: 0.6668 - accuracy: 0.7386 - val_loss: 0.6653 - val_accuracy: 0.7590\n",
      "Epoch 4/14\n",
      "7/7 [==============================] - 1s 118ms/step - loss: 0.6297 - accuracy: 0.7386 - val_loss: 0.6370 - val_accuracy: 0.7590\n",
      "Epoch 5/14\n",
      "7/7 [==============================] - 1s 123ms/step - loss: 0.5999 - accuracy: 0.7386 - val_loss: 0.6310 - val_accuracy: 0.7590\n",
      "Epoch 6/14\n",
      "7/7 [==============================] - 1s 123ms/step - loss: 0.5733 - accuracy: 0.7386 - val_loss: 0.6276 - val_accuracy: 0.7590\n",
      "Epoch 7/14\n",
      "7/7 [==============================] - 1s 120ms/step - loss: 0.5508 - accuracy: 0.7427 - val_loss: 0.6284 - val_accuracy: 0.7641\n",
      "Epoch 8/14\n",
      "7/7 [==============================] - 1s 125ms/step - loss: 0.5281 - accuracy: 0.7547 - val_loss: 0.6320 - val_accuracy: 0.7650\n",
      "Epoch 9/14\n",
      "7/7 [==============================] - 1s 213ms/step - loss: 0.5038 - accuracy: 0.7720 - val_loss: 0.6359 - val_accuracy: 0.7674\n",
      "Epoch 10/14\n",
      "7/7 [==============================] - 1s 155ms/step - loss: 0.4784 - accuracy: 0.7817 - val_loss: 0.6480 - val_accuracy: 0.7678\n",
      "Epoch 11/14\n",
      "7/7 [==============================] - 1s 182ms/step - loss: 0.4507 - accuracy: 0.7948 - val_loss: 0.6610 - val_accuracy: 0.7622\n",
      "Epoch 12/14\n",
      "7/7 [==============================] - 1s 192ms/step - loss: 0.4221 - accuracy: 0.8056 - val_loss: 0.6804 - val_accuracy: 0.7590\n",
      "Epoch 13/14\n",
      "7/7 [==============================] - 1s 184ms/step - loss: 0.3877 - accuracy: 0.8259 - val_loss: 0.7052 - val_accuracy: 0.7571\n",
      "Epoch 14/14\n",
      "7/7 [==============================] - 1s 175ms/step - loss: 0.3540 - accuracy: 0.8460 - val_loss: 0.7362 - val_accuracy: 0.7576\n",
      "77/77 [==============================] - 1s 11ms/step\n"
     ]
    },
    {
     "data": {
      "text/plain": [
       "0.015527950310559006"
      ]
     },
     "execution_count": 15,
     "metadata": {},
     "output_type": "execute_result"
    },
    {
     "data": {
      "text/plain": [
       "0.007246376811594203"
      ]
     },
     "execution_count": 15,
     "metadata": {},
     "output_type": "execute_result"
    },
    {
     "data": {
      "text/plain": [
       "0.02912621359223301"
      ]
     },
     "execution_count": 15,
     "metadata": {},
     "output_type": "execute_result"
    },
    {
     "data": {
      "text/plain": [
       "0.014705882352941176"
      ]
     },
     "execution_count": 15,
     "metadata": {},
     "output_type": "execute_result"
    }
   ],
   "source": [
    "train, test, dev = pre_pipeline(ref=2,lemma=True)\n",
    "vectorizer = CountVectorizer()\n",
    "trainX = vectorizer.fit_transform(train[\"text\"])\n",
    "testX = vectorizer.transform(test[\"text\"])\n",
    "devX = vectorizer.transform(dev[\"text\"])\n",
    "print(\"Vobac Size\", len(vectorizer.get_feature_names_out()))\n",
    "\n",
    "le = preprocessing.OneHotEncoder()\n",
    "le = le.fit(train[\"label\"].values.reshape(-1,1))\n",
    "trainY = le.transform(train[\"label\"].values.reshape(-1,1))\n",
    "devY = le.transform(dev[\"label\"].values.reshape(-1,1))\n",
    "testY = le.transform(test[\"label\"].values.reshape(-1,1))\n",
    "\n",
    "\n",
    "\n",
    "from keras.models import Sequential\n",
    "from keras.layers import Dense, Dropout, Activation\n",
    "\n",
    "def build_model(input_dim, hidden_neurons, output_dim):\n",
    "    \"\"\"\n",
    "    Construct, compile and return a Keras model which will be used to fit/predict\n",
    "    \"\"\"\n",
    "    model = Sequential([\n",
    "        Dense(hidden_neurons, input_dim=input_dim),\n",
    "        Activation('relu'),\n",
    "        Dropout(0.2),\n",
    "        Dense(hidden_neurons),\n",
    "        Activation('relu'),\n",
    "        Dropout(0.2),\n",
    "        Dense(output_dim, activation='softmax')\n",
    "    ])\n",
    "    model.compile(loss='categorical_crossentropy', optimizer='adam', metrics=['accuracy'])\n",
    "    return model\n",
    "\n",
    "from keras.wrappers.scikit_learn import KerasClassifier\n",
    "model_params = {\n",
    "    'build_fn': build_model,\n",
    "    'input_dim': trainX.shape[1],\n",
    "    'hidden_neurons': 512,\n",
    "    'output_dim': trainY.shape[1],\n",
    "    'epochs': 14,\n",
    "    'batch_size': 3000,\n",
    "    'verbose': 1,\n",
    "    'validation_data': (devX.toarray(), devY.toarray()),\n",
    "    'shuffle': True\n",
    "}\n",
    "clf = KerasClassifier(**model_params)\n",
    "\n",
    "\n",
    "hist = clf.fit(trainX.toarray(), trainY.toarray())\n",
    "\n",
    "yhat = clf.predict(testX.toarray())\n",
    "\n",
    "# 0=b 1=i 2=o\n",
    "yhat = pd.DataFrame(yhat)\n",
    "yhat[yhat[0] == 0]  = 'b'\n",
    "yhat[yhat[0] == 1]  = 'i'\n",
    "yhat[yhat[0] == 2]  = 'o'\n",
    "\n",
    "\n",
    "d = {'y': test[\"label\"].values, 'yhat': yhat[0].values}\n",
    "comparison = pd.DataFrame(data=d)\n",
    "spanEval = pd.DataFrame( columns=[\"y\", \"yhat\"])\n",
    "for i in range(0, comparison.shape[0]):\n",
    "    if(comparison['y'][i] == 'b'):\n",
    "        j = i+1\n",
    "        ystr = \"b\"\n",
    "        yhatstr = comparison['yhat'][i]\n",
    "        while(comparison['y'][j] == \"i\"):\n",
    "            ystr = ystr + comparison['y'][j]\n",
    "            yhatstr = yhatstr + comparison['yhat'][j]\n",
    "            j = j + 1\n",
    "        toAppend = pd.DataFrame({'y':ystr, 'yhat':yhatstr}, index={1})\n",
    "        spanEval = pd.concat([spanEval, toAppend], ignore_index=True)\n",
    "\n",
    "spanEval[(spanEval['y'] == spanEval['yhat'])].shape[0] / spanEval.shape[0]\n",
    "spanEval[(spanEval['y'] == spanEval['yhat']) & (spanEval['yhat'].str.len() == 2)].shape[0] / spanEval[(spanEval['yhat'].str.len() == 2)].shape[0]\n",
    "spanEval[(spanEval['y'] == spanEval['yhat']) & (spanEval['yhat'].str.len() == 1)].shape[0] / spanEval[(spanEval['yhat'].str.len() == 1)].shape[0]\n",
    "spanEval[(spanEval['y'] == spanEval['yhat']) & (spanEval['yhat'].str.len() == 3)].shape[0] / spanEval[(spanEval['yhat'].str.len() == 3)].shape[0]"
   ]
  },
  {
   "cell_type": "code",
   "execution_count": 16,
   "id": "d7d6e87a-3a7e-4bce-a68e-70094c13641f",
   "metadata": {},
   "outputs": [
    {
     "name": "stdout",
     "output_type": "stream",
     "text": [
      "Vobac Size 2670\n"
     ]
    },
    {
     "name": "stderr",
     "output_type": "stream",
     "text": [
      "C:\\Users\\Administrator\\AppData\\Local\\Temp\\ipykernel_16440\\2954131628.py:47: DeprecationWarning: KerasClassifier is deprecated, use Sci-Keras (https://github.com/adriangb/scikeras) instead. See https://www.adriangb.com/scikeras/stable/migration.html for help migrating.\n",
      "  clf = KerasClassifier(**model_params)\n"
     ]
    },
    {
     "name": "stdout",
     "output_type": "stream",
     "text": [
      "Epoch 1/20\n",
      "38/38 [==============================] - 3s 37ms/step - loss: 0.7164 - accuracy: 0.7251 - val_loss: 0.5948 - val_accuracy: 0.7590\n",
      "Epoch 2/20\n",
      "38/38 [==============================] - 1s 29ms/step - loss: 0.5311 - accuracy: 0.7597 - val_loss: 0.5581 - val_accuracy: 0.7832\n",
      "Epoch 3/20\n",
      "38/38 [==============================] - 1s 30ms/step - loss: 0.4371 - accuracy: 0.8159 - val_loss: 0.5703 - val_accuracy: 0.7762\n",
      "Epoch 4/20\n",
      "38/38 [==============================] - 2s 48ms/step - loss: 0.3556 - accuracy: 0.8553 - val_loss: 0.6183 - val_accuracy: 0.7809\n",
      "Epoch 5/20\n",
      "38/38 [==============================] - 3s 78ms/step - loss: 0.2820 - accuracy: 0.8899 - val_loss: 0.6744 - val_accuracy: 0.7758\n",
      "Epoch 6/20\n",
      "38/38 [==============================] - 2s 63ms/step - loss: 0.2137 - accuracy: 0.9195 - val_loss: 0.7556 - val_accuracy: 0.7781\n",
      "Epoch 7/20\n",
      "38/38 [==============================] - 3s 68ms/step - loss: 0.1569 - accuracy: 0.9467 - val_loss: 0.8348 - val_accuracy: 0.7767\n",
      "Epoch 8/20\n",
      "38/38 [==============================] - 3s 70ms/step - loss: 0.1152 - accuracy: 0.9623 - val_loss: 0.9059 - val_accuracy: 0.7697\n",
      "Epoch 9/20\n",
      "38/38 [==============================] - 3s 66ms/step - loss: 0.0896 - accuracy: 0.9708 - val_loss: 0.9943 - val_accuracy: 0.7860\n",
      "Epoch 10/20\n",
      "38/38 [==============================] - 2s 43ms/step - loss: 0.0678 - accuracy: 0.9780 - val_loss: 1.0576 - val_accuracy: 0.7846\n",
      "Epoch 11/20\n",
      "38/38 [==============================] - 1s 33ms/step - loss: 0.0641 - accuracy: 0.9797 - val_loss: 1.1019 - val_accuracy: 0.7753\n",
      "Epoch 12/20\n",
      "38/38 [==============================] - 1s 31ms/step - loss: 0.0591 - accuracy: 0.9800 - val_loss: 1.1478 - val_accuracy: 0.7869\n",
      "Epoch 13/20\n",
      "38/38 [==============================] - 1s 29ms/step - loss: 0.0523 - accuracy: 0.9819 - val_loss: 1.1928 - val_accuracy: 0.7832\n",
      "Epoch 14/20\n",
      "38/38 [==============================] - 1s 29ms/step - loss: 0.0492 - accuracy: 0.9826 - val_loss: 1.2137 - val_accuracy: 0.7832\n",
      "Epoch 15/20\n",
      "38/38 [==============================] - 1s 29ms/step - loss: 0.0456 - accuracy: 0.9847 - val_loss: 1.2107 - val_accuracy: 0.7795\n",
      "Epoch 16/20\n",
      "38/38 [==============================] - 1s 29ms/step - loss: 0.0479 - accuracy: 0.9837 - val_loss: 1.1793 - val_accuracy: 0.7692\n",
      "Epoch 17/20\n",
      "38/38 [==============================] - 1s 30ms/step - loss: 0.0433 - accuracy: 0.9854 - val_loss: 1.2603 - val_accuracy: 0.7828\n",
      "Epoch 18/20\n",
      "38/38 [==============================] - 1s 29ms/step - loss: 0.0430 - accuracy: 0.9861 - val_loss: 1.2284 - val_accuracy: 0.7767\n",
      "Epoch 19/20\n",
      "38/38 [==============================] - 1s 29ms/step - loss: 0.0402 - accuracy: 0.9862 - val_loss: 1.2885 - val_accuracy: 0.7846\n",
      "Epoch 20/20\n",
      "38/38 [==============================] - 1s 29ms/step - loss: 0.0424 - accuracy: 0.9865 - val_loss: 1.2247 - val_accuracy: 0.7674\n",
      "77/77 [==============================] - 0s 3ms/step\n"
     ]
    },
    {
     "data": {
      "text/plain": [
       "0.10559006211180125"
      ]
     },
     "execution_count": 16,
     "metadata": {},
     "output_type": "execute_result"
    },
    {
     "data": {
      "text/plain": [
       "0.1262135922330097"
      ]
     },
     "execution_count": 16,
     "metadata": {},
     "output_type": "execute_result"
    },
    {
     "data": {
      "text/plain": [
       "0.10144927536231885"
      ]
     },
     "execution_count": 16,
     "metadata": {},
     "output_type": "execute_result"
    },
    {
     "data": {
      "text/plain": [
       "0.08823529411764706"
      ]
     },
     "execution_count": 16,
     "metadata": {},
     "output_type": "execute_result"
    }
   ],
   "source": [
    "train, test, dev = pre_pipeline(ref=1,lemma=True)\n",
    "vectorizer = CountVectorizer()\n",
    "trainX = vectorizer.fit_transform(train[\"text\"])\n",
    "testX = vectorizer.transform(test[\"text\"])\n",
    "devX = vectorizer.transform(dev[\"text\"])\n",
    "print(\"Vobac Size\", len(vectorizer.get_feature_names_out()))\n",
    "\n",
    "le = preprocessing.OneHotEncoder()\n",
    "le = le.fit(train[\"label\"].values.reshape(-1,1))\n",
    "trainY = le.transform(train[\"label\"].values.reshape(-1,1))\n",
    "devY = le.transform(dev[\"label\"].values.reshape(-1,1))\n",
    "testY = le.transform(test[\"label\"].values.reshape(-1,1))\n",
    "\n",
    "\n",
    "\n",
    "from keras.models import Sequential\n",
    "from keras.layers import Dense, Dropout, Activation\n",
    "\n",
    "def build_model(input_dim, hidden_neurons, output_dim):\n",
    "    \"\"\"\n",
    "    Construct, compile and return a Keras model which will be used to fit/predict\n",
    "    \"\"\"\n",
    "    model = Sequential([\n",
    "        Dense(hidden_neurons, input_dim=input_dim),\n",
    "        Activation('relu'),\n",
    "        Dropout(0.2),\n",
    "        Dense(hidden_neurons),\n",
    "        Activation('relu'),\n",
    "        Dropout(0.2),\n",
    "        Dense(output_dim, activation='softmax')\n",
    "    ])\n",
    "    model.compile(loss='categorical_crossentropy', optimizer='adam', metrics=['accuracy'])\n",
    "    return model\n",
    "\n",
    "from keras.wrappers.scikit_learn import KerasClassifier\n",
    "model_params = {\n",
    "    'build_fn': build_model,\n",
    "    'input_dim': trainX.shape[1],\n",
    "    'hidden_neurons': 512,\n",
    "    'output_dim': trainY.shape[1],\n",
    "    'epochs': 20,\n",
    "    'batch_size': 512,\n",
    "    'verbose': 1,\n",
    "    'validation_data': (devX.toarray(), devY.toarray()),\n",
    "    'shuffle': True\n",
    "}\n",
    "clf = KerasClassifier(**model_params)\n",
    "\n",
    "\n",
    "hist = clf.fit(trainX.toarray(), trainY.toarray())\n",
    "\n",
    "yhat = clf.predict(testX.toarray())\n",
    "\n",
    "# 0=b 1=i 2=o\n",
    "yhat = pd.DataFrame(yhat)\n",
    "yhat[yhat[0] == 0]  = 'b'\n",
    "yhat[yhat[0] == 1]  = 'i'\n",
    "yhat[yhat[0] == 2]  = 'o'\n",
    "\n",
    "\n",
    "d = {'y': test[\"label\"].values, 'yhat': yhat[0].values}\n",
    "comparison = pd.DataFrame(data=d)\n",
    "spanEval = pd.DataFrame( columns=[\"y\", \"yhat\"])\n",
    "for i in range(0, comparison.shape[0]):\n",
    "    if(comparison['y'][i] == 'b'):\n",
    "        j = i+1\n",
    "        ystr = \"b\"\n",
    "        yhatstr = comparison['yhat'][i]\n",
    "        while(comparison['y'][j] == \"i\"):\n",
    "            ystr = ystr + comparison['y'][j]\n",
    "            yhatstr = yhatstr + comparison['yhat'][j]\n",
    "            j = j + 1\n",
    "        toAppend = pd.DataFrame({'y':ystr, 'yhat':yhatstr}, index={1})\n",
    "        spanEval = pd.concat([spanEval, toAppend], ignore_index=True)\n",
    "\n",
    "spanEval[(spanEval['y'] == spanEval['yhat'])].shape[0] / spanEval.shape[0]\n",
    "spanEval[(spanEval['y'] == spanEval['yhat']) & (spanEval['yhat'].str.len() == 1)].shape[0] / spanEval[(spanEval['yhat'].str.len() == 1)].shape[0]\n",
    "spanEval[(spanEval['y'] == spanEval['yhat']) & (spanEval['yhat'].str.len() == 2)].shape[0] / spanEval[(spanEval['yhat'].str.len() == 2)].shape[0]\n",
    "spanEval[(spanEval['y'] == spanEval['yhat']) & (spanEval['yhat'].str.len() == 3)].shape[0] / spanEval[(spanEval['yhat'].str.len() == 3)].shape[0]"
   ]
  },
  {
   "cell_type": "code",
   "execution_count": 17,
   "id": "98e02463-0afe-4877-bd63-5c9084436dc5",
   "metadata": {},
   "outputs": [
    {
     "name": "stdout",
     "output_type": "stream",
     "text": [
      "Vobac Size 2670\n"
     ]
    },
    {
     "name": "stderr",
     "output_type": "stream",
     "text": [
      "C:\\Users\\Administrator\\AppData\\Local\\Temp\\ipykernel_16440\\2479509119.py:47: DeprecationWarning: KerasClassifier is deprecated, use Sci-Keras (https://github.com/adriangb/scikeras) instead. See https://www.adriangb.com/scikeras/stable/migration.html for help migrating.\n",
      "  clf = KerasClassifier(**model_params)\n"
     ]
    },
    {
     "name": "stdout",
     "output_type": "stream",
     "text": [
      "Epoch 1/20\n",
      "38/38 [==============================] - 4s 56ms/step - loss: 0.7296 - accuracy: 0.7230 - val_loss: 0.5685 - val_accuracy: 0.7590\n",
      "Epoch 2/20\n",
      "38/38 [==============================] - 2s 43ms/step - loss: 0.5153 - accuracy: 0.7467 - val_loss: 0.5116 - val_accuracy: 0.7888\n",
      "Epoch 3/20\n",
      "38/38 [==============================] - 2s 45ms/step - loss: 0.4338 - accuracy: 0.8136 - val_loss: 0.4797 - val_accuracy: 0.8084\n",
      "Epoch 4/20\n",
      "38/38 [==============================] - 2s 44ms/step - loss: 0.3650 - accuracy: 0.8504 - val_loss: 0.4773 - val_accuracy: 0.8112\n",
      "Epoch 5/20\n",
      "38/38 [==============================] - 2s 42ms/step - loss: 0.3320 - accuracy: 0.8599 - val_loss: 0.4879 - val_accuracy: 0.8145\n",
      "Epoch 6/20\n",
      "38/38 [==============================] - 2s 43ms/step - loss: 0.3192 - accuracy: 0.8609 - val_loss: 0.4957 - val_accuracy: 0.8126\n",
      "Epoch 7/20\n",
      "38/38 [==============================] - 2s 43ms/step - loss: 0.3141 - accuracy: 0.8585 - val_loss: 0.4990 - val_accuracy: 0.8103\n",
      "Epoch 8/20\n",
      "38/38 [==============================] - 2s 43ms/step - loss: 0.3086 - accuracy: 0.8618 - val_loss: 0.5057 - val_accuracy: 0.8079\n",
      "Epoch 9/20\n",
      "38/38 [==============================] - 2s 43ms/step - loss: 0.3060 - accuracy: 0.8600 - val_loss: 0.5182 - val_accuracy: 0.8131\n",
      "Epoch 10/20\n",
      "38/38 [==============================] - 2s 43ms/step - loss: 0.3039 - accuracy: 0.8595 - val_loss: 0.5096 - val_accuracy: 0.8135\n",
      "Epoch 11/20\n",
      "38/38 [==============================] - 2s 43ms/step - loss: 0.3007 - accuracy: 0.8618 - val_loss: 0.5242 - val_accuracy: 0.8107\n",
      "Epoch 12/20\n",
      "38/38 [==============================] - 1s 34ms/step - loss: 0.3020 - accuracy: 0.8609 - val_loss: 0.5158 - val_accuracy: 0.8093\n",
      "Epoch 13/20\n",
      "38/38 [==============================] - 1s 31ms/step - loss: 0.2978 - accuracy: 0.8632 - val_loss: 0.5282 - val_accuracy: 0.8135\n",
      "Epoch 14/20\n",
      "38/38 [==============================] - 1s 30ms/step - loss: 0.2990 - accuracy: 0.8612 - val_loss: 0.5208 - val_accuracy: 0.8172\n",
      "Epoch 15/20\n",
      "38/38 [==============================] - 1s 31ms/step - loss: 0.2974 - accuracy: 0.8640 - val_loss: 0.5341 - val_accuracy: 0.8126\n",
      "Epoch 16/20\n",
      "38/38 [==============================] - 1s 29ms/step - loss: 0.2949 - accuracy: 0.8632 - val_loss: 0.5277 - val_accuracy: 0.8079\n",
      "Epoch 17/20\n",
      "38/38 [==============================] - 1s 29ms/step - loss: 0.2961 - accuracy: 0.8645 - val_loss: 0.5341 - val_accuracy: 0.8098\n",
      "Epoch 18/20\n",
      "38/38 [==============================] - 1s 29ms/step - loss: 0.2950 - accuracy: 0.8633 - val_loss: 0.5293 - val_accuracy: 0.8112\n",
      "Epoch 19/20\n",
      "38/38 [==============================] - 1s 29ms/step - loss: 0.2935 - accuracy: 0.8648 - val_loss: 0.5269 - val_accuracy: 0.8117\n",
      "Epoch 20/20\n",
      "38/38 [==============================] - 1s 30ms/step - loss: 0.2926 - accuracy: 0.8650 - val_loss: 0.5536 - val_accuracy: 0.8117\n",
      "77/77 [==============================] - 0s 3ms/step\n"
     ]
    },
    {
     "data": {
      "text/plain": [
       "0.15838509316770186"
      ]
     },
     "execution_count": 17,
     "metadata": {},
     "output_type": "execute_result"
    },
    {
     "data": {
      "text/plain": [
       "0.27184466019417475"
      ]
     },
     "execution_count": 17,
     "metadata": {},
     "output_type": "execute_result"
    },
    {
     "data": {
      "text/plain": [
       "0.15217391304347827"
      ]
     },
     "execution_count": 17,
     "metadata": {},
     "output_type": "execute_result"
    },
    {
     "data": {
      "text/plain": [
       "0.029411764705882353"
      ]
     },
     "execution_count": 17,
     "metadata": {},
     "output_type": "execute_result"
    }
   ],
   "source": [
    "train, test, dev = pre_pipeline(ref=0,lemma=True)\n",
    "vectorizer = CountVectorizer()\n",
    "trainX = vectorizer.fit_transform(train[\"text\"])\n",
    "testX = vectorizer.transform(test[\"text\"])\n",
    "devX = vectorizer.transform(dev[\"text\"])\n",
    "print(\"Vobac Size\", len(vectorizer.get_feature_names_out()))\n",
    "\n",
    "le = preprocessing.OneHotEncoder()\n",
    "le = le.fit(train[\"label\"].values.reshape(-1,1))\n",
    "trainY = le.transform(train[\"label\"].values.reshape(-1,1))\n",
    "devY = le.transform(dev[\"label\"].values.reshape(-1,1))\n",
    "testY = le.transform(test[\"label\"].values.reshape(-1,1))\n",
    "\n",
    "\n",
    "\n",
    "from keras.models import Sequential\n",
    "from keras.layers import Dense, Dropout, Activation\n",
    "\n",
    "def build_model(input_dim, hidden_neurons, output_dim):\n",
    "    \"\"\"\n",
    "    Construct, compile and return a Keras model which will be used to fit/predict\n",
    "    \"\"\"\n",
    "    model = Sequential([\n",
    "        Dense(hidden_neurons, input_dim=input_dim),\n",
    "        Activation('relu'),\n",
    "        Dropout(0.2),\n",
    "        Dense(hidden_neurons),\n",
    "        Activation('relu'),\n",
    "        Dropout(0.2),\n",
    "        Dense(output_dim, activation='softmax')\n",
    "    ])\n",
    "    model.compile(loss='categorical_crossentropy', optimizer='adam', metrics=['accuracy'])\n",
    "    return model\n",
    "\n",
    "from keras.wrappers.scikit_learn import KerasClassifier\n",
    "model_params = {\n",
    "    'build_fn': build_model,\n",
    "    'input_dim': trainX.shape[1],\n",
    "    'hidden_neurons': 512,\n",
    "    'output_dim': trainY.shape[1],\n",
    "    'epochs': 20,\n",
    "    'batch_size': 512,\n",
    "    'verbose': 1,\n",
    "    'validation_data': (devX.toarray(), devY.toarray()),\n",
    "    'shuffle': True\n",
    "}\n",
    "clf = KerasClassifier(**model_params)\n",
    "\n",
    "\n",
    "hist = clf.fit(trainX.toarray(), trainY.toarray())\n",
    "\n",
    "yhat = clf.predict(testX.toarray())\n",
    "\n",
    "# 0=b 1=i 2=o\n",
    "yhat = pd.DataFrame(yhat)\n",
    "yhat[yhat[0] == 0]  = 'b'\n",
    "yhat[yhat[0] == 1]  = 'i'\n",
    "yhat[yhat[0] == 2]  = 'o'\n",
    "\n",
    "\n",
    "d = {'y': test[\"label\"].values, 'yhat': yhat[0].values}\n",
    "comparison = pd.DataFrame(data=d)\n",
    "spanEval = pd.DataFrame( columns=[\"y\", \"yhat\"])\n",
    "for i in range(0, comparison.shape[0]):\n",
    "    if(comparison['y'][i] == 'b'):\n",
    "        j = i+1\n",
    "        ystr = \"b\"\n",
    "        yhatstr = comparison['yhat'][i]\n",
    "        while(comparison['y'][j] == \"i\"):\n",
    "            ystr = ystr + comparison['y'][j]\n",
    "            yhatstr = yhatstr + comparison['yhat'][j]\n",
    "            j = j + 1\n",
    "        toAppend = pd.DataFrame({'y':ystr, 'yhat':yhatstr}, index={1})\n",
    "        spanEval = pd.concat([spanEval, toAppend], ignore_index=True)\n",
    "\n",
    "spanEval[(spanEval['y'] == spanEval['yhat'])].shape[0] / spanEval.shape[0]\n",
    "spanEval[(spanEval['y'] == spanEval['yhat']) & (spanEval['yhat'].str.len() == 1)].shape[0] / spanEval[(spanEval['yhat'].str.len() == 1)].shape[0]\n",
    "spanEval[(spanEval['y'] == spanEval['yhat']) & (spanEval['yhat'].str.len() == 2)].shape[0] / spanEval[(spanEval['yhat'].str.len() == 2)].shape[0]\n",
    "spanEval[(spanEval['y'] == spanEval['yhat']) & (spanEval['yhat'].str.len() == 3)].shape[0] / spanEval[(spanEval['yhat'].str.len() == 3)].shape[0]"
   ]
  },
  {
   "cell_type": "code",
   "execution_count": null,
   "id": "e5a71109-f31a-44f6-8d21-cebbef0be93c",
   "metadata": {},
   "outputs": [],
   "source": [
    "20.8 18.9 20.8 21.1 17.7 17.7 21.1 18.32\n",
    "29.13 28.15 29.13 28.16 28.15 29.13 22.4 26.2\n",
    "25.3 28.16 23.9 26.8 18.84 1.67 33 18.84\n",
    "2.94 2.94 5.88 2.94 2.94 5.88 4.41 8.8"
   ]
  }
 ],
 "metadata": {
  "kernelspec": {
   "display_name": "Python [conda env:Terminology]",
   "language": "python",
   "name": "conda-env-Terminology-py"
  },
  "language_info": {
   "codemirror_mode": {
    "name": "ipython",
    "version": 3
   },
   "file_extension": ".py",
   "mimetype": "text/x-python",
   "name": "python",
   "nbconvert_exporter": "python",
   "pygments_lexer": "ipython3",
   "version": "3.10.8"
  }
 },
 "nbformat": 4,
 "nbformat_minor": 5
}
