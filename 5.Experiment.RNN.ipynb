{
 "cells": [
  {
   "cell_type": "code",
   "execution_count": 1,
   "id": "19cc7ecd-9b4a-490d-86c0-f08a21394fa6",
   "metadata": {},
   "outputs": [
    {
     "name": "stderr",
     "output_type": "stream",
     "text": [
      "2022-12-19 03:43:08.088796: I tensorflow/core/platform/cpu_feature_guard.cc:193] This TensorFlow binary is optimized with oneAPI Deep Neural Network Library (oneDNN) to use the following CPU instructions in performance-critical operations:  AVX2 FMA\n",
      "To enable them in other operations, rebuild TensorFlow with the appropriate compiler flags.\n",
      "2022-12-19 03:43:08.267893: W tensorflow/compiler/xla/stream_executor/platform/default/dso_loader.cc:64] Could not load dynamic library 'libcudart.so.11.0'; dlerror: libcudart.so.11.0: cannot open shared object file: No such file or directory\n",
      "2022-12-19 03:43:08.267929: I tensorflow/compiler/xla/stream_executor/cuda/cudart_stub.cc:29] Ignore above cudart dlerror if you do not have a GPU set up on your machine.\n",
      "2022-12-19 03:43:09.199188: W tensorflow/compiler/xla/stream_executor/platform/default/dso_loader.cc:64] Could not load dynamic library 'libnvinfer.so.7'; dlerror: libnvinfer.so.7: cannot open shared object file: No such file or directory\n",
      "2022-12-19 03:43:09.199785: W tensorflow/compiler/xla/stream_executor/platform/default/dso_loader.cc:64] Could not load dynamic library 'libnvinfer_plugin.so.7'; dlerror: libnvinfer_plugin.so.7: cannot open shared object file: No such file or directory\n",
      "2022-12-19 03:43:09.199795: W tensorflow/compiler/tf2tensorrt/utils/py_utils.cc:38] TF-TRT Warning: Cannot dlopen some TensorRT libraries. If you would like to use Nvidia GPU with TensorRT, please make sure the missing libraries mentioned above are installed properly.\n"
     ]
    }
   ],
   "source": [
    "from keras.models import Sequential\n",
    "from keras.layers import Embedding\n",
    "from keras.layers import Dense, Input\n",
    "from keras.layers import TimeDistributed\n",
    "from keras.layers import LSTM, GRU, Bidirectional, SimpleRNN, RNN\n",
    "from keras.preprocessing.text import Tokenizer\n",
    "from keras.models import Model\n",
    "import keras"
   ]
  },
  {
   "cell_type": "code",
   "execution_count": 2,
   "id": "9adc3b8e-105c-4575-a955-1ac20c5896bf",
   "metadata": {},
   "outputs": [],
   "source": [
    "import os\n",
    "import nltk\n",
    "import pandas as pd\n",
    "import numpy as np\n",
    "from sklearn import preprocessing, pipeline, svm, linear_model, neighbors, metrics, ensemble\n",
    "from sklearn.feature_extraction.text import CountVectorizer, TfidfVectorizer\n",
    "import matplotlib.pyplot as plt\n",
    "import seaborn as sns\n",
    "from nltk.stem import WordNetLemmatizer\n",
    "from nltk import wordpunct_tokenize, WordNetLemmatizer, sent_tokenize, pos_tag\n",
    "from nltk.corpus import stopwords as sw, wordnet as wn\n",
    "import re\n",
    "import string \n",
    "import copy\n",
    "from unidecode import unidecode\n",
    "\n",
    "from gensim.models import KeyedVectors\n",
    "from keras.utils.np_utils import to_categorical\n",
    "from tensorflow.keras.preprocessing.sequence import pad_sequences\n",
    "\n",
    "from IPython.core.interactiveshell import InteractiveShell\n",
    "InteractiveShell.ast_node_interactivity = \"all\"\n",
    "\n",
    "dataPath = os.path.join('.', \"data\")\n",
    "from pathlib import Path\n",
    "dataPath = Path(dataPath)"
   ]
  },
  {
   "cell_type": "code",
   "execution_count": 3,
   "id": "980cbd51-07f6-469e-b15e-5c8e69977b25",
   "metadata": {},
   "outputs": [],
   "source": [
    "CUSTOM_SEED = 42\n",
    "np.random.seed(CUSTOM_SEED)"
   ]
  },
  {
   "cell_type": "code",
   "execution_count": 4,
   "id": "81014b72-c790-44fc-8a87-0a772471eb41",
   "metadata": {},
   "outputs": [],
   "source": [
    "def find_files(search_path):\n",
    "    result = []\n",
    "    # Walking top-down from the root\n",
    "    for root, dir, files in os.walk(search_path):\n",
    "        for file in files:       \n",
    "                result.append(os.path.join(root, file))\n",
    "    return result\n",
    "\n",
    "def loadData(paths):\n",
    "    data = pd.DataFrame(columns=[\"tokens\", \"label\"])\n",
    "    for i in paths:\n",
    "        try:\n",
    "            doc = pd.read_csv(i, sep=\"\\t\", names=[\"tokens\", \"label\"], header=None)\n",
    "            doc['file'] = i[12:-5]\n",
    "            data = pd.concat([data, doc], ignore_index=True)\n",
    "        except Exception as e: \n",
    "            print(i, e)\n",
    "    return data\n",
    "\n",
    "def stripSpaces(x):\n",
    "    x = unidecode(x)\n",
    "    specialchar = \"!@#$%^&*()[]{};:,./<>?\\|`-~=_+\\t\\n\"\n",
    "    for tag in specialchar:\n",
    "        x = x.replace(tag, '')\n",
    "    x = x.replace(\" \", \"\")\n",
    "    x = x.lower()\n",
    "    x = x.strip()\n",
    "    return x\n",
    "\n",
    "def cleaning(_dataset, lemma=True, pos=False, verbose=True):\n",
    "    dataset = _dataset.copy()\n",
    "    dataset.drop(dataset[dataset[\"tokens\"].isna()].index, inplace=True)\n",
    "    if verbose: \n",
    "        print(\"Size after Dropping Null Tokens\",dataset.shape)\n",
    "        print(\"Tokens Without labels:\")\n",
    "    for indexWithNullLabel in dataset[dataset[\"label\"].isna()].index:\n",
    "        token = dataset[\"tokens\"][indexWithNullLabel]\n",
    "        #split with ' ' doesnt consider multiple spaces as one\n",
    "        tokenslist = token.split()\n",
    "        dataset[\"tokens\"][indexWithNullLabel] = tokenslist[0]\n",
    "\n",
    "        if (len(tokenslist) > 1):\n",
    "            dataset[\"label\"][indexWithNullLabel] = tokenslist[1]\n",
    "        else:\n",
    "            if verbose:\n",
    "                print(dataset.loc[indexWithNullLabel, :])\n",
    "            #Manual Correction for 5467 and 5858 (very & research)\n",
    "            dataset[\"label\"][indexWithNullLabel] = 'O'\n",
    "            if verbose:\n",
    "                print(\"Manual Corrected:\", dataset[\"tokens\"][indexWithNullLabel])\n",
    "    dataset = dataset.applymap(stripSpaces)\n",
    "    #label to handel 0, i*, b*, o*, 0*\n",
    "    dataset[dataset[\"label\"] == 'ii'] = 'i'\n",
    "    dataset[dataset[\"label\"] == '0'] = 'o'\n",
    "    if verbose:\n",
    "        print(\"Removing special characters\")\n",
    "    specialCharTokens = dataset[~(dataset[\"tokens\"].str.isalnum())][\"tokens\"].unique()\n",
    "    #for sprecialChar with label B, moving label to next row and droping rows  \n",
    "    specialCharWithB = dataset[dataset[\"tokens\"].isin(specialCharTokens) & (dataset[\"label\"] == 'b')].index\n",
    "    for i in specialCharWithB:\n",
    "        dataset.loc[i+1, \"label\"] = 'b'\n",
    "    dataset.drop(dataset[dataset[\"tokens\"].isin(specialCharTokens) & ((dataset[\"label\"] == 'o') | (dataset[\"label\"] == 'b') )].index, inplace=True)\n",
    "    #Drop i where there is i and b before it\n",
    "    toDrop = []\n",
    "    for i in dataset[dataset[\"tokens\"].isin(specialCharTokens)].index:\n",
    "        if(dataset[\"label\"][i-1] == 'b' or dataset[\"label\"][i-1] == 'i' ):\n",
    "            toDrop.append(i)\n",
    "        else:\n",
    "            dataset[\"label\"][i] = 'b'\n",
    "    dataset.drop(toDrop, axis=0, inplace=True)\n",
    "    if verbose:\n",
    "        print(dataset.value_counts()[:30])\n",
    "        print(\"Removing Stopwords based on above listed most frequent words\")\n",
    "    stopwords = [\"about\", \"all\", \"also\", \"among\", \"at\", \"available\", \"be\", \"because\", \"been\", \"both\", \"but\", \"by\", \"can\", \"each\", \"first\", \"has\", \"have\", \"here\", \"how\",\n",
    "             \"however\", \"into\", \"it\", \"its\", \"large\", \"learn\", \"many\", \"may\", \"more\", \"most\", \"much\", \"new\", \"not\", \"often\", \"only\", \"or\", \"other\", \"over\", \"recent\", \"related\", \"same\",\n",
    "             \"several\", \"shown\", \"some\", \"studies\", \"such\", \"than\", \"their\", \"them\", \"then\", \"there\", \"these\", \"they\", \"those\", \"through\", \"use\", \"used\", \"we\", \"well\", \"what\",\n",
    "             \"when\", \"where\", \"which\"]\n",
    "    if verbose:\n",
    "        print(\"Label order correction:\")\n",
    "    dataset.reset_index(drop=True, inplace=True)\n",
    "    temp = dataset.copy()\n",
    "    temp[\"before\"] = temp[\"label\"].shift(1)\n",
    "    temp[\"after\"] = temp[\"label\"].shift(-1)\n",
    "    for i in temp[(temp[\"label\"] == 'i') & (temp[\"before\"] == 'o') ].index:\n",
    "            # oio or oii\n",
    "            if verbose:\n",
    "                print(temp.loc[i-1, \"tokens\"]+\"(\"+temp.loc[i-1, \"label\"]+\")\\t\\t\", temp.loc[i, \"tokens\"]+\"(\"+temp.loc[i, \"label\"]+\")\\t\\t\", temp.loc[i+1, \"tokens\"]+\"(\"+temp.loc[i+1, \"label\"]+\")\")\n",
    "            if(temp.loc[i+1, \"label\"] == 'o' or temp.loc[i+1, \"label\"] == 'i'):\n",
    "                dataset.loc[i, \"label\"] = 'b'\n",
    "            # oib\n",
    "            if(temp.loc[i+1, \"label\"] == 'b'):\n",
    "                dataset.loc[i, \"label\"] = 'b'\n",
    "                dataset.loc[i+1, \"label\"] = 'i'\n",
    "    del temp\n",
    "    if verbose:\n",
    "        print(dataset[(dataset[\"tokens\"].isin(stopwords))][\"tokens\"].value_counts().index)\n",
    "    dataset.drop(dataset[dataset[\"tokens\"].isin(stopwords)].index, inplace=True)\n",
    "    if pos:\n",
    "        dataset[\"POS\"] = nltk.pos_tag(train[\"tokens\"])\n",
    "    if lemma:\n",
    "        lemmatizer = WordNetLemmatizer()\n",
    "        dataset[\"tokens\"] = dataset[\"tokens\"].apply(lambda x: lemmatizer.lemmatize(x))\n",
    "    dataset.reset_index(drop=True, inplace=True)\n",
    "    return dataset\n",
    "\n",
    "def featurePreparation(_dataset, ref=1):\n",
    "    dataset = _dataset.copy()\n",
    "    if  ref == 0:\n",
    "        dataset[\"text\"] = dataset[\"tokens\"]\n",
    "    elif ref == 1:\n",
    "        dataset[\"text\"] = dataset[\"tokens\"].shift(fill_value= \"\") + \" \" + dataset[\"tokens\"] \\\n",
    "                            + \" \" + dataset[\"tokens\"].shift(-1, fill_value= \"\")\n",
    "        dataset[\"label\"] = dataset[\"label\"].shift(fill_value= \"o\") + \" \" + dataset[\"label\"] \\\n",
    "                            + \" \" + dataset[\"label\"].shift(-1, fill_value= \"o\")\n",
    "    elif ref == 2:\n",
    "        dataset[\"text\"] = dataset[\"tokens\"].shift(2, fill_value= \"\") + \" \" + dataset[\"tokens\"].shift(fill_value= \"\") \\\n",
    "                            + \" \" + dataset[\"tokens\"] + \" \" + dataset[\"tokens\"].shift(-1, fill_value= \"\") \\\n",
    "                            + \" \" + dataset[\"tokens\"].shift(-2, fill_value= \"\")\n",
    "        dataset[\"label\"] = dataset[\"label\"].shift(2, fill_value= \"o\") + \" \" + dataset[\"label\"].shift(fill_value= \"o\") \\\n",
    "                            + \" \" + dataset[\"label\"] + \" \" + dataset[\"label\"].shift(-1, fill_value= \"o\") \\\n",
    "                            + \" \" + dataset[\"label\"].shift(-2, fill_value= \"o\")\n",
    "        \n",
    "    elif ref == 3:\n",
    "        dataset[\"text\"] = dataset[\"tokens\"].shift(3, fill_value= \"o\") + \" \" + dataset[\"tokens\"].shift(2, fill_value= \"\") \\\n",
    "                            + \" \" + dataset[\"tokens\"].shift(fill_value= \"o\") + \" \" + dataset[\"tokens\"] \\\n",
    "                            + \" \" + dataset[\"tokens\"].shift(-1, fill_value= \"o\") \\\n",
    "                            + \" \" + dataset[\"tokens\"].shift(-2, fill_value= \"o\") + \" \" + dataset[\"tokens\"].shift(-3, fill_value= \"o\")\n",
    "        dataset[\"label\"] = dataset[\"label\"].shift(3, fill_value= \"o\") + \" \" + dataset[\"label\"].shift(2, fill_value= \"o\") \\\n",
    "                            + \" \" + dataset[\"label\"].shift(fill_value= \"o\") + \" \" + dataset[\"label\"] \\\n",
    "                            + \" \" + dataset[\"label\"].shift(-1, fill_value= \"o\") \\\n",
    "                            + \" \" + dataset[\"label\"].shift(-2, fill_value= \"o\") + \" \" + dataset[\"label\"].shift(-3, fill_value= \"o\")\n",
    "    dataset = dataset.drop([\"tokens\", \"file\"], axis=1)\n",
    "    return dataset\n",
    "\n",
    "def pre_pipeline(ref=1, pos=False,lemma=True):\n",
    "    # trainFiles = find_files(dataPath + \"\\\\train\")\n",
    "    # testFiles = find_files(dataPath + \"\\\\test\")\n",
    "    # devFiles = find_files(dataPath + \"\\\\dev\")\n",
    "\n",
    "    trainFiles = find_files(dataPath / \"train\")\n",
    "    testFiles = find_files(dataPath / \"test\")\n",
    "    devFiles = find_files(dataPath / \"dev\")\n",
    "    \n",
    "    train = loadData(trainFiles)\n",
    "    test  = loadData(testFiles)\n",
    "    dev = loadData(devFiles)\n",
    "    train = cleaning(train, lemma=lemma, pos=pos, verbose=False)\n",
    "    test = cleaning(test, lemma=lemma, pos=pos, verbose=False)\n",
    "    dev = cleaning(dev, lemma=lemma, pos=pos, verbose=False)\n",
    "    train = featurePreparation(train, ref=ref)\n",
    "    test = featurePreparation(test, ref=ref)\n",
    "    dev = featurePreparation(dev, ref=ref)\n",
    "    return train, test, dev"
   ]
  },
  {
   "cell_type": "code",
   "execution_count": 5,
   "id": "e46881f8-2f1f-4ed6-ba99-3842b8eeb827",
   "metadata": {},
   "outputs": [
    {
     "name": "stdout",
     "output_type": "stream",
     "text": [
      "16894 2206 1949\n"
     ]
    }
   ],
   "source": [
    "train, test, dev = pre_pipeline(ref=3, lemma=True)\n",
    "print(train.shape[0], test.shape[0], dev.shape[0])\n",
    "data = pd.concat([train, test], axis=0, ignore_index=True)\n",
    "data = pd.concat([data, dev], axis=0, ignore_index=True)"
   ]
  },
  {
   "cell_type": "code",
   "execution_count": 6,
   "id": "b07994c1-7f47-484f-b81f-ea0cd48b30e9",
   "metadata": {},
   "outputs": [],
   "source": [
    "trainSize = train.shape[0]-1\n",
    "testSize = train.shape[0] + test.shape[0] -1 \n",
    "devSize = train.shape[0] + test.shape[0] + dev.shape[0] -1"
   ]
  },
  {
   "cell_type": "code",
   "execution_count": 7,
   "id": "f4abe192-af17-4a2d-9183-1bb1440091d3",
   "metadata": {},
   "outputs": [],
   "source": [
    "# encode X\n",
    "word_tokenizer = Tokenizer()                      # instantiate tokeniser\n",
    "word_tokenizer.fit_on_texts(data[\"text\"])                    # fit tokeniser on data\n",
    "X_encoded = word_tokenizer.texts_to_sequences(data[\"text\"])  # use the tokeniser to encode input sequence\n",
    "\n",
    "# encode Y\n",
    "tag_tokenizer = Tokenizer()\n",
    "tag_tokenizer.fit_on_texts(data[\"label\"])\n",
    "Y_encoded = tag_tokenizer.texts_to_sequences(data[\"label\"])"
   ]
  },
  {
   "cell_type": "code",
   "execution_count": 8,
   "id": "6acacb39-864a-42e9-b9f4-3c2aa7d4af7e",
   "metadata": {},
   "outputs": [
    {
     "data": {
      "text/plain": [
       "[[1, 1, 1, 1, 1, 1, 1],\n",
       " [1, 1, 1, 1, 1, 1, 2],\n",
       " [1, 1, 1, 1, 1, 2, 3],\n",
       " [1, 1, 1, 1, 2, 3, 2],\n",
       " [1, 1, 1, 2, 3, 2, 1],\n",
       " [1, 1, 2, 3, 2, 1, 2],\n",
       " [1, 2, 3, 2, 1, 2, 1],\n",
       " [2, 3, 2, 1, 2, 1, 1],\n",
       " [3, 2, 1, 2, 1, 1, 1],\n",
       " [2, 1, 2, 1, 1, 1, 2]]"
      ]
     },
     "execution_count": 8,
     "metadata": {},
     "output_type": "execute_result"
    }
   ],
   "source": [
    "Y_encoded[:10]"
   ]
  },
  {
   "cell_type": "code",
   "execution_count": 9,
   "id": "b177f1d5-6231-46bc-9779-6663aa619519",
   "metadata": {},
   "outputs": [],
   "source": [
    "# DOWNLOAD: https://www.kaggle.com/datasets/leadbest/googlenewsvectorsnegative300 \n",
    "\n",
    "# word2vec\n",
    "path = './GoogleNews-vectors-negative300.bin'\n",
    "\n",
    "# load word2vec using the following function present in the gensim library\n",
    "word2vec = KeyedVectors.load_word2vec_format(path, binary=True)\n",
    "\n",
    "# assign word vectors from word2vec model\n",
    "EMBEDDING_SIZE  = 300  # each word in word2vec model is represented using a 300 dimensional vector\n",
    "VOCABULARY_SIZE = len(word_tokenizer.word_index) + 1\n",
    "\n",
    "# create an empty embedding matix\n",
    "embedding_weights = np.zeros((VOCABULARY_SIZE, EMBEDDING_SIZE))\n",
    "\n",
    "# create a word to index dictionary mapping\n",
    "word2id = word_tokenizer.word_index\n",
    "\n",
    "# copy vectors from word2vec model to the words present in corpus\n",
    "for word, index in word2id.items():\n",
    "    try:\n",
    "        embedding_weights[index, :] = word2vec[word]\n",
    "    except KeyError:\n",
    "        pass\n",
    "\n",
    "MAX_SEQ_LENGTH = 7  # sequences greater than 100 in length will be truncated\n",
    "\n",
    "X_padded = pad_sequences(X_encoded, maxlen=MAX_SEQ_LENGTH, padding=\"pre\", truncating=\"post\")\n",
    "Y_padded = pad_sequences(Y_encoded, maxlen=MAX_SEQ_LENGTH, padding=\"pre\", truncating=\"post\")\n",
    "\n",
    "# assign padded sequences to X and Y\n",
    "X, Y = X_padded, Y_padded"
   ]
  },
  {
   "cell_type": "code",
   "execution_count": 10,
   "id": "051373a9-fffe-4b11-bc64-d04a8e9fad24",
   "metadata": {},
   "outputs": [
    {
     "data": {
      "text/plain": [
       "array([[1, 1, 1, 1, 1, 1, 1],\n",
       "       [1, 1, 1, 1, 1, 1, 2],\n",
       "       [1, 1, 1, 1, 1, 2, 3],\n",
       "       [1, 1, 1, 1, 2, 3, 2],\n",
       "       [1, 1, 1, 2, 3, 2, 1],\n",
       "       [1, 1, 2, 3, 2, 1, 2],\n",
       "       [1, 2, 3, 2, 1, 2, 1],\n",
       "       [2, 3, 2, 1, 2, 1, 1],\n",
       "       [3, 2, 1, 2, 1, 1, 1],\n",
       "       [2, 1, 2, 1, 1, 1, 2]], dtype=int32)"
      ]
     },
     "execution_count": 10,
     "metadata": {},
     "output_type": "execute_result"
    }
   ],
   "source": [
    "Y[:10]"
   ]
  },
  {
   "cell_type": "code",
   "execution_count": 11,
   "id": "9012b3b8-ce08-429d-9f34-4b1ff86a85f7",
   "metadata": {},
   "outputs": [],
   "source": [
    "Y = to_categorical(Y)"
   ]
  },
  {
   "cell_type": "code",
   "execution_count": 12,
   "id": "c8fd9115-0fa5-4851-aded-a3469a44a2f4",
   "metadata": {},
   "outputs": [],
   "source": [
    "X_train = X[:trainSize]\n",
    "X_test = X[trainSize:testSize]\n",
    "X_validation = X[testSize:]\n",
    "Y_train = Y[:trainSize]\n",
    "Y_test = Y[trainSize:testSize]\n",
    "Y_validation = Y[testSize:]"
   ]
  },
  {
   "cell_type": "code",
   "execution_count": 13,
   "id": "50a4a4d1-f351-4d91-a328-42486bb5c08b",
   "metadata": {},
   "outputs": [
    {
     "name": "stderr",
     "output_type": "stream",
     "text": [
      "2022-12-19 03:43:43.413311: W tensorflow/compiler/xla/stream_executor/platform/default/dso_loader.cc:64] Could not load dynamic library 'libcuda.so.1'; dlerror: libcuda.so.1: cannot open shared object file: No such file or directory\n",
      "2022-12-19 03:43:43.414808: W tensorflow/compiler/xla/stream_executor/cuda/cuda_driver.cc:265] failed call to cuInit: UNKNOWN ERROR (303)\n",
      "2022-12-19 03:43:43.415728: I tensorflow/compiler/xla/stream_executor/cuda/cuda_diagnostics.cc:156] kernel driver does not appear to be running on this host (s-m2tal): /proc/driver/nvidia/version does not exist\n",
      "2022-12-19 03:43:43.420709: I tensorflow/core/platform/cpu_feature_guard.cc:193] This TensorFlow binary is optimized with oneAPI Deep Neural Network Library (oneDNN) to use the following CPU instructions in performance-critical operations:  AVX2 FMA\n",
      "To enable them in other operations, rebuild TensorFlow with the appropriate compiler flags.\n"
     ]
    },
    {
     "name": "stdout",
     "output_type": "stream",
     "text": [
      "Model: \"sequential\"\n",
      "_________________________________________________________________\n",
      " Layer (type)                Output Shape              Param #   \n",
      "=================================================================\n",
      " embedding (Embedding)       (None, 7, 300)            871800    \n",
      "                                                                 \n",
      " bidirectional (Bidirectiona  (None, 7, 64)            85248     \n",
      " l)                                                              \n",
      "                                                                 \n",
      " time_distributed (TimeDistr  (None, 7, 4)             260       \n",
      " ibuted)                                                         \n",
      "                                                                 \n",
      "=================================================================\n",
      "Total params: 957,308\n",
      "Trainable params: 957,308\n",
      "Non-trainable params: 0\n",
      "_________________________________________________________________\n"
     ]
    }
   ],
   "source": [
    "# total number of tags\n",
    "NUM_CLASSES = Y.shape[2]\n",
    "\n",
    "bidirect_model = Sequential()\n",
    "bidirect_model.add(Embedding(input_dim     = VOCABULARY_SIZE,\n",
    "                             output_dim    = EMBEDDING_SIZE,\n",
    "                             input_length  = MAX_SEQ_LENGTH,\n",
    "                             weights       = [embedding_weights],\n",
    "                             trainable     = True\n",
    "))\n",
    "bidirect_model.add(Bidirectional(LSTM(32, return_sequences=True)))\n",
    "bidirect_model.add(TimeDistributed(Dense(NUM_CLASSES, activation='softmax')))\n",
    "bidirect_model.compile(loss='categorical_crossentropy',\n",
    "              optimizer= 'adam',\n",
    "              metrics=['acc'])\n",
    "\n",
    "# check summary of model\n",
    "bidirect_model.summary()"
   ]
  },
  {
   "cell_type": "code",
   "execution_count": 14,
   "id": "16585026-a738-44c7-90fe-1b52b8996b4e",
   "metadata": {},
   "outputs": [
    {
     "name": "stdout",
     "output_type": "stream",
     "text": [
      "Epoch 1/5\n",
      "33/33 [==============================] - 8s 108ms/step - loss: 0.9504 - acc: 0.6784 - val_loss: 0.6433 - val_acc: 0.7407\n",
      "Epoch 2/5\n",
      "33/33 [==============================] - 3s 96ms/step - loss: 0.5154 - acc: 0.7881 - val_loss: 0.4626 - val_acc: 0.8248\n",
      "Epoch 3/5\n",
      "33/33 [==============================] - 3s 92ms/step - loss: 0.3184 - acc: 0.8824 - val_loss: 0.4313 - val_acc: 0.8363\n",
      "Epoch 4/5\n",
      "33/33 [==============================] - 3s 83ms/step - loss: 0.2405 - acc: 0.9101 - val_loss: 0.4281 - val_acc: 0.8412\n",
      "Epoch 5/5\n",
      "33/33 [==============================] - 3s 79ms/step - loss: 0.2017 - acc: 0.9240 - val_loss: 0.4382 - val_acc: 0.8424\n"
     ]
    }
   ],
   "source": [
    "bidirect_training = bidirect_model.fit(X_train, Y_train, batch_size=512, epochs=5, validation_data=(X_validation, Y_validation))"
   ]
  },
  {
   "cell_type": "code",
   "execution_count": 15,
   "id": "3464b891-28a8-4b49-8f34-a3c52c80cd17",
   "metadata": {},
   "outputs": [
    {
     "data": {
      "text/plain": [
       "[<matplotlib.lines.Line2D at 0x73c668793400>]"
      ]
     },
     "execution_count": 15,
     "metadata": {},
     "output_type": "execute_result"
    },
    {
     "data": {
      "text/plain": [
       "[<matplotlib.lines.Line2D at 0x73c6687935b0>]"
      ]
     },
     "execution_count": 15,
     "metadata": {},
     "output_type": "execute_result"
    },
    {
     "data": {
      "text/plain": [
       "Text(0.5, 1.0, 'model accuracy')"
      ]
     },
     "execution_count": 15,
     "metadata": {},
     "output_type": "execute_result"
    },
    {
     "data": {
      "text/plain": [
       "Text(0, 0.5, 'accuracy')"
      ]
     },
     "execution_count": 15,
     "metadata": {},
     "output_type": "execute_result"
    },
    {
     "data": {
      "text/plain": [
       "Text(0.5, 0, 'epoch')"
      ]
     },
     "execution_count": 15,
     "metadata": {},
     "output_type": "execute_result"
    },
    {
     "data": {
      "text/plain": [
       "<matplotlib.legend.Legend at 0x73c668793250>"
      ]
     },
     "execution_count": 15,
     "metadata": {},
     "output_type": "execute_result"
    },
    {
     "data": {
      "image/png": "[encoded data removed]",
      "text/plain": [
       "<Figure size 640x480 with 1 Axes>"
      ]
     },
     "metadata": {},
     "output_type": "display_data"
    }
   ],
   "source": [
    "# visualise training history\n",
    "plt.plot(bidirect_training.history['acc'])\n",
    "plt.plot(bidirect_training.history['val_acc'])\n",
    "plt.title('model accuracy')\n",
    "plt.ylabel('accuracy')\n",
    "plt.xlabel('epoch')\n",
    "plt.legend(['train', 'test'], loc=\"lower right\")\n",
    "plt.show()"
   ]
  },
  {
   "cell_type": "code",
   "execution_count": 16,
   "id": "f8878d4e-e02f-4a03-9d60-bbb32c69d591",
   "metadata": {},
   "outputs": [
    {
     "name": "stdout",
     "output_type": "stream",
     "text": [
      "69/69 [==============================] - 2s 8ms/step\n"
     ]
    }
   ],
   "source": [
    "pre_Y_test = bidirect_model.predict(X_test)"
   ]
  },
  {
   "cell_type": "code",
   "execution_count": 17,
   "id": "648a2e47-dcc2-4b27-b592-db9fc9b75a32",
   "metadata": {},
   "outputs": [
    {
     "name": "stdout",
     "output_type": "stream",
     "text": [
      "69/69 [==============================] - 0s 7ms/step - loss: 0.4402 - acc: 0.8408\n",
      "Loss: 0.44020429253578186,\n",
      "Accuracy: 0.8408237099647522\n"
     ]
    }
   ],
   "source": [
    "loss, accuracy = bidirect_model.evaluate(X_test, Y_test, verbose = 1)\n",
    "print(\"Loss: {0},\\nAccuracy: {1}\".format(loss, accuracy))"
   ]
  },
  {
   "cell_type": "code",
   "execution_count": 18,
   "id": "f117958f-20e9-49e0-be59-e7896a94ae7a",
   "metadata": {},
   "outputs": [
    {
     "data": {
      "text/plain": [
       "array([[0., 0., 0., 1.],\n",
       "       [0., 1., 0., 0.],\n",
       "       [0., 0., 1., 0.],\n",
       "       [0., 0., 0., 1.],\n",
       "       [0., 1., 0., 0.],\n",
       "       [0., 1., 0., 0.],\n",
       "       [0., 1., 0., 0.]], dtype=float32)"
      ]
     },
     "execution_count": 18,
     "metadata": {},
     "output_type": "execute_result"
    }
   ],
   "source": [
    "Y_test[0]"
   ]
  },
  {
   "cell_type": "code",
   "execution_count": 19,
   "id": "cd11b869-7b9d-4bd9-8c6d-e096f2905e44",
   "metadata": {},
   "outputs": [
    {
     "data": {
      "text/plain": [
       "array([[2.7433669e-03, 6.1069254e-02, 1.1592956e-01, 8.2025784e-01],\n",
       "       [2.3323407e-04, 9.9339491e-01, 1.6287690e-03, 4.7429968e-03],\n",
       "       [2.2694790e-04, 1.5520188e-01, 7.9567808e-01, 4.8893098e-02],\n",
       "       [6.3924649e-04, 3.4160316e-01, 6.5917498e-03, 6.5116584e-01],\n",
       "       [9.0705231e-05, 9.9537402e-01, 2.0845537e-03, 2.4506135e-03],\n",
       "       [6.2933468e-05, 9.9320525e-01, 5.8875941e-03, 8.4403681e-04],\n",
       "       [1.6363802e-04, 9.7728014e-01, 2.0845700e-02, 1.7104095e-03]],\n",
       "      dtype=float32)"
      ]
     },
     "execution_count": 19,
     "metadata": {},
     "output_type": "execute_result"
    }
   ],
   "source": [
    "pre_Y_test[0]"
   ]
  },
  {
   "cell_type": "code",
   "execution_count": 20,
   "id": "d2e26b30-4af7-4d3b-b8c5-0b8d3da4722c",
   "metadata": {},
   "outputs": [],
   "source": [
    "pre = [] \n",
    "for i in range(0, pre_Y_test.shape[0]):\n",
    "    pre.append(np.argmax(pre_Y_test[i], axis=1))"
   ]
  },
  {
   "cell_type": "code",
   "execution_count": 21,
   "id": "8e72cc23-8f78-4c46-9a96-33be3c000cb6",
   "metadata": {},
   "outputs": [
    {
     "data": {
      "text/plain": [
       "array([3, 1, 2, 3, 1, 1, 1])"
      ]
     },
     "execution_count": 21,
     "metadata": {},
     "output_type": "execute_result"
    }
   ],
   "source": [
    "np.argmax(pre_Y_test[0], axis=1)"
   ]
  },
  {
   "cell_type": "code",
   "execution_count": 22,
   "id": "3277ebba-e952-4480-b402-757c70034f67",
   "metadata": {},
   "outputs": [
    {
     "data": {
      "text/plain": [
       "[array([3, 1, 2, 3, 1, 1, 1]),\n",
       " array([1, 1, 1, 1, 1, 2, 3]),\n",
       " array([1, 1, 1, 1, 2, 3, 3]),\n",
       " array([1, 1, 1, 2, 3, 3, 1]),\n",
       " array([1, 1, 2, 3, 3, 1, 1]),\n",
       " array([1, 2, 3, 3, 1, 1, 1]),\n",
       " array([2, 3, 3, 1, 1, 1, 2]),\n",
       " array([3, 3, 1, 1, 1, 2, 3]),\n",
       " array([3, 1, 1, 1, 2, 3, 1]),\n",
       " array([1, 1, 1, 2, 3, 1, 1])]"
      ]
     },
     "execution_count": 22,
     "metadata": {},
     "output_type": "execute_result"
    }
   ],
   "source": [
    "pre[:10]"
   ]
  },
  {
   "cell_type": "code",
   "execution_count": 23,
   "id": "2586ee32-35ff-49af-9361-0d50dfda0f72",
   "metadata": {},
   "outputs": [
    {
     "data": {
      "text/plain": [
       "{1: 'o', 2: 'b', 3: 'i'}"
      ]
     },
     "execution_count": 23,
     "metadata": {},
     "output_type": "execute_result"
    }
   ],
   "source": [
    "# Creating a reverse dictionary\n",
    "reverse_word_map = dict(map(reversed, tag_tokenizer.word_index.items()))\n",
    "reverse_word_map"
   ]
  },
  {
   "cell_type": "code",
   "execution_count": 24,
   "id": "43608da6-1369-4917-a1b8-0ad0714fb7a4",
   "metadata": {},
   "outputs": [],
   "source": [
    "# Function takes a tokenized sentence and returns the words\n",
    "def sequence_to_text(list_of_indices):\n",
    "    # Looking up words in dictionary\n",
    "    words = [reverse_word_map.get(letter) for letter in list_of_indices]\n",
    "    return(words)"
   ]
  },
  {
   "cell_type": "code",
   "execution_count": 25,
   "id": "0e7b896f-b8e2-4068-b76b-de7d992246c5",
   "metadata": {},
   "outputs": [
    {
     "data": {
      "text/plain": [
       "[['i', 'o', 'b', 'i', 'o', 'o', 'o'],\n",
       " ['o', 'o', 'o', 'o', 'o', 'b', 'i'],\n",
       " ['o', 'o', 'o', 'o', 'b', 'i', 'i'],\n",
       " ['o', 'o', 'o', 'b', 'i', 'i', 'o'],\n",
       " ['o', 'o', 'b', 'i', 'i', 'o', 'o'],\n",
       " ['o', 'b', 'i', 'i', 'o', 'o', 'o'],\n",
       " ['b', 'i', 'i', 'o', 'o', 'o', 'b'],\n",
       " ['i', 'i', 'o', 'o', 'o', 'b', 'i'],\n",
       " ['i', 'o', 'o', 'o', 'b', 'i', 'o'],\n",
       " ['o', 'o', 'o', 'b', 'i', 'o', 'o']]"
      ]
     },
     "execution_count": 25,
     "metadata": {},
     "output_type": "execute_result"
    }
   ],
   "source": [
    "# Creating texts \n",
    "my_texts = list(map(sequence_to_text, pre))\n",
    "my_texts[:10]"
   ]
  },
  {
   "cell_type": "code",
   "execution_count": 26,
   "id": "59e897d5-4c62-4b39-88ce-483dd2a9ff6d",
   "metadata": {},
   "outputs": [],
   "source": [
    "labels = []\n",
    "for i in range(1, len(my_texts)):\n",
    "    labels.append(\" \".join([str(i) for a,i in enumerate(my_texts[i])]))"
   ]
  },
  {
   "cell_type": "code",
   "execution_count": 27,
   "id": "a1e201c8-9b0c-4f98-b012-1a1c8adabcd9",
   "metadata": {},
   "outputs": [
    {
     "data": {
      "text/plain": [
       "['o o o o o b i',\n",
       " 'o o o o b i i',\n",
       " 'o o o b i i o',\n",
       " 'o o b i i o o',\n",
       " 'o b i i o o o',\n",
       " 'b i i o o o b',\n",
       " 'i i o o o b i',\n",
       " 'i o o o b i o',\n",
       " 'o o o b i o o',\n",
       " 'o o b i o o b']"
      ]
     },
     "execution_count": 27,
     "metadata": {},
     "output_type": "execute_result"
    }
   ],
   "source": [
    "labels[:10]"
   ]
  },
  {
   "cell_type": "code",
   "execution_count": 28,
   "id": "4c37d76e-eb5e-45c7-a164-f47f17194487",
   "metadata": {},
   "outputs": [
    {
     "data": {
      "text/html": [
       "<div>\n",
       "<style scoped>\n",
       "    .dataframe tbody tr th:only-of-type {\n",
       "        vertical-align: middle;\n",
       "    }\n",
       "\n",
       "    .dataframe tbody tr th {\n",
       "        vertical-align: top;\n",
       "    }\n",
       "\n",
       "    .dataframe thead th {\n",
       "        text-align: right;\n",
       "    }\n",
       "</style>\n",
       "<table border=\"1\" class=\"dataframe\">\n",
       "  <thead>\n",
       "    <tr style=\"text-align: right;\">\n",
       "      <th></th>\n",
       "      <th>label</th>\n",
       "      <th>text</th>\n",
       "      <th>0</th>\n",
       "    </tr>\n",
       "  </thead>\n",
       "  <tbody>\n",
       "    <tr>\n",
       "      <th>0</th>\n",
       "      <td>o o o o o b i</td>\n",
       "      <td>o  o work in natural language</td>\n",
       "      <td>o o o o o b i</td>\n",
       "    </tr>\n",
       "    <tr>\n",
       "      <th>1</th>\n",
       "      <td>o o o o b i i</td>\n",
       "      <td>o  work in natural language generation</td>\n",
       "      <td>o o o o b i i</td>\n",
       "    </tr>\n",
       "    <tr>\n",
       "      <th>2</th>\n",
       "      <td>o o o b i i o</td>\n",
       "      <td>o work in natural language generation begun</td>\n",
       "      <td>o o o b i i o</td>\n",
       "    </tr>\n",
       "    <tr>\n",
       "      <th>3</th>\n",
       "      <td>o o b i i o o</td>\n",
       "      <td>work in natural language generation begun to</td>\n",
       "      <td>o o b i i o o</td>\n",
       "    </tr>\n",
       "    <tr>\n",
       "      <th>4</th>\n",
       "      <td>o b i i o o o</td>\n",
       "      <td>in natural language generation begun to take</td>\n",
       "      <td>o b i i o o o</td>\n",
       "    </tr>\n",
       "    <tr>\n",
       "      <th>...</th>\n",
       "      <td>...</td>\n",
       "      <td>...</td>\n",
       "      <td>...</td>\n",
       "    </tr>\n",
       "    <tr>\n",
       "      <th>2201</th>\n",
       "      <td>o o b i i o o</td>\n",
       "      <td>an approximate polynomial time algorithm for this</td>\n",
       "      <td>o b i i i o o</td>\n",
       "    </tr>\n",
       "    <tr>\n",
       "      <th>2202</th>\n",
       "      <td>o b i i o o o</td>\n",
       "      <td>approximate polynomial time algorithm for this...</td>\n",
       "      <td>b i i i o o o</td>\n",
       "    </tr>\n",
       "    <tr>\n",
       "      <th>2203</th>\n",
       "      <td>b i i o o o o</td>\n",
       "      <td>polynomial time algorithm for this problem o</td>\n",
       "      <td>b i i o o o o</td>\n",
       "    </tr>\n",
       "    <tr>\n",
       "      <th>2204</th>\n",
       "      <td>i i o o o o o</td>\n",
       "      <td>time algorithm for this problem o o</td>\n",
       "      <td>i i o o o o o</td>\n",
       "    </tr>\n",
       "    <tr>\n",
       "      <th>2205</th>\n",
       "      <td>i o o o o o o</td>\n",
       "      <td>algorithm for this problem o o o</td>\n",
       "      <td>NaN</td>\n",
       "    </tr>\n",
       "  </tbody>\n",
       "</table>\n",
       "<p>2206 rows × 3 columns</p>\n",
       "</div>"
      ],
      "text/plain": [
       "              label                                               text  \\\n",
       "0     o o o o o b i                      o  o work in natural language   \n",
       "1     o o o o b i i             o  work in natural language generation   \n",
       "2     o o o b i i o        o work in natural language generation begun   \n",
       "3     o o b i i o o       work in natural language generation begun to   \n",
       "4     o b i i o o o       in natural language generation begun to take   \n",
       "...             ...                                                ...   \n",
       "2201  o o b i i o o  an approximate polynomial time algorithm for this   \n",
       "2202  o b i i o o o  approximate polynomial time algorithm for this...   \n",
       "2203  b i i o o o o       polynomial time algorithm for this problem o   \n",
       "2204  i i o o o o o                time algorithm for this problem o o   \n",
       "2205  i o o o o o o                   algorithm for this problem o o o   \n",
       "\n",
       "                  0  \n",
       "0     o o o o o b i  \n",
       "1     o o o o b i i  \n",
       "2     o o o b i i o  \n",
       "3     o o b i i o o  \n",
       "4     o b i i o o o  \n",
       "...             ...  \n",
       "2201  o b i i i o o  \n",
       "2202  b i i i o o o  \n",
       "2203  b i i o o o o  \n",
       "2204  i i o o o o o  \n",
       "2205            NaN  \n",
       "\n",
       "[2206 rows x 3 columns]"
      ]
     },
     "execution_count": 28,
     "metadata": {},
     "output_type": "execute_result"
    }
   ],
   "source": [
    "evaluate  = pd.concat([test, pd.Series(labels)], axis=1) \n",
    "evaluate"
   ]
  },
  {
   "cell_type": "code",
   "execution_count": 29,
   "id": "c4eef449-5fb1-4f7d-b86c-11cc159385dc",
   "metadata": {},
   "outputs": [],
   "source": [
    "wrong = evaluate[evaluate[\"label\"] !=  evaluate[0]].shape[0] \n",
    "correct = evaluate[evaluate[\"label\"] ==  evaluate[0]].shape[0]"
   ]
  },
  {
   "cell_type": "code",
   "execution_count": 30,
   "id": "8914bacf-ecf6-4203-ad3d-8e3f5797628a",
   "metadata": {},
   "outputs": [
    {
     "data": {
      "text/plain": [
       "0.3825929283771532"
      ]
     },
     "execution_count": 30,
     "metadata": {},
     "output_type": "execute_result"
    }
   ],
   "source": [
    "correct / (wrong + correct)"
   ]
  },
  {
   "cell_type": "code",
   "execution_count": 34,
   "id": "8278afa4-d095-4c39-ad33-ed0070e4fbc2",
   "metadata": {},
   "outputs": [
    {
     "name": "stdout",
     "output_type": "stream",
     "text": [
      "d:\n"
     ]
    },
    {
     "data": {
      "text/plain": [
       "{'y': 0       o o o o o b i\n",
       " 1       o o o o b i i\n",
       " 2       o o o b i i o\n",
       " 3       o o b i i o o\n",
       " 4       o b i i o o o\n",
       "             ...      \n",
       " 2201    o o b i i o o\n",
       " 2202    o b i i o o o\n",
       " 2203    b i i o o o o\n",
       " 2204    i i o o o o o\n",
       " 2205    i o o o o o o\n",
       " Name: label, Length: 2206, dtype: object,\n",
       " 'yhat': 0       o o o o o b i\n",
       " 1       o o o o b i i\n",
       " 2       o o o b i i o\n",
       " 3       o o b i i o o\n",
       " 4       o b i i o o o\n",
       "             ...      \n",
       " 2201    o b i i i o o\n",
       " 2202    b i i i o o o\n",
       " 2203    b i i o o o o\n",
       " 2204    i i o o o o o\n",
       " 2205              NaN\n",
       " Name: 0, Length: 2206, dtype: object}"
      ]
     },
     "execution_count": 34,
     "metadata": {},
     "output_type": "execute_result"
    },
    {
     "name": "stdout",
     "output_type": "stream",
     "text": [
      "comparison:\n"
     ]
    },
    {
     "data": {
      "text/html": [
       "<div>\n",
       "<style scoped>\n",
       "    .dataframe tbody tr th:only-of-type {\n",
       "        vertical-align: middle;\n",
       "    }\n",
       "\n",
       "    .dataframe tbody tr th {\n",
       "        vertical-align: top;\n",
       "    }\n",
       "\n",
       "    .dataframe thead th {\n",
       "        text-align: right;\n",
       "    }\n",
       "</style>\n",
       "<table border=\"1\" class=\"dataframe\">\n",
       "  <thead>\n",
       "    <tr style=\"text-align: right;\">\n",
       "      <th></th>\n",
       "      <th>y</th>\n",
       "      <th>yhat</th>\n",
       "    </tr>\n",
       "  </thead>\n",
       "  <tbody>\n",
       "    <tr>\n",
       "      <th>0</th>\n",
       "      <td>o o o o o b i</td>\n",
       "      <td>o o o o o b i</td>\n",
       "    </tr>\n",
       "    <tr>\n",
       "      <th>1</th>\n",
       "      <td>o o o o b i i</td>\n",
       "      <td>o o o o b i i</td>\n",
       "    </tr>\n",
       "    <tr>\n",
       "      <th>2</th>\n",
       "      <td>o o o b i i o</td>\n",
       "      <td>o o o b i i o</td>\n",
       "    </tr>\n",
       "    <tr>\n",
       "      <th>3</th>\n",
       "      <td>o o b i i o o</td>\n",
       "      <td>o o b i i o o</td>\n",
       "    </tr>\n",
       "    <tr>\n",
       "      <th>4</th>\n",
       "      <td>o b i i o o o</td>\n",
       "      <td>o b i i o o o</td>\n",
       "    </tr>\n",
       "    <tr>\n",
       "      <th>...</th>\n",
       "      <td>...</td>\n",
       "      <td>...</td>\n",
       "    </tr>\n",
       "    <tr>\n",
       "      <th>2201</th>\n",
       "      <td>o o b i i o o</td>\n",
       "      <td>o b i i i o o</td>\n",
       "    </tr>\n",
       "    <tr>\n",
       "      <th>2202</th>\n",
       "      <td>o b i i o o o</td>\n",
       "      <td>b i i i o o o</td>\n",
       "    </tr>\n",
       "    <tr>\n",
       "      <th>2203</th>\n",
       "      <td>b i i o o o o</td>\n",
       "      <td>b i i o o o o</td>\n",
       "    </tr>\n",
       "    <tr>\n",
       "      <th>2204</th>\n",
       "      <td>i i o o o o o</td>\n",
       "      <td>i i o o o o o</td>\n",
       "    </tr>\n",
       "    <tr>\n",
       "      <th>2205</th>\n",
       "      <td>i o o o o o o</td>\n",
       "      <td>NaN</td>\n",
       "    </tr>\n",
       "  </tbody>\n",
       "</table>\n",
       "<p>2206 rows × 2 columns</p>\n",
       "</div>"
      ],
      "text/plain": [
       "                  y           yhat\n",
       "0     o o o o o b i  o o o o o b i\n",
       "1     o o o o b i i  o o o o b i i\n",
       "2     o o o b i i o  o o o b i i o\n",
       "3     o o b i i o o  o o b i i o o\n",
       "4     o b i i o o o  o b i i o o o\n",
       "...             ...            ...\n",
       "2201  o o b i i o o  o b i i i o o\n",
       "2202  o b i i o o o  b i i i o o o\n",
       "2203  b i i o o o o  b i i o o o o\n",
       "2204  i i o o o o o  i i o o o o o\n",
       "2205  i o o o o o o            NaN\n",
       "\n",
       "[2206 rows x 2 columns]"
      ]
     },
     "execution_count": 34,
     "metadata": {},
     "output_type": "execute_result"
    },
    {
     "name": "stdout",
     "output_type": "stream",
     "text": [
      "spanEval:\n"
     ]
    },
    {
     "data": {
      "text/html": [
       "<div>\n",
       "<style scoped>\n",
       "    .dataframe tbody tr th:only-of-type {\n",
       "        vertical-align: middle;\n",
       "    }\n",
       "\n",
       "    .dataframe tbody tr th {\n",
       "        vertical-align: top;\n",
       "    }\n",
       "\n",
       "    .dataframe thead th {\n",
       "        text-align: right;\n",
       "    }\n",
       "</style>\n",
       "<table border=\"1\" class=\"dataframe\">\n",
       "  <thead>\n",
       "    <tr style=\"text-align: right;\">\n",
       "      <th></th>\n",
       "      <th>y</th>\n",
       "      <th>yhat</th>\n",
       "    </tr>\n",
       "  </thead>\n",
       "  <tbody>\n",
       "  </tbody>\n",
       "</table>\n",
       "</div>"
      ],
      "text/plain": [
       "Empty DataFrame\n",
       "Columns: [y, yhat]\n",
       "Index: []"
      ]
     },
     "execution_count": 34,
     "metadata": {},
     "output_type": "execute_result"
    },
    {
     "name": "stdout",
     "output_type": "stream",
     "text": [
      " comparison.shape =(2206, 2)\n"
     ]
    }
   ],
   "source": [
    "#hist = clf.fit(trainX.toarray(), trainY.toarray())\n",
    "#yhat = clf.predict(testX.toarray())\n",
    "\n",
    "hist = bidirect_training\n",
    "\n",
    "\n",
    "\n",
    "#d = {'y': test[\"label\"].values, 'yhat': yhat[0].values}\n",
    "\n",
    "d = {'y': evaluate[\"label\"], 'yhat': evaluate[0]}\n",
    "print('d:')\n",
    "d\n",
    "\n",
    "comparison = pd.DataFrame(data=d)\n",
    "print('comparison:')\n",
    "comparison\n",
    "\n",
    "spanEval = pd.DataFrame( columns=[\"y\", \"yhat\"])\n",
    "\n",
    "#spanEval = comparison\n",
    "print('spanEval:')\n",
    "spanEval\n",
    "\n",
    "print(f'{ comparison.shape =}')"
   ]
  },
  {
   "cell_type": "code",
   "execution_count": 35,
   "id": "965ee07a-9e5a-47f1-bdbb-500375f41bbb",
   "metadata": {},
   "outputs": [],
   "source": [
    "#'''\n",
    "for i in range(0, comparison.shape[0]):\n",
    "    #print('BALRG')\n",
    "    if(comparison['y'][i] == 'b'):\n",
    "        j = i+1\n",
    "        ystr = \"b\"\n",
    "        yhatstr = comparison['yhat'][i]\n",
    "        while(comparison['y'][j] == \"i\"):\n",
    "            ystr = ystr + comparison['y'][j]\n",
    "            yhatstr = yhatstr + comparison['yhat'][j]\n",
    "            j = j + 1\n",
    "        toAppend = pd.DataFrame({'y':ystr, 'yhat':yhatstr}, index={1})\n",
    "        print(f'{ toAppend =}')\n",
    "        spanEval = pd.concat([spanEval, toAppend], ignore_index=True)\n",
    "#'''"
   ]
  },
  {
   "cell_type": "code",
   "execution_count": 37,
   "id": "87594512-4340-42ce-ba2b-4f2626dbd54c",
   "metadata": {},
   "outputs": [
    {
     "ename": "ZeroDivisionError",
     "evalue": "division by zero",
     "output_type": "error",
     "traceback": [
      "\u001b[0;31m---------------------------------------------------------------------------\u001b[0m",
      "\u001b[0;31mZeroDivisionError\u001b[0m                         Traceback (most recent call last)",
      "Cell \u001b[0;32mIn[37], line 45\u001b[0m\n\u001b[1;32m     39\u001b[0m     total \u001b[38;5;241m=\u001b[39m spanEval[ \n\u001b[1;32m     40\u001b[0m         (spanEval[\u001b[38;5;124m'\u001b[39m\u001b[38;5;124myhat\u001b[39m\u001b[38;5;124m'\u001b[39m]\u001b[38;5;241m.\u001b[39mstr\u001b[38;5;241m.\u001b[39mreplace(\u001b[38;5;124m'\u001b[39m\u001b[38;5;124m \u001b[39m\u001b[38;5;124m'\u001b[39m,\u001b[38;5;124m'\u001b[39m\u001b[38;5;124m'\u001b[39m,regex\u001b[38;5;241m=\u001b[39m\u001b[38;5;28;01mTrue\u001b[39;00m)\u001b[38;5;241m.\u001b[39mstr\u001b[38;5;241m.\u001b[39mreplace(\u001b[38;5;124m'\u001b[39m\u001b[38;5;124mo\u001b[39m\u001b[38;5;124m'\u001b[39m,\u001b[38;5;124m'\u001b[39m\u001b[38;5;124m'\u001b[39m,regex\u001b[38;5;241m=\u001b[39m\u001b[38;5;28;01mTrue\u001b[39;00m)\u001b[38;5;241m.\u001b[39mstr\u001b[38;5;241m.\u001b[39mlen() \u001b[38;5;241m==\u001b[39m index) \n\u001b[1;32m     41\u001b[0m     ]\u001b[38;5;241m.\u001b[39mshape[\u001b[38;5;241m0\u001b[39m]\n\u001b[1;32m     43\u001b[0m     \u001b[38;5;28;01mreturn\u001b[39;00m correct \u001b[38;5;241m/\u001b[39m total\n\u001b[0;32m---> 45\u001b[0m \u001b[43mspanEvalInd\u001b[49m\u001b[43m(\u001b[49m\u001b[43mspanEval\u001b[49m\u001b[43m,\u001b[49m\u001b[43m \u001b[49m\u001b[38;5;241;43m2\u001b[39;49m\u001b[43m)\u001b[49m\n",
      "Cell \u001b[0;32mIn[37], line 43\u001b[0m, in \u001b[0;36mspanEvalInd\u001b[0;34m(spanEval, index)\u001b[0m\n\u001b[1;32m     35\u001b[0m correct \u001b[38;5;241m=\u001b[39m spanEval[ \n\u001b[1;32m     36\u001b[0m     (spanEval[\u001b[38;5;124m'\u001b[39m\u001b[38;5;124my\u001b[39m\u001b[38;5;124m'\u001b[39m] \u001b[38;5;241m==\u001b[39m spanEval[\u001b[38;5;124m'\u001b[39m\u001b[38;5;124myhat\u001b[39m\u001b[38;5;124m'\u001b[39m]) \u001b[38;5;241m&\u001b[39m (spanEval[\u001b[38;5;124m'\u001b[39m\u001b[38;5;124myhat\u001b[39m\u001b[38;5;124m'\u001b[39m]\u001b[38;5;241m.\u001b[39mstr\u001b[38;5;241m.\u001b[39mreplace(\u001b[38;5;124m'\u001b[39m\u001b[38;5;124m \u001b[39m\u001b[38;5;124m'\u001b[39m,\u001b[38;5;124m'\u001b[39m\u001b[38;5;124m'\u001b[39m,regex\u001b[38;5;241m=\u001b[39m\u001b[38;5;28;01mTrue\u001b[39;00m)\u001b[38;5;241m.\u001b[39mstr\u001b[38;5;241m.\u001b[39mreplace(\u001b[38;5;124m'\u001b[39m\u001b[38;5;124mo\u001b[39m\u001b[38;5;124m'\u001b[39m,\u001b[38;5;124m'\u001b[39m\u001b[38;5;124m'\u001b[39m,regex\u001b[38;5;241m=\u001b[39m\u001b[38;5;28;01mTrue\u001b[39;00m)\u001b[38;5;241m.\u001b[39mstr\u001b[38;5;241m.\u001b[39mlen() \u001b[38;5;241m==\u001b[39m index) \n\u001b[1;32m     37\u001b[0m ]\u001b[38;5;241m.\u001b[39mshape[\u001b[38;5;241m0\u001b[39m] \n\u001b[1;32m     39\u001b[0m total \u001b[38;5;241m=\u001b[39m spanEval[ \n\u001b[1;32m     40\u001b[0m     (spanEval[\u001b[38;5;124m'\u001b[39m\u001b[38;5;124myhat\u001b[39m\u001b[38;5;124m'\u001b[39m]\u001b[38;5;241m.\u001b[39mstr\u001b[38;5;241m.\u001b[39mreplace(\u001b[38;5;124m'\u001b[39m\u001b[38;5;124m \u001b[39m\u001b[38;5;124m'\u001b[39m,\u001b[38;5;124m'\u001b[39m\u001b[38;5;124m'\u001b[39m,regex\u001b[38;5;241m=\u001b[39m\u001b[38;5;28;01mTrue\u001b[39;00m)\u001b[38;5;241m.\u001b[39mstr\u001b[38;5;241m.\u001b[39mreplace(\u001b[38;5;124m'\u001b[39m\u001b[38;5;124mo\u001b[39m\u001b[38;5;124m'\u001b[39m,\u001b[38;5;124m'\u001b[39m\u001b[38;5;124m'\u001b[39m,regex\u001b[38;5;241m=\u001b[39m\u001b[38;5;28;01mTrue\u001b[39;00m)\u001b[38;5;241m.\u001b[39mstr\u001b[38;5;241m.\u001b[39mlen() \u001b[38;5;241m==\u001b[39m index) \n\u001b[1;32m     41\u001b[0m ]\u001b[38;5;241m.\u001b[39mshape[\u001b[38;5;241m0\u001b[39m]\n\u001b[0;32m---> 43\u001b[0m \u001b[38;5;28;01mreturn\u001b[39;00m \u001b[43mcorrect\u001b[49m\u001b[43m \u001b[49m\u001b[38;5;241;43m/\u001b[39;49m\u001b[43m \u001b[49m\u001b[43mtotal\u001b[49m\n",
      "\u001b[0;31mZeroDivisionError\u001b[0m: division by zero"
     ]
    }
   ],
   "source": [
    "#spanEval[ (spanEval['y'] == spanEval['yhat']) ].shape[0] / spanEval.shape[0]\n",
    "\n",
    "#spanEval[ (spanEval['y'] == spanEval['yhat']) & (spanEval['yhat'].str.len() == 1) \n",
    "#        ].shape[0] / spanEval[ (spanEval['yhat'].str.len() == 1) \n",
    "#                             ].shape[0]\n",
    "#spanEval[ (spanEval['y'] == spanEval['yhat']) & (spanEval['yhat'].str.len() == 2) \n",
    "#        ].shape[0] / spanEval[ (spanEval['yhat'].str.len() == 2)\n",
    "#                             ].shape[0]\n",
    "#spanEval[ (spanEval['y'] == spanEval['yhat']) & (spanEval['yhat'].str.len() == 3) \n",
    "#        ].shape[0] / spanEval[ (spanEval['yhat'].str.len() == 3) \n",
    "#                             ].shape[0]\n",
    "\n",
    "\n",
    "def spanEvalInd(spanEval, index:int):\n",
    "    '''correct at that length divided by the total at that length'''\n",
    "    yEqYhat = spanEval['y'] == spanEval['yhat']\n",
    "    yhatLenEqInd = spanEval['yhat'].str.len() == index\n",
    "    ev = \\\n",
    "    spanEval[ (yEqYhat) & (yhatLenEqInd) \n",
    "        ].shape[0] / spanEval[ (yhatLenEqInd) \n",
    "                             ].shape[0]\n",
    "    return ev\n",
    "\n",
    "def spanEvalInd(spanEval, index:int):\n",
    "    '''correct at that length divided by the total at that length'''\n",
    "    #yEqYhat = spanEval['y'] == spanEval['yhat']\n",
    "    \n",
    "    #yhatLenEqInd = spanEval['yhat'].str.len() == index\n",
    "    #yhatstr = spanEval['yhat'].str.replace(' ','').str.replace('o','')\n",
    "    #print(yhatstr)\n",
    "    \n",
    "    #yhatLenEqInd = spanEval['yhat'].str.replace(' ','').str.replace('o','').str.len() == index\n",
    "    #yhatLenEqInd\n",
    "    \n",
    "    correct = spanEval[ \n",
    "        (spanEval['y'] == spanEval['yhat']) & (spanEval['yhat'].str.replace(' ','',regex=True).str.replace('o','',regex=True).str.len() == index) \n",
    "    ].shape[0] \n",
    "        \n",
    "    total = spanEval[ \n",
    "        (spanEval['yhat'].str.replace(' ','',regex=True).str.replace('o','',regex=True).str.len() == index) \n",
    "    ].shape[0]\n",
    "    \n",
    "    return correct / total\n",
    "\n",
    "spanEvalInd(spanEval, 2)"
   ]
  },
  {
   "cell_type": "code",
   "execution_count": null,
   "id": "d30531cb-93f8-4d3d-8466-a9a52698a86a",
   "metadata": {},
   "outputs": [],
   "source": []
  }
 ],
 "metadata": {
  "kernelspec": {
   "display_name": "Python [conda env:TermRNN]",
   "language": "python",
   "name": "conda-env-TermRNN-py"
  },
  "language_info": {
   "codemirror_mode": {
    "name": "ipython",
    "version": 3
   },
   "file_extension": ".py",
   "mimetype": "text/x-python",
   "name": "python",
   "nbconvert_exporter": "python",
   "pygments_lexer": "ipython3",
   "version": "3.10.8"
  }
 },
 "nbformat": 4,
 "nbformat_minor": 5
}
