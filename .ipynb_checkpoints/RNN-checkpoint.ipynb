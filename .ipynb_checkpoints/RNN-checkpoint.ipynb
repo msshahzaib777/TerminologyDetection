{
 "cells": [
  {
   "cell_type": "code",
   "execution_count": 11,
   "id": "19cc7ecd-9b4a-490d-86c0-f08a21394fa6",
   "metadata": {},
   "outputs": [],
   "source": [
    "from keras.models import Sequential\n",
    "from keras.layers import Embedding\n",
    "from keras.layers import Dense, Input\n",
    "from keras.layers import TimeDistributed\n",
    "from keras.layers import LSTM, GRU, Bidirectional, SimpleRNN, RNN\n",
    "from keras.preprocessing.text import Tokenizer\n",
    "from keras.models import Model\n",
    "import keras"
   ]
  },
  {
   "cell_type": "code",
   "execution_count": 26,
   "id": "9adc3b8e-105c-4575-a955-1ac20c5896bf",
   "metadata": {},
   "outputs": [],
   "source": [
    "import os\n",
    "import nltk\n",
    "import pandas as pd\n",
    "import numpy as np\n",
    "from sklearn import preprocessing, pipeline, svm, linear_model, neighbors, metrics, ensemble\n",
    "from sklearn.feature_extraction.text import CountVectorizer, TfidfVectorizer\n",
    "import matplotlib.pyplot as plt\n",
    "import seaborn as sns\n",
    "from nltk.stem import WordNetLemmatizer\n",
    "from nltk import wordpunct_tokenize, WordNetLemmatizer, sent_tokenize, pos_tag\n",
    "from nltk.corpus import stopwords as sw, wordnet as wn\n",
    "import re\n",
    "import string \n",
    "import copy\n",
    "from unidecode import unidecode\n",
    "\n",
    "from gensim.models import KeyedVectors\n",
    "from keras.utils.np_utils import to_categorical\n",
    "from tensorflow.keras.preprocessing.sequence import pad_sequences\n",
    "\n",
    "from IPython.core.interactiveshell import InteractiveShell\n",
    "InteractiveShell.ast_node_interactivity = \"all\"\n",
    "dataPath = \".\\\\data\""
   ]
  },
  {
   "cell_type": "code",
   "execution_count": 13,
   "id": "980cbd51-07f6-469e-b15e-5c8e69977b25",
   "metadata": {},
   "outputs": [],
   "source": [
    "CUSTOM_SEED = 42\n",
    "np.random.seed(CUSTOM_SEED)"
   ]
  },
  {
   "cell_type": "code",
   "execution_count": 14,
   "id": "81014b72-c790-44fc-8a87-0a772471eb41",
   "metadata": {},
   "outputs": [],
   "source": [
    "def find_files(search_path):\n",
    "    result = []\n",
    "    # Walking top-down from the root\n",
    "    for root, dir, files in os.walk(search_path):\n",
    "        for file in files:       \n",
    "                result.append(os.path.join(root, file))\n",
    "    return result\n",
    "\n",
    "def loadData(paths):\n",
    "    data = pd.DataFrame(columns=[\"tokens\", \"label\"])\n",
    "    for i in paths:\n",
    "        try:\n",
    "            doc = pd.read_csv(i, sep=\"\\t\", names=[\"tokens\", \"label\"], header=None)\n",
    "            doc['file'] = i[12:-5]\n",
    "            data = pd.concat([data, doc], ignore_index=True)\n",
    "        except Exception as e: \n",
    "            print(i, e)\n",
    "    return data\n",
    "\n",
    "def stripSpaces(x):\n",
    "    x = unidecode(x)\n",
    "    specialchar = \"!@#$%^&*()[]{};:,./<>?\\|`-~=_+\\t\\n\"\n",
    "    for tag in specialchar:\n",
    "        x = x.replace(tag, '')\n",
    "    x = x.replace(\" \", \"\")\n",
    "    x = x.lower()\n",
    "    x = x.strip()\n",
    "    return x\n",
    "\n",
    "def cleaning(_dataset, lemma=True, pos=False, verbose=True):\n",
    "    dataset = _dataset.copy()\n",
    "    dataset.drop(dataset[dataset[\"tokens\"].isna()].index, inplace=True)\n",
    "    if verbose: \n",
    "        print(\"Size after Dropping Null Tokens\",dataset.shape)\n",
    "        print(\"Tokens Without labels:\")\n",
    "    for indexWithNullLabel in dataset[dataset[\"label\"].isna()].index:\n",
    "        token = dataset[\"tokens\"][indexWithNullLabel]\n",
    "        #split with ' ' doesnt consider multiple spaces as one\n",
    "        tokenslist = token.split()\n",
    "        dataset[\"tokens\"][indexWithNullLabel] = tokenslist[0]\n",
    "\n",
    "        if (len(tokenslist) > 1):\n",
    "            dataset[\"label\"][indexWithNullLabel] = tokenslist[1]\n",
    "        else:\n",
    "            if verbose:\n",
    "                print(dataset.loc[indexWithNullLabel, :])\n",
    "            #Manual Correction for 5467 and 5858 (very & research)\n",
    "            dataset[\"label\"][indexWithNullLabel] = 'O'\n",
    "            if verbose:\n",
    "                print(\"Manual Corrected:\", dataset[\"tokens\"][indexWithNullLabel])\n",
    "    dataset = dataset.applymap(stripSpaces)\n",
    "    #label to handel 0, i*, b*, o*, 0*\n",
    "    dataset[dataset[\"label\"] == 'ii'] = 'i'\n",
    "    dataset[dataset[\"label\"] == '0'] = 'o'\n",
    "    if verbose:\n",
    "        print(\"Removing special characters\")\n",
    "    specialCharTokens = dataset[~(dataset[\"tokens\"].str.isalnum())][\"tokens\"].unique()\n",
    "    #for sprecialChar with label B, moving label to next row and droping rows  \n",
    "    specialCharWithB = dataset[dataset[\"tokens\"].isin(specialCharTokens) & (dataset[\"label\"] == 'b')].index\n",
    "    for i in specialCharWithB:\n",
    "        dataset.loc[i+1, \"label\"] = 'b'\n",
    "    dataset.drop(dataset[dataset[\"tokens\"].isin(specialCharTokens) & ((dataset[\"label\"] == 'o') | (dataset[\"label\"] == 'b') )].index, inplace=True)\n",
    "    #Drop i where there is i and b before it\n",
    "    toDrop = []\n",
    "    for i in dataset[dataset[\"tokens\"].isin(specialCharTokens)].index:\n",
    "        if(dataset[\"label\"][i-1] == 'b' or dataset[\"label\"][i-1] == 'i' ):\n",
    "            toDrop.append(i)\n",
    "        else:\n",
    "            dataset[\"label\"][i] = 'b'\n",
    "    dataset.drop(toDrop, axis=0, inplace=True)\n",
    "    if verbose:\n",
    "        print(dataset.value_counts()[:30])\n",
    "        print(\"Removing Stopwords based on above listed most frequent words\")\n",
    "    stopwords = [\"about\", \"all\", \"also\", \"among\", \"at\", \"available\", \"be\", \"because\", \"been\", \"both\", \"but\", \"by\", \"can\", \"each\", \"first\", \"has\", \"have\", \"here\", \"how\",\n",
    "             \"however\", \"into\", \"it\", \"its\", \"large\", \"learn\", \"many\", \"may\", \"more\", \"most\", \"much\", \"new\", \"not\", \"often\", \"only\", \"or\", \"other\", \"over\", \"recent\", \"related\", \"same\",\n",
    "             \"several\", \"shown\", \"some\", \"studies\", \"such\", \"than\", \"their\", \"them\", \"then\", \"there\", \"these\", \"they\", \"those\", \"through\", \"use\", \"used\", \"we\", \"well\", \"what\",\n",
    "             \"when\", \"where\", \"which\"]\n",
    "    if verbose:\n",
    "        print(\"Label order correction:\")\n",
    "    dataset.reset_index(drop=True, inplace=True)\n",
    "    temp = dataset.copy()\n",
    "    temp[\"before\"] = temp[\"label\"].shift(1)\n",
    "    temp[\"after\"] = temp[\"label\"].shift(-1)\n",
    "    for i in temp[(temp[\"label\"] == 'i') & (temp[\"before\"] == 'o') ].index:\n",
    "            # oio or oii\n",
    "            if verbose:\n",
    "                print(temp.loc[i-1, \"tokens\"]+\"(\"+temp.loc[i-1, \"label\"]+\")\\t\\t\", temp.loc[i, \"tokens\"]+\"(\"+temp.loc[i, \"label\"]+\")\\t\\t\", temp.loc[i+1, \"tokens\"]+\"(\"+temp.loc[i+1, \"label\"]+\")\")\n",
    "            if(temp.loc[i+1, \"label\"] == 'o' or temp.loc[i+1, \"label\"] == 'i'):\n",
    "                dataset.loc[i, \"label\"] = 'b'\n",
    "            # oib\n",
    "            if(temp.loc[i+1, \"label\"] == 'b'):\n",
    "                dataset.loc[i, \"label\"] = 'b'\n",
    "                dataset.loc[i+1, \"label\"] = 'i'\n",
    "    del temp\n",
    "    if verbose:\n",
    "        print(dataset[(dataset[\"tokens\"].isin(stopwords))][\"tokens\"].value_counts().index)\n",
    "    dataset.drop(dataset[dataset[\"tokens\"].isin(stopwords)].index, inplace=True)\n",
    "    if pos:\n",
    "        dataset[\"POS\"] = nltk.pos_tag(train[\"tokens\"])\n",
    "    if lemma:\n",
    "        lemmatizer = WordNetLemmatizer()\n",
    "        dataset[\"tokens\"] = dataset[\"tokens\"].apply(lambda x: lemmatizer.lemmatize(x))\n",
    "    dataset.reset_index(drop=True, inplace=True)\n",
    "    return dataset\n",
    "\n",
    "def featurePreparation(_dataset, ref=1):\n",
    "    dataset = _dataset.copy()\n",
    "    if  ref == 0:\n",
    "        dataset[\"text\"] = dataset[\"tokens\"]\n",
    "    elif ref == 1:\n",
    "        dataset[\"text\"] = dataset[\"tokens\"].shift(fill_value= \"\") + \" \" + dataset[\"tokens\"] \\\n",
    "                            + \" \" + dataset[\"tokens\"].shift(-1, fill_value= \"\")\n",
    "        dataset[\"label\"] = dataset[\"label\"].shift(fill_value= \"o\") + \" \" + dataset[\"label\"] \\\n",
    "                            + \" \" + dataset[\"label\"].shift(-1, fill_value= \"o\")\n",
    "    elif ref == 2:\n",
    "        dataset[\"text\"] = dataset[\"tokens\"].shift(2, fill_value= \"\") + \" \" + dataset[\"tokens\"].shift(fill_value= \"\") \\\n",
    "                            + \" \" + dataset[\"tokens\"] + \" \" + dataset[\"tokens\"].shift(-1, fill_value= \"\") \\\n",
    "                            + \" \" + dataset[\"tokens\"].shift(-2, fill_value= \"\")\n",
    "        dataset[\"label\"] = dataset[\"label\"].shift(2, fill_value= \"o\") + \" \" + dataset[\"label\"].shift(fill_value= \"o\") \\\n",
    "                            + \" \" + dataset[\"label\"] + \" \" + dataset[\"label\"].shift(-1, fill_value= \"o\") \\\n",
    "                            + \" \" + dataset[\"label\"].shift(-2, fill_value= \"o\")\n",
    "        \n",
    "    elif ref == 3:\n",
    "        dataset[\"text\"] = dataset[\"tokens\"].shift(3, fill_value= \"o\") + \" \" + dataset[\"tokens\"].shift(2, fill_value= \"\") \\\n",
    "                            + \" \" + dataset[\"tokens\"].shift(fill_value= \"o\") + \" \" + dataset[\"tokens\"] \\\n",
    "                            + \" \" + dataset[\"tokens\"].shift(-1, fill_value= \"o\") \\\n",
    "                            + \" \" + dataset[\"tokens\"].shift(-2, fill_value= \"o\") + \" \" + dataset[\"tokens\"].shift(-3, fill_value= \"o\")\n",
    "        dataset[\"label\"] = dataset[\"label\"].shift(3, fill_value= \"o\") + \" \" + dataset[\"label\"].shift(2, fill_value= \"o\") \\\n",
    "                            + \" \" + dataset[\"label\"].shift(fill_value= \"o\") + \" \" + dataset[\"label\"] \\\n",
    "                            + \" \" + dataset[\"label\"].shift(-1, fill_value= \"o\") \\\n",
    "                            + \" \" + dataset[\"label\"].shift(-2, fill_value= \"o\") + \" \" + dataset[\"label\"].shift(-3, fill_value= \"o\")\n",
    "    dataset = dataset.drop([\"tokens\", \"file\"], axis=1)\n",
    "    return dataset\n",
    "\n",
    "def pre_pipeline(ref=1, pos=False,lemma=True):\n",
    "    trainFiles = find_files(dataPath + \"\\\\train\")\n",
    "    testFiles = find_files(dataPath + \"\\\\test\")\n",
    "    devFiles = find_files(dataPath + \"\\\\dev\")\n",
    "    train = loadData(trainFiles)\n",
    "    test  = loadData(testFiles)\n",
    "    dev = loadData(devFiles)\n",
    "    train = cleaning(train, lemma=lemma, pos=pos, verbose=False)\n",
    "    test = cleaning(test, lemma=lemma, pos=pos, verbose=False)\n",
    "    dev = cleaning(dev, lemma=lemma, pos=pos, verbose=False)\n",
    "    train = featurePreparation(train, ref=ref)\n",
    "    test = featurePreparation(test, ref=ref)\n",
    "    dev = featurePreparation(dev, ref=ref)\n",
    "    return train, test, dev"
   ]
  },
  {
   "cell_type": "code",
   "execution_count": 15,
   "id": "e46881f8-2f1f-4ed6-ba99-3842b8eeb827",
   "metadata": {},
   "outputs": [
    {
     "name": "stdout",
     "output_type": "stream",
     "text": [
      "16894 2206 1949\n"
     ]
    }
   ],
   "source": [
    "train, test, dev = pre_pipeline(ref=3, lemma=True)\n",
    "print(train.shape[0], test.shape[0], dev.shape[0])\n",
    "data = pd.concat([train, test], axis=0, ignore_index=True)\n",
    "data = pd.concat([data, dev], axis=0, ignore_index=True)"
   ]
  },
  {
   "cell_type": "code",
   "execution_count": 16,
   "id": "b07994c1-7f47-484f-b81f-ea0cd48b30e9",
   "metadata": {},
   "outputs": [],
   "source": [
    "trainSize = train.shape[0]-1\n",
    "testSize = train.shape[0] + test.shape[0] -1 \n",
    "devSize = train.shape[0] + test.shape[0] + dev.shape[0] -1"
   ]
  },
  {
   "cell_type": "code",
   "execution_count": 17,
   "id": "f4abe192-af17-4a2d-9183-1bb1440091d3",
   "metadata": {},
   "outputs": [],
   "source": [
    "# encode X\n",
    "word_tokenizer = Tokenizer()                      # instantiate tokeniser\n",
    "word_tokenizer.fit_on_texts(data[\"text\"])                    # fit tokeniser on data\n",
    "X_encoded = word_tokenizer.texts_to_sequences(data[\"text\"])  # use the tokeniser to encode input sequence\n",
    "\n",
    "# encode Y\n",
    "tag_tokenizer = Tokenizer()\n",
    "tag_tokenizer.fit_on_texts(data[\"label\"])\n",
    "Y_encoded = tag_tokenizer.texts_to_sequences(data[\"label\"])"
   ]
  },
  {
   "cell_type": "code",
   "execution_count": 18,
   "id": "6acacb39-864a-42e9-b9f4-3c2aa7d4af7e",
   "metadata": {},
   "outputs": [
    {
     "data": {
      "text/plain": [
       "[[1, 1, 1, 1, 1, 1, 1],\n",
       " [1, 1, 1, 1, 1, 1, 2],\n",
       " [1, 1, 1, 1, 1, 2, 3],\n",
       " [1, 1, 1, 1, 2, 3, 3],\n",
       " [1, 1, 1, 2, 3, 3, 1],\n",
       " [1, 1, 2, 3, 3, 1, 1],\n",
       " [1, 2, 3, 3, 1, 1, 2],\n",
       " [2, 3, 3, 1, 1, 2, 3],\n",
       " [3, 3, 1, 1, 2, 3, 1],\n",
       " [3, 1, 1, 2, 3, 1, 1]]"
      ]
     },
     "execution_count": 18,
     "metadata": {},
     "output_type": "execute_result"
    }
   ],
   "source": [
    "Y_encoded[:10]"
   ]
  },
  {
   "cell_type": "code",
   "execution_count": 32,
   "id": "b177f1d5-6231-46bc-9779-6663aa619519",
   "metadata": {},
   "outputs": [],
   "source": [
    "# word2vec\n",
    "path = './GoogleNews-vectors-negative300.bin'\n",
    "\n",
    "# load word2vec using the following function present in the gensim library\n",
    "word2vec = KeyedVectors.load_word2vec_format(path, binary=True)\n",
    "\n",
    "# assign word vectors from word2vec model\n",
    "EMBEDDING_SIZE  = 300  # each word in word2vec model is represented using a 300 dimensional vector\n",
    "VOCABULARY_SIZE = len(word_tokenizer.word_index) + 1\n",
    "\n",
    "# create an empty embedding matix\n",
    "embedding_weights = np.zeros((VOCABULARY_SIZE, EMBEDDING_SIZE))\n",
    "\n",
    "# create a word to index dictionary mapping\n",
    "word2id = word_tokenizer.word_index\n",
    "\n",
    "# copy vectors from word2vec model to the words present in corpus\n",
    "for word, index in word2id.items():\n",
    "    try:\n",
    "        embedding_weights[index, :] = word2vec[word]\n",
    "    except KeyError:\n",
    "        pass\n",
    "\n",
    "MAX_SEQ_LENGTH = 7  # sequences greater than 100 in length will be truncated\n",
    "\n",
    "X_padded = pad_sequences(X_encoded, maxlen=MAX_SEQ_LENGTH, padding=\"pre\", truncating=\"post\")\n",
    "Y_padded = pad_sequences(Y_encoded, maxlen=MAX_SEQ_LENGTH, padding=\"pre\", truncating=\"post\")\n",
    "\n",
    "# assign padded sequences to X and Y\n",
    "X, Y = X_padded, Y_padded"
   ]
  },
  {
   "cell_type": "code",
   "execution_count": 33,
   "id": "051373a9-fffe-4b11-bc64-d04a8e9fad24",
   "metadata": {},
   "outputs": [
    {
     "data": {
      "text/plain": [
       "array([[1, 1, 1, 1, 1, 1, 1],\n",
       "       [1, 1, 1, 1, 1, 1, 2],\n",
       "       [1, 1, 1, 1, 1, 2, 3],\n",
       "       [1, 1, 1, 1, 2, 3, 3],\n",
       "       [1, 1, 1, 2, 3, 3, 1],\n",
       "       [1, 1, 2, 3, 3, 1, 1],\n",
       "       [1, 2, 3, 3, 1, 1, 2],\n",
       "       [2, 3, 3, 1, 1, 2, 3],\n",
       "       [3, 3, 1, 1, 2, 3, 1],\n",
       "       [3, 1, 1, 2, 3, 1, 1]])"
      ]
     },
     "execution_count": 33,
     "metadata": {},
     "output_type": "execute_result"
    }
   ],
   "source": [
    "Y[:10]"
   ]
  },
  {
   "cell_type": "code",
   "execution_count": 34,
   "id": "9012b3b8-ce08-429d-9f34-4b1ff86a85f7",
   "metadata": {},
   "outputs": [],
   "source": [
    "Y = to_categorical(Y)"
   ]
  },
  {
   "cell_type": "code",
   "execution_count": 35,
   "id": "c8fd9115-0fa5-4851-aded-a3469a44a2f4",
   "metadata": {},
   "outputs": [],
   "source": [
    "X_train = X[:trainSize]\n",
    "X_test = X[trainSize:testSize]\n",
    "X_validation = X[testSize:]\n",
    "Y_train = Y[:trainSize]\n",
    "Y_test = Y[trainSize:testSize]\n",
    "Y_validation = Y[testSize:]"
   ]
  },
  {
   "cell_type": "code",
   "execution_count": 36,
   "id": "50a4a4d1-f351-4d91-a328-42486bb5c08b",
   "metadata": {},
   "outputs": [
    {
     "name": "stdout",
     "output_type": "stream",
     "text": [
      "Model: \"sequential_1\"\n",
      "_________________________________________________________________\n",
      " Layer (type)                Output Shape              Param #   \n",
      "=================================================================\n",
      " embedding_1 (Embedding)     (None, 7, 300)            871800    \n",
      "                                                                 \n",
      " bidirectional_1 (Bidirectio  (None, 7, 64)            85248     \n",
      " nal)                                                            \n",
      "                                                                 \n",
      " time_distributed_1 (TimeDis  (None, 7, 4)             260       \n",
      " tributed)                                                       \n",
      "                                                                 \n",
      "=================================================================\n",
      "Total params: 957,308\n",
      "Trainable params: 957,308\n",
      "Non-trainable params: 0\n",
      "_________________________________________________________________\n"
     ]
    }
   ],
   "source": [
    "# total number of tags\n",
    "NUM_CLASSES = Y.shape[2]\n",
    "\n",
    "bidirect_model = Sequential()\n",
    "bidirect_model.add(Embedding(input_dim     = VOCABULARY_SIZE,\n",
    "                             output_dim    = EMBEDDING_SIZE,\n",
    "                             input_length  = MAX_SEQ_LENGTH,\n",
    "                             weights       = [embedding_weights],\n",
    "                             trainable     = True\n",
    "))\n",
    "bidirect_model.add(Bidirectional(LSTM(32, return_sequences=True)))\n",
    "bidirect_model.add(TimeDistributed(Dense(NUM_CLASSES, activation='softmax')))\n",
    "bidirect_model.compile(loss='categorical_crossentropy',\n",
    "              optimizer= 'adam',\n",
    "              metrics=['acc'])\n",
    "\n",
    "# check summary of model\n",
    "bidirect_model.summary()"
   ]
  },
  {
   "cell_type": "code",
   "execution_count": 37,
   "id": "16585026-a738-44c7-90fe-1b52b8996b4e",
   "metadata": {},
   "outputs": [
    {
     "name": "stdout",
     "output_type": "stream",
     "text": [
      "Epoch 1/5\n",
      "33/33 [==============================] - 9s 91ms/step - loss: 0.9592 - acc: 0.6656 - val_loss: 0.6607 - val_acc: 0.7371\n",
      "Epoch 2/5\n",
      "33/33 [==============================] - 1s 45ms/step - loss: 0.5381 - acc: 0.7724 - val_loss: 0.4766 - val_acc: 0.8156\n",
      "Epoch 3/5\n",
      "33/33 [==============================] - 2s 46ms/step - loss: 0.3383 - acc: 0.8729 - val_loss: 0.4488 - val_acc: 0.8338\n",
      "Epoch 4/5\n",
      "33/33 [==============================] - 1s 41ms/step - loss: 0.2532 - acc: 0.9066 - val_loss: 0.4409 - val_acc: 0.8405\n",
      "Epoch 5/5\n",
      "33/33 [==============================] - 1s 42ms/step - loss: 0.2060 - acc: 0.9243 - val_loss: 0.4511 - val_acc: 0.8429\n"
     ]
    }
   ],
   "source": [
    "bidirect_training = bidirect_model.fit(X_train, Y_train, batch_size=512, epochs=5, validation_data=(X_validation, Y_validation))"
   ]
  },
  {
   "cell_type": "code",
   "execution_count": 38,
   "id": "3464b891-28a8-4b49-8f34-a3c52c80cd17",
   "metadata": {},
   "outputs": [
    {
     "data": {
      "text/plain": [
       "[<matplotlib.lines.Line2D at 0x1ae90611ae0>]"
      ]
     },
     "execution_count": 38,
     "metadata": {},
     "output_type": "execute_result"
    },
    {
     "data": {
      "text/plain": [
       "[<matplotlib.lines.Line2D at 0x1ae90611d80>]"
      ]
     },
     "execution_count": 38,
     "metadata": {},
     "output_type": "execute_result"
    },
    {
     "data": {
      "text/plain": [
       "Text(0.5, 1.0, 'model accuracy')"
      ]
     },
     "execution_count": 38,
     "metadata": {},
     "output_type": "execute_result"
    },
    {
     "data": {
      "text/plain": [
       "Text(0, 0.5, 'accuracy')"
      ]
     },
     "execution_count": 38,
     "metadata": {},
     "output_type": "execute_result"
    },
    {
     "data": {
      "text/plain": [
       "Text(0.5, 0, 'epoch')"
      ]
     },
     "execution_count": 38,
     "metadata": {},
     "output_type": "execute_result"
    },
    {
     "data": {
      "text/plain": [
       "<matplotlib.legend.Legend at 0x1ae90611f00>"
      ]
     },
     "execution_count": 38,
     "metadata": {},
     "output_type": "execute_result"
    },
    {
     "data": {
      "image/png": "[encoded data removed]",
      "text/plain": [
       "<Figure size 640x480 with 1 Axes>"
      ]
     },
     "metadata": {},
     "output_type": "display_data"
    }
   ],
   "source": [
    "# visualise training history\n",
    "plt.plot(bidirect_training.history['acc'])\n",
    "plt.plot(bidirect_training.history['val_acc'])\n",
    "plt.title('model accuracy')\n",
    "plt.ylabel('accuracy')\n",
    "plt.xlabel('epoch')\n",
    "plt.legend(['train', 'test'], loc=\"lower right\")\n",
    "plt.show()"
   ]
  },
  {
   "cell_type": "code",
   "execution_count": 39,
   "id": "f8878d4e-e02f-4a03-9d60-bbb32c69d591",
   "metadata": {},
   "outputs": [
    {
     "name": "stdout",
     "output_type": "stream",
     "text": [
      "69/69 [==============================] - 2s 4ms/step\n"
     ]
    }
   ],
   "source": [
    "pre_Y_test = bidirect_model.predict(X_test)"
   ]
  },
  {
   "cell_type": "code",
   "execution_count": 40,
   "id": "648a2e47-dcc2-4b27-b592-db9fc9b75a32",
   "metadata": {},
   "outputs": [
    {
     "name": "stdout",
     "output_type": "stream",
     "text": [
      "69/69 [==============================] - 0s 4ms/step - loss: 0.4472 - acc: 0.8420\n",
      "Loss: 0.4472150206565857,\n",
      "Accuracy: 0.8419893980026245\n"
     ]
    }
   ],
   "source": [
    "loss, accuracy = bidirect_model.evaluate(X_test, Y_test, verbose = 1)\n",
    "print(\"Loss: {0},\\nAccuracy: {1}\".format(loss, accuracy))"
   ]
  },
  {
   "cell_type": "code",
   "execution_count": 41,
   "id": "f117958f-20e9-49e0-be59-e7896a94ae7a",
   "metadata": {},
   "outputs": [
    {
     "data": {
      "text/plain": [
       "array([[0., 0., 0., 1.],\n",
       "       [0., 1., 0., 0.],\n",
       "       [0., 1., 0., 0.],\n",
       "       [0., 1., 0., 0.],\n",
       "       [0., 1., 0., 0.],\n",
       "       [0., 1., 0., 0.],\n",
       "       [0., 1., 0., 0.]], dtype=float32)"
      ]
     },
     "execution_count": 41,
     "metadata": {},
     "output_type": "execute_result"
    }
   ],
   "source": [
    "Y_test[0]"
   ]
  },
  {
   "cell_type": "code",
   "execution_count": 42,
   "id": "cd11b869-7b9d-4bd9-8c6d-e096f2905e44",
   "metadata": {},
   "outputs": [
    {
     "data": {
      "text/plain": [
       "array([[3.3568786e-03, 3.3457790e-02, 1.3735810e-01, 8.2582718e-01],\n",
       "       [9.0036781e-05, 9.9729425e-01, 3.9279801e-04, 2.2229352e-03],\n",
       "       [2.0020278e-04, 9.9180752e-01, 5.2579739e-03, 2.7344141e-03],\n",
       "       [3.2804406e-04, 8.9707923e-01, 7.0500359e-02, 3.2092370e-02],\n",
       "       [1.0820073e-04, 9.9554551e-01, 2.3736199e-03, 1.9726609e-03],\n",
       "       [1.9318824e-04, 9.9477804e-01, 4.0628612e-03, 9.6594763e-04],\n",
       "       [7.6809101e-04, 9.8119885e-01, 1.6083412e-02, 1.9496029e-03]],\n",
       "      dtype=float32)"
      ]
     },
     "execution_count": 42,
     "metadata": {},
     "output_type": "execute_result"
    }
   ],
   "source": [
    "pre_Y_test[0]"
   ]
  },
  {
   "cell_type": "code",
   "execution_count": 43,
   "id": "d2e26b30-4af7-4d3b-b8c5-0b8d3da4722c",
   "metadata": {},
   "outputs": [],
   "source": [
    "pre = [] \n",
    "for i in range(0, pre_Y_test.shape[0]):\n",
    "    pre.append(np.argmax(pre_Y_test[i], axis=1))"
   ]
  },
  {
   "cell_type": "code",
   "execution_count": 44,
   "id": "8e72cc23-8f78-4c46-9a96-33be3c000cb6",
   "metadata": {},
   "outputs": [
    {
     "data": {
      "text/plain": [
       "array([3, 1, 1, 1, 1, 1, 1], dtype=int64)"
      ]
     },
     "execution_count": 44,
     "metadata": {},
     "output_type": "execute_result"
    }
   ],
   "source": [
    "np.argmax(pre_Y_test[0], axis=1)"
   ]
  },
  {
   "cell_type": "code",
   "execution_count": 45,
   "id": "3277ebba-e952-4480-b402-757c70034f67",
   "metadata": {},
   "outputs": [
    {
     "data": {
      "text/plain": [
       "[array([3, 1, 1, 1, 1, 1, 1], dtype=int64),\n",
       " array([1, 1, 1, 1, 1, 1, 2], dtype=int64),\n",
       " array([1, 1, 1, 1, 1, 2, 3], dtype=int64),\n",
       " array([1, 1, 1, 1, 2, 3, 1], dtype=int64),\n",
       " array([3, 1, 1, 2, 3, 1, 2], dtype=int64),\n",
       " array([1, 1, 2, 3, 1, 2, 3], dtype=int64),\n",
       " array([1, 2, 3, 1, 2, 3, 3], dtype=int64),\n",
       " array([2, 3, 1, 2, 3, 3, 1], dtype=int64),\n",
       " array([3, 1, 2, 3, 3, 1, 1], dtype=int64),\n",
       " array([1, 2, 3, 3, 1, 1, 1], dtype=int64)]"
      ]
     },
     "execution_count": 45,
     "metadata": {},
     "output_type": "execute_result"
    }
   ],
   "source": [
    "pre[:10]"
   ]
  },
  {
   "cell_type": "code",
   "execution_count": 46,
   "id": "f748c9ed-a83c-4dc0-8da6-b0d1b2b4a34b",
   "metadata": {},
   "outputs": [],
   "source": [
    "# Creating a reverse dictionary\n",
    "reverse_word_map = dict(map(reversed, tag_tokenizer.word_index.items()))\n",
    "\n",
    "# Function takes a tokenized sentence and returns the words\n",
    "def sequence_to_text(list_of_indices):\n",
    "    # Looking up words in dictionary\n",
    "    words = [reverse_word_map.get(letter) for letter in list_of_indices]\n",
    "    return(words)"
   ]
  },
  {
   "cell_type": "code",
   "execution_count": 47,
   "id": "0e7b896f-b8e2-4068-b76b-de7d992246c5",
   "metadata": {},
   "outputs": [],
   "source": [
    "# Creating texts \n",
    "my_texts = list(map(sequence_to_text, pre))"
   ]
  },
  {
   "cell_type": "code",
   "execution_count": 72,
   "id": "02758257-704c-4a74-8294-0e47e5a64a20",
   "metadata": {},
   "outputs": [],
   "source": [
    "labels = []\n",
    "for i in range(1, len(my_texts)):\n",
    "    labels.append(\" \".join([str(i) for a,i in enumerate(my_texts[i])]))"
   ]
  },
  {
   "cell_type": "code",
   "execution_count": 73,
   "id": "4c37d76e-eb5e-45c7-a164-f47f17194487",
   "metadata": {},
   "outputs": [],
   "source": [
    "evaluate  = pd.concat([test, pd.Series(labels)], axis=1) "
   ]
  },
  {
   "cell_type": "code",
   "execution_count": 74,
   "id": "c4eef449-5fb1-4f7d-b86c-11cc159385dc",
   "metadata": {},
   "outputs": [
    {
     "data": {
      "text/html": [
       "<div>\n",
       "<style scoped>\n",
       "    .dataframe tbody tr th:only-of-type {\n",
       "        vertical-align: middle;\n",
       "    }\n",
       "\n",
       "    .dataframe tbody tr th {\n",
       "        vertical-align: top;\n",
       "    }\n",
       "\n",
       "    .dataframe thead th {\n",
       "        text-align: right;\n",
       "    }\n",
       "</style>\n",
       "<table border=\"1\" class=\"dataframe\">\n",
       "  <thead>\n",
       "    <tr style=\"text-align: right;\">\n",
       "      <th></th>\n",
       "      <th>label</th>\n",
       "      <th>text</th>\n",
       "      <th>0</th>\n",
       "    </tr>\n",
       "  </thead>\n",
       "  <tbody>\n",
       "    <tr>\n",
       "      <th>0</th>\n",
       "      <td>o o o o o o b</td>\n",
       "      <td>o  o system based on synchronous</td>\n",
       "      <td>o o o o o o b</td>\n",
       "    </tr>\n",
       "    <tr>\n",
       "      <th>1</th>\n",
       "      <td>o o o o o b i</td>\n",
       "      <td>o  system based on synchronous grammar</td>\n",
       "      <td>o o o o o b i</td>\n",
       "    </tr>\n",
       "    <tr>\n",
       "      <th>2</th>\n",
       "      <td>o o o o b i o</td>\n",
       "      <td>o system based on synchronous grammar and</td>\n",
       "      <td>o o o o b i o</td>\n",
       "    </tr>\n",
       "    <tr>\n",
       "      <th>3</th>\n",
       "      <td>o o o b i o b</td>\n",
       "      <td>system based on synchronous grammar and tree</td>\n",
       "      <td>i o o b i o b</td>\n",
       "    </tr>\n",
       "    <tr>\n",
       "      <th>4</th>\n",
       "      <td>o o b i o b b</td>\n",
       "      <td>based on synchronous grammar and tree transducer</td>\n",
       "      <td>o o b i o b i</td>\n",
       "    </tr>\n",
       "    <tr>\n",
       "      <th>...</th>\n",
       "      <td>...</td>\n",
       "      <td>...</td>\n",
       "      <td>...</td>\n",
       "    </tr>\n",
       "    <tr>\n",
       "      <th>2201</th>\n",
       "      <td>i o o o o o b</td>\n",
       "      <td>technique and lead to direction for parser</td>\n",
       "      <td>o o o o o o b</td>\n",
       "    </tr>\n",
       "    <tr>\n",
       "      <th>2202</th>\n",
       "      <td>o o o o o b o</td>\n",
       "      <td>and lead to direction for parser development</td>\n",
       "      <td>o o o o o b o</td>\n",
       "    </tr>\n",
       "    <tr>\n",
       "      <th>2203</th>\n",
       "      <td>o o o o b o o</td>\n",
       "      <td>lead to direction for parser development o</td>\n",
       "      <td>o o o o b o o</td>\n",
       "    </tr>\n",
       "    <tr>\n",
       "      <th>2204</th>\n",
       "      <td>o o o b o o o</td>\n",
       "      <td>to direction for parser development o o</td>\n",
       "      <td>o o o b o o o</td>\n",
       "    </tr>\n",
       "    <tr>\n",
       "      <th>2205</th>\n",
       "      <td>o o b o o o o</td>\n",
       "      <td>direction for parser development o o o</td>\n",
       "      <td>NaN</td>\n",
       "    </tr>\n",
       "  </tbody>\n",
       "</table>\n",
       "<p>2206 rows × 3 columns</p>\n",
       "</div>"
      ],
      "text/plain": [
       "              label                                              text  \\\n",
       "0     o o o o o o b                  o  o system based on synchronous   \n",
       "1     o o o o o b i            o  system based on synchronous grammar   \n",
       "2     o o o o b i o         o system based on synchronous grammar and   \n",
       "3     o o o b i o b      system based on synchronous grammar and tree   \n",
       "4     o o b i o b b  based on synchronous grammar and tree transducer   \n",
       "...             ...                                               ...   \n",
       "2201  i o o o o o b        technique and lead to direction for parser   \n",
       "2202  o o o o o b o      and lead to direction for parser development   \n",
       "2203  o o o o b o o        lead to direction for parser development o   \n",
       "2204  o o o b o o o           to direction for parser development o o   \n",
       "2205  o o b o o o o            direction for parser development o o o   \n",
       "\n",
       "                  0  \n",
       "0     o o o o o o b  \n",
       "1     o o o o o b i  \n",
       "2     o o o o b i o  \n",
       "3     i o o b i o b  \n",
       "4     o o b i o b i  \n",
       "...             ...  \n",
       "2201  o o o o o o b  \n",
       "2202  o o o o o b o  \n",
       "2203  o o o o b o o  \n",
       "2204  o o o b o o o  \n",
       "2205            NaN  \n",
       "\n",
       "[2206 rows x 3 columns]"
      ]
     },
     "execution_count": 74,
     "metadata": {},
     "output_type": "execute_result"
    }
   ],
   "source": [
    "evaluate"
   ]
  }
 ],
 "metadata": {
  "kernelspec": {
   "display_name": "IDMC",
   "language": "python",
   "name": "idmc"
  },
  "language_info": {
   "codemirror_mode": {
    "name": "ipython",
    "version": 3
   },
   "file_extension": ".py",
   "mimetype": "text/x-python",
   "name": "python",
   "nbconvert_exporter": "python",
   "pygments_lexer": "ipython3",
   "version": "3.10.6"
  }
 },
 "nbformat": 4,
 "nbformat_minor": 5
}
