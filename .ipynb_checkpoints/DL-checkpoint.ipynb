{
 "cells": [
  {
   "cell_type": "code",
   "execution_count": 1,
   "id": "b4eb4bb2-a3d9-4fc7-90c0-3c6d178b41e5",
   "metadata": {},
   "outputs": [
    {
     "name": "stderr",
     "output_type": "stream",
     "text": [
      "C:\\ProgramData\\Anaconda3\\envs\\IDMC\\lib\\site-packages\\scipy\\__init__.py:146: UserWarning: A NumPy version >=1.16.5 and <1.23.0 is required for this version of SciPy (detected version 1.23.3\n",
      "  warnings.warn(f\"A NumPy version >={np_minversion} and <{np_maxversion}\"\n"
     ]
    }
   ],
   "source": [
    "import os\n",
    "import nltk\n",
    "import pandas as pd\n",
    "import numpy as np\n",
    "from sklearn import preprocessing, pipeline, svm, linear_model, neighbors, metrics, ensemble\n",
    "from sklearn.feature_extraction.text import CountVectorizer, TfidfVectorizer\n",
    "import matplotlib.pyplot as plt\n",
    "import seaborn as sns\n",
    "import torch\n",
    "import torch.nn as nn\n",
    "from torch.utils.data import DataLoader, Subset\n",
    "from torchvision import transforms, datasets\n",
    "from nltk.stem import WordNetLemmatizer\n",
    "from nltk import wordpunct_tokenize, WordNetLemmatizer, sent_tokenize, pos_tag\n",
    "from nltk.corpus import stopwords as sw, wordnet as wn\n",
    "import re\n",
    "import string \n",
    "import copy\n",
    "from unidecode import unidecode\n",
    "from IPython.core.interactiveshell import InteractiveShell\n",
    "InteractiveShell.ast_node_interactivity = \"all\"\n",
    "dataPath = \".\\\\data\""
   ]
  },
  {
   "cell_type": "code",
   "execution_count": 2,
   "id": "980cbd51-07f6-469e-b15e-5c8e69977b25",
   "metadata": {},
   "outputs": [],
   "source": [
    "import numpy as np\n",
    "CUSTOM_SEED = 42\n",
    "np.random.seed(CUSTOM_SEED)"
   ]
  },
  {
   "cell_type": "code",
   "execution_count": 3,
   "id": "81014b72-c790-44fc-8a87-0a772471eb41",
   "metadata": {},
   "outputs": [],
   "source": [
    "def find_files(search_path):\n",
    "    result = []\n",
    "    # Walking top-down from the root\n",
    "    for root, dir, files in os.walk(search_path):\n",
    "        for file in files:       \n",
    "                result.append(os.path.join(root, file))\n",
    "    return result\n",
    "\n",
    "def loadData(paths):\n",
    "    data = pd.DataFrame(columns=[\"tokens\", \"label\"])\n",
    "    for i in paths:\n",
    "        try:\n",
    "            doc = pd.read_csv(i, sep=\"\\t\", names=[\"tokens\", \"label\"], header=None)\n",
    "            doc['file'] = i[12:-5]\n",
    "            data = pd.concat([data, doc], ignore_index=True)\n",
    "        except Exception as e: \n",
    "            print(i, e)\n",
    "    return data\n",
    "\n",
    "def stripSpaces(x):\n",
    "    x = unidecode(x)\n",
    "    specialchar = \"!@#$%^&*()[]{};:,./<>?\\|`-~=_+\\t\\n\"\n",
    "    for tag in specialchar:\n",
    "        x = x.replace(tag, '')\n",
    "    x = x.replace(\" \", \"\")\n",
    "    x = x.lower()\n",
    "    x = x.strip()\n",
    "    return x\n",
    "\n",
    "def cleaning(_dataset, lemma=True, pos=False, verbose=True):\n",
    "    dataset = _dataset.copy()\n",
    "    dataset.drop(dataset[dataset[\"tokens\"].isna()].index, inplace=True)\n",
    "    if verbose: \n",
    "        print(\"Size after Dropping Null Tokens\",dataset.shape)\n",
    "        print(\"Tokens Without labels:\")\n",
    "    for indexWithNullLabel in dataset[dataset[\"label\"].isna()].index:\n",
    "        token = dataset[\"tokens\"][indexWithNullLabel]\n",
    "        #split with ' ' doesnt consider multiple spaces as one\n",
    "        tokenslist = token.split()\n",
    "        dataset[\"tokens\"][indexWithNullLabel] = tokenslist[0]\n",
    "\n",
    "        if (len(tokenslist) > 1):\n",
    "            dataset[\"label\"][indexWithNullLabel] = tokenslist[1]\n",
    "        else:\n",
    "            if verbose:\n",
    "                print(dataset.loc[indexWithNullLabel, :])\n",
    "            #Manual Correction for 5467 and 5858 (very & research)\n",
    "            dataset[\"label\"][indexWithNullLabel] = 'O'\n",
    "            if verbose:\n",
    "                print(\"Manual Corrected:\", dataset[\"tokens\"][indexWithNullLabel])\n",
    "    dataset = dataset.applymap(stripSpaces)\n",
    "    #label to handel 0, i*, b*, o*, 0*\n",
    "    dataset[dataset[\"label\"] == 'ii'] = 'i'\n",
    "    dataset[dataset[\"label\"] == '0'] = 'o'\n",
    "    if verbose:\n",
    "        print(\"Removing special characters\")\n",
    "    specialCharTokens = dataset[~(dataset[\"tokens\"].str.isalnum())][\"tokens\"].unique()\n",
    "    #for sprecialChar with label B, moving label to next row and droping rows  \n",
    "    specialCharWithB = dataset[dataset[\"tokens\"].isin(specialCharTokens) & (dataset[\"label\"] == 'b')].index\n",
    "    for i in specialCharWithB:\n",
    "        dataset.loc[i+1, \"label\"] = 'b'\n",
    "    dataset.drop(dataset[dataset[\"tokens\"].isin(specialCharTokens) & ((dataset[\"label\"] == 'o') | (dataset[\"label\"] == 'b') )].index, inplace=True)\n",
    "    #Drop i where there is i and b before it\n",
    "    toDrop = []\n",
    "    for i in dataset[dataset[\"tokens\"].isin(specialCharTokens)].index:\n",
    "        if(dataset[\"label\"][i-1] == 'b' or dataset[\"label\"][i-1] == 'i' ):\n",
    "            toDrop.append(i)\n",
    "        else:\n",
    "            dataset[\"label\"][i] = 'b'\n",
    "    dataset.drop(toDrop, axis=0, inplace=True)\n",
    "    if verbose:\n",
    "        print(dataset.value_counts()[:30])\n",
    "        print(\"Removing Stopwords based on above listed most frequent words\")\n",
    "    stopwords = [\"about\", \"all\", \"also\", \"among\", \"at\", \"available\", \"be\", \"because\", \"been\", \"both\", \"but\", \"by\", \"can\", \"each\", \"first\", \"has\", \"have\", \"here\", \"how\",\n",
    "             \"however\", \"into\", \"it\", \"its\", \"large\", \"learn\", \"many\", \"may\", \"more\", \"most\", \"much\", \"new\", \"not\", \"often\", \"only\", \"or\", \"other\", \"over\", \"recent\", \"related\", \"same\",\n",
    "             \"several\", \"shown\", \"some\", \"studies\", \"such\", \"than\", \"their\", \"them\", \"then\", \"there\", \"these\", \"they\", \"those\", \"through\", \"use\", \"used\", \"we\", \"well\", \"what\",\n",
    "             \"when\", \"where\", \"which\"]\n",
    "    if verbose:\n",
    "        print(\"Label order correction:\")\n",
    "    dataset.reset_index(drop=True, inplace=True)\n",
    "    temp = dataset.copy()\n",
    "    temp[\"before\"] = temp[\"label\"].shift(1)\n",
    "    temp[\"after\"] = temp[\"label\"].shift(-1)\n",
    "    for i in temp[(temp[\"label\"] == 'i') & (temp[\"before\"] == 'o') ].index:\n",
    "            # oio or oii\n",
    "            if verbose:\n",
    "                print(temp.loc[i-1, \"tokens\"]+\"(\"+temp.loc[i-1, \"label\"]+\")\\t\\t\", temp.loc[i, \"tokens\"]+\"(\"+temp.loc[i, \"label\"]+\")\\t\\t\", temp.loc[i+1, \"tokens\"]+\"(\"+temp.loc[i+1, \"label\"]+\")\")\n",
    "            if(temp.loc[i+1, \"label\"] == 'o' or temp.loc[i+1, \"label\"] == 'i'):\n",
    "                dataset.loc[i, \"label\"] = 'b'\n",
    "            # oib\n",
    "            if(temp.loc[i+1, \"label\"] == 'b'):\n",
    "                dataset.loc[i, \"label\"] = 'b'\n",
    "                dataset.loc[i+1, \"label\"] = 'i'\n",
    "    del temp\n",
    "    if verbose:\n",
    "        print(dataset[(dataset[\"tokens\"].isin(stopwords))][\"tokens\"].value_counts().index)\n",
    "    dataset.drop(dataset[dataset[\"tokens\"].isin(stopwords)].index, inplace=True)\n",
    "    if pos:\n",
    "        dataset[\"POS\"] = nltk.pos_tag(train[\"tokens\"])\n",
    "    if lemma:\n",
    "        lemmatizer = WordNetLemmatizer()\n",
    "        dataset[\"tokens\"] = dataset[\"tokens\"].apply(lambda x: lemmatizer.lemmatize(x))\n",
    "    dataset.reset_index(drop=True, inplace=True)\n",
    "    return dataset\n",
    "\n",
    "def featurePreparation(_dataset, ref=1):\n",
    "    dataset = _dataset.copy()\n",
    "    if  ref == 0:\n",
    "        dataset[\"text\"] = dataset[\"tokens\"]\n",
    "    elif ref == 1:\n",
    "        dataset[\"text\"] = dataset[\"tokens\"].shift(fill_value= \"\") + \" \" + dataset[\"tokens\"] \\\n",
    "                            + \" \" + dataset[\"tokens\"].shift(-1, fill_value= \"\")\n",
    "    elif ref == 2:\n",
    "        dataset[\"text\"] = dataset[\"tokens\"].shift(2, fill_value= \"\") + \" \" + dataset[\"tokens\"].shift(fill_value= \"\") \\\n",
    "                            + \" \" + dataset[\"tokens\"] + \" \" + dataset[\"tokens\"].shift(-1, fill_value= \"\") \\\n",
    "                            + \" \" + dataset[\"tokens\"].shift(-2, fill_value= \"\")\n",
    "    elif ref == 3:\n",
    "        dataset[\"text\"] = dataset[\"tokens\"].shift(3, fill_value= \"\") + \" \" + dataset[\"tokens\"].shift(2, fill_value= \"\") \\\n",
    "                            + \" \" + dataset[\"tokens\"].shift(fill_value= \"\") + \" \" + dataset[\"tokens\"] \\\n",
    "                            + \" \" + dataset[\"tokens\"].shift(-1, fill_value= \"\") \\\n",
    "                            + \" \" + dataset[\"tokens\"].shift(-2, fill_value= \"\") + \" \" + dataset[\"tokens\"].shift(-3, fill_value= \"\")\n",
    "    dataset = dataset.drop([\"tokens\", \"file\"], axis=1)\n",
    "    return dataset\n",
    "\n",
    "def pre_pipeline(ref=1, pos=False,lemma=True):\n",
    "    trainFiles = find_files(dataPath + \"\\\\train\")\n",
    "    testFiles = find_files(dataPath + \"\\\\test\")\n",
    "    devFiles = find_files(dataPath + \"\\\\dev\")\n",
    "    train = loadData(trainFiles)\n",
    "    test  = loadData(testFiles)\n",
    "    dev = loadData(devFiles)\n",
    "    train = cleaning(train, lemma=lemma, pos=pos, verbose=False)\n",
    "    test = cleaning(test, lemma=lemma, pos=pos, verbose=False)\n",
    "    dev = cleaning(dev, lemma=lemma, pos=pos, verbose=False)\n",
    "    train = featurePreparation(train, ref=ref)\n",
    "    test = featurePreparation(test, ref=ref)\n",
    "    dev = featurePreparation(dev, ref=ref)\n",
    "    return train, test, dev"
   ]
  },
  {
   "cell_type": "code",
   "execution_count": 4,
   "id": "10a059b8-d09c-4c87-ad7e-9ce463af4c04",
   "metadata": {},
   "outputs": [
    {
     "name": "stdout",
     "output_type": "stream",
     "text": [
      "Vobac Size 2920\n"
     ]
    }
   ],
   "source": [
    "train, test, dev = pre_pipeline(ref=2,lemma=False)\n",
    "vectorizer = CountVectorizer()\n",
    "trainX = vectorizer.fit_transform(train[\"text\"])\n",
    "testX = vectorizer.transform(test[\"text\"])\n",
    "devX = vectorizer.transform(dev[\"text\"])\n",
    "print(\"Vobac Size\", len(vectorizer.get_feature_names_out()))\n",
    "\n",
    "le = preprocessing.OneHotEncoder()\n",
    "le = le.fit(train[\"label\"].values.reshape(-1,1))\n",
    "trainY = le.transform(train[\"label\"].values.reshape(-1,1))\n",
    "devY = le.transform(dev[\"label\"].values.reshape(-1,1))\n",
    "testY = le.transform(test[\"label\"].values.reshape(-1,1))"
   ]
  },
  {
   "cell_type": "code",
   "execution_count": 5,
   "id": "3ecafa7d-7962-4cb5-90c4-3326e491b89a",
   "metadata": {},
   "outputs": [],
   "source": [
    "from keras.models import Sequential\n",
    "from keras.layers import Dense, Dropout, Activation\n",
    "\n",
    "def build_model(input_dim, hidden_neurons, output_dim):\n",
    "    \"\"\"\n",
    "    Construct, compile and return a Keras model which will be used to fit/predict\n",
    "    \"\"\"\n",
    "    model = Sequential([\n",
    "        Dense(hidden_neurons, input_dim=input_dim),\n",
    "        Activation('relu'),\n",
    "        Dropout(0.2),\n",
    "        Dense(hidden_neurons),\n",
    "        Activation('relu'),\n",
    "        Dropout(0.2),\n",
    "        Dense(output_dim, activation='softmax')\n",
    "    ])\n",
    "    model.compile(loss='categorical_crossentropy', optimizer='adam', metrics=['accuracy'])\n",
    "    return model"
   ]
  },
  {
   "cell_type": "code",
   "execution_count": 6,
   "id": "2e2173a2-ca8f-4bef-80a9-772da63749e1",
   "metadata": {},
   "outputs": [
    {
     "name": "stderr",
     "output_type": "stream",
     "text": [
      "C:\\Users\\Administrator\\AppData\\Local\\Temp\\ipykernel_15328\\3618872089.py:13: DeprecationWarning: KerasClassifier is deprecated, use Sci-Keras (https://github.com/adriangb/scikeras) instead. See https://www.adriangb.com/scikeras/stable/migration.html for help migrating.\n",
      "  clf = KerasClassifier(**model_params)\n"
     ]
    }
   ],
   "source": [
    "from keras.wrappers.scikit_learn import KerasClassifier\n",
    "model_params = {\n",
    "    'build_fn': build_model,\n",
    "    'input_dim': trainX.shape[1],\n",
    "    'hidden_neurons': 512,\n",
    "    'output_dim': trainY.shape[1],\n",
    "    'epochs': 14,\n",
    "    'batch_size': 3000,\n",
    "    'verbose': 1,\n",
    "    'validation_data': (devX.toarray(), devY.toarray()),\n",
    "    'shuffle': True\n",
    "}\n",
    "clf = KerasClassifier(**model_params)"
   ]
  },
  {
   "cell_type": "code",
   "execution_count": 7,
   "id": "b5af8012-e89b-4c08-a341-9a517647a909",
   "metadata": {},
   "outputs": [
    {
     "name": "stdout",
     "output_type": "stream",
     "text": [
      "Epoch 1/14\n",
      "6/6 [==============================] - 3s 300ms/step - loss: 0.9368 - accuracy: 0.6347 - val_loss: 0.7533 - val_accuracy: 0.7358\n",
      "Epoch 2/14\n",
      "6/6 [==============================] - 1s 166ms/step - loss: 0.7929 - accuracy: 0.7070 - val_loss: 0.7242 - val_accuracy: 0.7358\n",
      "Epoch 3/14\n",
      "6/6 [==============================] - 1s 170ms/step - loss: 0.7275 - accuracy: 0.7070 - val_loss: 0.7174 - val_accuracy: 0.7358\n",
      "Epoch 4/14\n",
      "6/6 [==============================] - 1s 172ms/step - loss: 0.6937 - accuracy: 0.7070 - val_loss: 0.6903 - val_accuracy: 0.7358\n",
      "Epoch 5/14\n",
      "6/6 [==============================] - 1s 167ms/step - loss: 0.6584 - accuracy: 0.7070 - val_loss: 0.6783 - val_accuracy: 0.7358\n",
      "Epoch 6/14\n",
      "6/6 [==============================] - 1s 165ms/step - loss: 0.6333 - accuracy: 0.7070 - val_loss: 0.6716 - val_accuracy: 0.7358\n",
      "Epoch 7/14\n",
      "6/6 [==============================] - 1s 162ms/step - loss: 0.6070 - accuracy: 0.7072 - val_loss: 0.6696 - val_accuracy: 0.7352\n",
      "Epoch 8/14\n",
      "6/6 [==============================] - 1s 158ms/step - loss: 0.5828 - accuracy: 0.7121 - val_loss: 0.6672 - val_accuracy: 0.7404\n",
      "Epoch 9/14\n",
      "6/6 [==============================] - 1s 156ms/step - loss: 0.5582 - accuracy: 0.7239 - val_loss: 0.6693 - val_accuracy: 0.7450\n",
      "Epoch 10/14\n",
      "6/6 [==============================] - 1s 170ms/step - loss: 0.5322 - accuracy: 0.7420 - val_loss: 0.6744 - val_accuracy: 0.7414\n",
      "Epoch 11/14\n",
      "6/6 [==============================] - 1s 167ms/step - loss: 0.5033 - accuracy: 0.7590 - val_loss: 0.6842 - val_accuracy: 0.7424\n",
      "Epoch 12/14\n",
      "6/6 [==============================] - 1s 155ms/step - loss: 0.4726 - accuracy: 0.7777 - val_loss: 0.6942 - val_accuracy: 0.7388\n",
      "Epoch 13/14\n",
      "6/6 [==============================] - 1s 165ms/step - loss: 0.4387 - accuracy: 0.8023 - val_loss: 0.7120 - val_accuracy: 0.7399\n",
      "Epoch 14/14\n",
      "6/6 [==============================] - 1s 154ms/step - loss: 0.4006 - accuracy: 0.8237 - val_loss: 0.7343 - val_accuracy: 0.7399\n"
     ]
    }
   ],
   "source": [
    "hist = clf.fit(trainX.toarray(), trainY.toarray())"
   ]
  },
  {
   "cell_type": "code",
   "execution_count": 8,
   "id": "a166178d-98e0-4ba5-9824-09fa7e0adb06",
   "metadata": {},
   "outputs": [
    {
     "data": {
      "image/png": "[encoded data removed]",
      "text/plain": [
       "<Figure size 1000x800 with 2 Axes>"
      ]
     },
     "metadata": {},
     "output_type": "display_data"
    }
   ],
   "source": [
    "import matplotlib.pyplot as plt\n",
    "\n",
    "def plot_model_performance(train_loss, train_acc, train_val_loss, train_val_acc):\n",
    "    \"\"\" Plot model loss and accuracy through epochs. \"\"\"    \n",
    "    blue= '#34495E'\n",
    "    green = '#2ECC71'\n",
    "    orange = '#E23B13'    # plot model loss\n",
    "    fig, (ax1, ax2) = plt.subplots(2, figsize=(10, 8))\n",
    "    ax1.plot(range(1, len(train_loss) + 1), train_loss, blue, linewidth=5, label='training')\n",
    "    ax1.plot(range(1, len(train_val_loss) + 1), train_val_loss, green, linewidth=5, label='validation')\n",
    "    ax1.set_xlabel('# epoch')\n",
    "    ax1.set_ylabel('loss')\n",
    "    ax1.tick_params('y')\n",
    "    ax1.legend(loc='upper right', shadow=False)\n",
    "    ax1.set_title('Model loss through #epochs', color=orange, fontweight='bold')    # plot model accuracy\n",
    "    ax2.plot(range(1, len(train_acc) + 1), train_acc, blue, linewidth=5, label='training')\n",
    "    ax2.plot(range(1, len(train_val_acc) + 1), train_val_acc, green, linewidth=5, label='validation')\n",
    "    ax2.set_xlabel('# epoch')\n",
    "    ax2.set_ylabel('accuracy')\n",
    "    ax2.tick_params('y')\n",
    "    ax2.legend(loc='lower right', shadow=False)\n",
    "    ax2.set_title('Model accuracy through #epochs', color=orange, fontweight='bold')\n",
    "    \n",
    "plot_model_performance(\n",
    "    train_loss=hist.history.get('loss', []),\n",
    "    train_acc=hist.history.get('accuracy', []),\n",
    "    train_val_loss=hist.history.get('val_loss', []),\n",
    "    train_val_acc=hist.history.get('val_accuracy', [])\n",
    ")"
   ]
  },
  {
   "cell_type": "code",
   "execution_count": 9,
   "id": "4131ec82-5292-4415-9792-e0ddae6659ad",
   "metadata": {},
   "outputs": [
    {
     "name": "stdout",
     "output_type": "stream",
     "text": [
      "You must install pydot (`pip install pydot`) and install graphviz (see instructions at https://graphviz.gitlab.io/download/) for plot_model/model_to_dot to work.\n",
      "1/1 [==============================] - 1s 595ms/step - loss: 0.8400 - accuracy: 0.7167\n",
      "0.7166817784309387\n",
      "69/69 [==============================] - 1s 7ms/step\n"
     ]
    }
   ],
   "source": [
    "from keras.utils import plot_model\n",
    "plot_model(clf.model, to_file='model.png', show_shapes=True)\n",
    "clf.model.save('./keras_mlp.h5')\n",
    "score = clf.score(testX.toarray(), testY.toarray())\n",
    "print(score)\n",
    "yhat = clf.predict(testX.toarray())"
   ]
  },
  {
   "cell_type": "code",
   "execution_count": 10,
   "id": "d7567c79-34d9-4040-8907-d8823b8df171",
   "metadata": {},
   "outputs": [
    {
     "data": {
      "text/plain": [
       "0.024922118380062305"
      ]
     },
     "execution_count": 10,
     "metadata": {},
     "output_type": "execute_result"
    },
    {
     "data": {
      "text/plain": [
       "0.04854368932038835"
      ]
     },
     "execution_count": 10,
     "metadata": {},
     "output_type": "execute_result"
    },
    {
     "data": {
      "text/plain": [
       "0.014492753623188406"
      ]
     },
     "execution_count": 10,
     "metadata": {},
     "output_type": "execute_result"
    },
    {
     "data": {
      "text/plain": [
       "0.014925373134328358"
      ]
     },
     "execution_count": 10,
     "metadata": {},
     "output_type": "execute_result"
    }
   ],
   "source": [
    "# 0=b 1=i 2=o\n",
    "yhat = pd.DataFrame(yhat)\n",
    "yhat[yhat[0] == 0]  = 'b'\n",
    "yhat[yhat[0] == 1]  = 'i'\n",
    "yhat[yhat[0] == 2]  = 'o'\n",
    "\n",
    "\n",
    "d = {'y': test[\"label\"].values, 'yhat': yhat[0].values}\n",
    "comparison = pd.DataFrame(data=d)\n",
    "spanEval = pd.DataFrame( columns=[\"y\", \"yhat\"])\n",
    "for i in range(0, comparison.shape[0]):\n",
    "    if(comparison['y'][i] == 'b'):\n",
    "        j = i+1\n",
    "        ystr = \"b\"\n",
    "        yhatstr = comparison['yhat'][i]\n",
    "        while(comparison['y'][j] == \"i\"):\n",
    "            ystr = ystr + comparison['y'][j]\n",
    "            yhatstr = yhatstr + comparison['yhat'][j]\n",
    "            j = j + 1\n",
    "        toAppend = pd.DataFrame({'y':ystr, 'yhat':yhatstr}, index={1})\n",
    "        spanEval = pd.concat([spanEval, toAppend], ignore_index=True)\n",
    "\n",
    "spanEval[(spanEval['y'] == spanEval['yhat'])].shape[0] / spanEval.shape[0]\n",
    "spanEval[(spanEval['y'] == spanEval['yhat']) & (spanEval['yhat'].str.len() == 1)].shape[0] / spanEval[(spanEval['yhat'].str.len() == 1)].shape[0]\n",
    "spanEval[(spanEval['y'] == spanEval['yhat']) & (spanEval['yhat'].str.len() == 2)].shape[0] / spanEval[(spanEval['yhat'].str.len() == 2)].shape[0]\n",
    "spanEval[(spanEval['y'] == spanEval['yhat']) & (spanEval['yhat'].str.len() == 3)].shape[0] / spanEval[(spanEval['yhat'].str.len() == 3)].shape[0]"
   ]
  },
  {
   "cell_type": "code",
   "execution_count": 11,
   "id": "3f09ca59-d14d-476f-862e-1fcba8d50d32",
   "metadata": {},
   "outputs": [
    {
     "name": "stdout",
     "output_type": "stream",
     "text": [
      "Vobac Size 2920\n",
      "Epoch 1/14\n",
      "6/6 [==============================] - 3s 267ms/step - loss: 0.9247 - accuracy: 0.6273 - val_loss: 0.7563 - val_accuracy: 0.7358\n",
      "Epoch 2/14\n",
      "6/6 [==============================] - 1s 156ms/step - loss: 0.8029 - accuracy: 0.7070 - val_loss: 0.7413 - val_accuracy: 0.7358\n",
      "Epoch 3/14\n",
      "6/6 [==============================] - 1s 151ms/step - loss: 0.7407 - accuracy: 0.7070 - val_loss: 0.7665 - val_accuracy: 0.7358\n",
      "Epoch 4/14\n",
      "6/6 [==============================] - 1s 142ms/step - loss: 0.7128 - accuracy: 0.7070 - val_loss: 0.7168 - val_accuracy: 0.7358\n",
      "Epoch 5/14\n",
      "6/6 [==============================] - 1s 138ms/step - loss: 0.6858 - accuracy: 0.7070 - val_loss: 0.6968 - val_accuracy: 0.7358\n",
      "Epoch 6/14\n",
      "6/6 [==============================] - 1s 136ms/step - loss: 0.6623 - accuracy: 0.7070 - val_loss: 0.7078 - val_accuracy: 0.7358\n",
      "Epoch 7/14\n",
      "6/6 [==============================] - 1s 126ms/step - loss: 0.6420 - accuracy: 0.7071 - val_loss: 0.7029 - val_accuracy: 0.7358\n",
      "Epoch 8/14\n",
      "6/6 [==============================] - 1s 136ms/step - loss: 0.6210 - accuracy: 0.7089 - val_loss: 0.6886 - val_accuracy: 0.7363\n",
      "Epoch 9/14\n",
      "6/6 [==============================] - 1s 134ms/step - loss: 0.5984 - accuracy: 0.7150 - val_loss: 0.6942 - val_accuracy: 0.7399\n",
      "Epoch 10/14\n",
      "6/6 [==============================] - 1s 137ms/step - loss: 0.5742 - accuracy: 0.7276 - val_loss: 0.6932 - val_accuracy: 0.7429\n",
      "Epoch 11/14\n",
      "6/6 [==============================] - 1s 135ms/step - loss: 0.5473 - accuracy: 0.7364 - val_loss: 0.6955 - val_accuracy: 0.7419\n",
      "Epoch 12/14\n",
      "6/6 [==============================] - 1s 133ms/step - loss: 0.5181 - accuracy: 0.7519 - val_loss: 0.7043 - val_accuracy: 0.7388\n",
      "Epoch 13/14\n",
      "6/6 [==============================] - 1s 133ms/step - loss: 0.4863 - accuracy: 0.7713 - val_loss: 0.7131 - val_accuracy: 0.7383\n",
      "Epoch 14/14\n",
      "6/6 [==============================] - 1s 131ms/step - loss: 0.4505 - accuracy: 0.7937 - val_loss: 0.7282 - val_accuracy: 0.7322\n",
      "69/69 [==============================] - 0s 3ms/step\n"
     ]
    },
    {
     "data": {
      "text/plain": [
       "0.0"
      ]
     },
     "execution_count": 11,
     "metadata": {},
     "output_type": "execute_result"
    },
    {
     "data": {
      "text/plain": [
       "0.0"
      ]
     },
     "execution_count": 11,
     "metadata": {},
     "output_type": "execute_result"
    },
    {
     "data": {
      "text/plain": [
       "0.0"
      ]
     },
     "execution_count": 11,
     "metadata": {},
     "output_type": "execute_result"
    },
    {
     "data": {
      "text/plain": [
       "0.0"
      ]
     },
     "execution_count": 11,
     "metadata": {},
     "output_type": "execute_result"
    }
   ],
   "source": [
    "train, test, dev = pre_pipeline(ref=3,lemma=False)\n",
    "vectorizer = CountVectorizer()\n",
    "trainX = vectorizer.fit_transform(train[\"text\"])\n",
    "testX = vectorizer.transform(test[\"text\"])\n",
    "devX = vectorizer.transform(dev[\"text\"])\n",
    "print(\"Vobac Size\", len(vectorizer.get_feature_names_out()))\n",
    "\n",
    "le = preprocessing.OneHotEncoder()\n",
    "le = le.fit(train[\"label\"].values.reshape(-1,1))\n",
    "trainY = le.transform(train[\"label\"].values.reshape(-1,1))\n",
    "devY = le.transform(dev[\"label\"].values.reshape(-1,1))\n",
    "testY = le.transform(test[\"label\"].values.reshape(-1,1))\n",
    "\n",
    "\n",
    "\n",
    "from keras.models import Sequential\n",
    "from keras.layers import Dense, Dropout, Activation\n",
    "\n",
    "def build_model(input_dim, hidden_neurons, output_dim):\n",
    "    \"\"\"\n",
    "    Construct, compile and return a Keras model which will be used to fit/predict\n",
    "    \"\"\"\n",
    "    model = Sequential([\n",
    "        Dense(hidden_neurons, input_dim=input_dim),\n",
    "        Activation('relu'),\n",
    "        Dropout(0.2),\n",
    "        Dense(hidden_neurons),\n",
    "        Activation('relu'),\n",
    "        Dropout(0.2),\n",
    "        Dense(output_dim, activation='softmax')\n",
    "    ])\n",
    "    model.compile(loss='categorical_crossentropy', optimizer='adam', metrics=['accuracy'])\n",
    "    return model\n",
    "\n",
    "\n",
    "hist = clf.fit(trainX.toarray(), trainY.toarray())\n",
    "\n",
    "yhat = clf.predict(testX.toarray())\n",
    "\n",
    "# 0=b 1=i 2=o\n",
    "yhat = pd.DataFrame(yhat)\n",
    "yhat[yhat[0] == 0]  = 'b'\n",
    "yhat[yhat[0] == 1]  = 'i'\n",
    "yhat[yhat[0] == 2]  = 'o'\n",
    "\n",
    "\n",
    "d = {'y': test[\"label\"].values, 'yhat': yhat[0].values}\n",
    "comparison = pd.DataFrame(data=d)\n",
    "spanEval = pd.DataFrame( columns=[\"y\", \"yhat\"])\n",
    "for i in range(0, comparison.shape[0]):\n",
    "    if(comparison['y'][i] == 'b'):\n",
    "        j = i+1\n",
    "        ystr = \"b\"\n",
    "        yhatstr = comparison['yhat'][i]\n",
    "        while(comparison['y'][j] == \"i\"):\n",
    "            ystr = ystr + comparison['y'][j]\n",
    "            yhatstr = yhatstr + comparison['yhat'][j]\n",
    "            j = j + 1\n",
    "        toAppend = pd.DataFrame({'y':ystr, 'yhat':yhatstr}, index={1})\n",
    "        spanEval = pd.concat([spanEval, toAppend], ignore_index=True)\n",
    "\n",
    "spanEval[(spanEval['y'] == spanEval['yhat'])].shape[0] / spanEval.shape[0]\n",
    "spanEval[(spanEval['y'] == spanEval['yhat']) & (spanEval['yhat'].str.len() == 1)].shape[0] / spanEval[(spanEval['yhat'].str.len() == 1)].shape[0]\n",
    "spanEval[(spanEval['y'] == spanEval['yhat']) & (spanEval['yhat'].str.len() == 2)].shape[0] / spanEval[(spanEval['yhat'].str.len() == 2)].shape[0]\n",
    "spanEval[(spanEval['y'] == spanEval['yhat']) & (spanEval['yhat'].str.len() == 3)].shape[0] / spanEval[(spanEval['yhat'].str.len() == 3)].shape[0]"
   ]
  },
  {
   "cell_type": "code",
   "execution_count": 12,
   "id": "7ed67948-9343-4999-834b-eacd45e2abd6",
   "metadata": {},
   "outputs": [
    {
     "name": "stdout",
     "output_type": "stream",
     "text": [
      "Vobac Size 2920\n",
      "Epoch 1/14\n",
      "6/6 [==============================] - 4s 323ms/step - loss: 0.9630 - accuracy: 0.6309 - val_loss: 0.7527 - val_accuracy: 0.7358\n",
      "Epoch 2/14\n",
      "6/6 [==============================] - 1s 202ms/step - loss: 0.7682 - accuracy: 0.7070 - val_loss: 0.8133 - val_accuracy: 0.7358\n",
      "Epoch 3/14\n",
      "6/6 [==============================] - 1s 200ms/step - loss: 0.7100 - accuracy: 0.7070 - val_loss: 0.7080 - val_accuracy: 0.7358\n",
      "Epoch 4/14\n",
      "6/6 [==============================] - 1s 205ms/step - loss: 0.6500 - accuracy: 0.7070 - val_loss: 0.6861 - val_accuracy: 0.7358\n",
      "Epoch 5/14\n",
      "6/6 [==============================] - 1s 206ms/step - loss: 0.6075 - accuracy: 0.7070 - val_loss: 0.7275 - val_accuracy: 0.7358\n",
      "Epoch 6/14\n",
      "6/6 [==============================] - 1s 174ms/step - loss: 0.5702 - accuracy: 0.7081 - val_loss: 0.7484 - val_accuracy: 0.7363\n",
      "Epoch 7/14\n",
      "6/6 [==============================] - 1s 145ms/step - loss: 0.5366 - accuracy: 0.7274 - val_loss: 0.7364 - val_accuracy: 0.7424\n",
      "Epoch 8/14\n",
      "6/6 [==============================] - 1s 137ms/step - loss: 0.5079 - accuracy: 0.7578 - val_loss: 0.7609 - val_accuracy: 0.7476\n",
      "Epoch 9/14\n",
      "6/6 [==============================] - 1s 127ms/step - loss: 0.4787 - accuracy: 0.7774 - val_loss: 0.8180 - val_accuracy: 0.7455\n",
      "Epoch 10/14\n",
      "6/6 [==============================] - 1s 130ms/step - loss: 0.4493 - accuracy: 0.7955 - val_loss: 0.8429 - val_accuracy: 0.7450\n",
      "Epoch 11/14\n",
      "6/6 [==============================] - 1s 130ms/step - loss: 0.4176 - accuracy: 0.8198 - val_loss: 0.8920 - val_accuracy: 0.7435\n",
      "Epoch 12/14\n",
      "6/6 [==============================] - 1s 145ms/step - loss: 0.3822 - accuracy: 0.8417 - val_loss: 0.9560 - val_accuracy: 0.7429\n",
      "Epoch 13/14\n",
      "6/6 [==============================] - 1s 134ms/step - loss: 0.3470 - accuracy: 0.8679 - val_loss: 1.0207 - val_accuracy: 0.7378\n",
      "Epoch 14/14\n",
      "6/6 [==============================] - 1s 132ms/step - loss: 0.3108 - accuracy: 0.8862 - val_loss: 1.1053 - val_accuracy: 0.7368\n",
      "69/69 [==============================] - 0s 4ms/step\n"
     ]
    },
    {
     "data": {
      "text/plain": [
       "0.07476635514018691"
      ]
     },
     "execution_count": 12,
     "metadata": {},
     "output_type": "execute_result"
    },
    {
     "data": {
      "text/plain": [
       "0.038834951456310676"
      ]
     },
     "execution_count": 12,
     "metadata": {},
     "output_type": "execute_result"
    },
    {
     "data": {
      "text/plain": [
       "0.07246376811594203"
      ]
     },
     "execution_count": 12,
     "metadata": {},
     "output_type": "execute_result"
    },
    {
     "data": {
      "text/plain": [
       "0.11940298507462686"
      ]
     },
     "execution_count": 12,
     "metadata": {},
     "output_type": "execute_result"
    }
   ],
   "source": [
    "train, test, dev = pre_pipeline(ref=1,lemma=False)\n",
    "vectorizer = CountVectorizer()\n",
    "trainX = vectorizer.fit_transform(train[\"text\"])\n",
    "testX = vectorizer.transform(test[\"text\"])\n",
    "devX = vectorizer.transform(dev[\"text\"])\n",
    "print(\"Vobac Size\", len(vectorizer.get_feature_names_out()))\n",
    "\n",
    "le = preprocessing.OneHotEncoder()\n",
    "le = le.fit(train[\"label\"].values.reshape(-1,1))\n",
    "trainY = le.transform(train[\"label\"].values.reshape(-1,1))\n",
    "devY = le.transform(dev[\"label\"].values.reshape(-1,1))\n",
    "testY = le.transform(test[\"label\"].values.reshape(-1,1))\n",
    "\n",
    "\n",
    "\n",
    "from keras.models import Sequential\n",
    "from keras.layers import Dense, Dropout, Activation\n",
    "\n",
    "def build_model(input_dim, hidden_neurons, output_dim):\n",
    "    \"\"\"\n",
    "    Construct, compile and return a Keras model which will be used to fit/predict\n",
    "    \"\"\"\n",
    "    model = Sequential([\n",
    "        Dense(hidden_neurons, input_dim=input_dim),\n",
    "        Activation('relu'),\n",
    "        Dropout(0.2),\n",
    "        Dense(hidden_neurons),\n",
    "        Activation('relu'),\n",
    "        Dropout(0.2),\n",
    "        Dense(output_dim, activation='softmax')\n",
    "    ])\n",
    "    model.compile(loss='categorical_crossentropy', optimizer='adam', metrics=['accuracy'])\n",
    "    return model\n",
    "\n",
    "\n",
    "hist = clf.fit(trainX.toarray(), trainY.toarray())\n",
    "\n",
    "yhat = clf.predict(testX.toarray())\n",
    "\n",
    "# 0=b 1=i 2=o\n",
    "yhat = pd.DataFrame(yhat)\n",
    "yhat[yhat[0] == 0]  = 'b'\n",
    "yhat[yhat[0] == 1]  = 'i'\n",
    "yhat[yhat[0] == 2]  = 'o'\n",
    "\n",
    "\n",
    "d = {'y': test[\"label\"].values, 'yhat': yhat[0].values}\n",
    "comparison = pd.DataFrame(data=d)\n",
    "spanEval = pd.DataFrame( columns=[\"y\", \"yhat\"])\n",
    "for i in range(0, comparison.shape[0]):\n",
    "    if(comparison['y'][i] == 'b'):\n",
    "        j = i+1\n",
    "        ystr = \"b\"\n",
    "        yhatstr = comparison['yhat'][i]\n",
    "        while(comparison['y'][j] == \"i\"):\n",
    "            ystr = ystr + comparison['y'][j]\n",
    "            yhatstr = yhatstr + comparison['yhat'][j]\n",
    "            j = j + 1\n",
    "        toAppend = pd.DataFrame({'y':ystr, 'yhat':yhatstr}, index={1})\n",
    "        spanEval = pd.concat([spanEval, toAppend], ignore_index=True)\n",
    "\n",
    "spanEval[(spanEval['y'] == spanEval['yhat'])].shape[0] / spanEval.shape[0]\n",
    "spanEval[(spanEval['y'] == spanEval['yhat']) & (spanEval['yhat'].str.len() == 1)].shape[0] / spanEval[(spanEval['yhat'].str.len() == 1)].shape[0]\n",
    "spanEval[(spanEval['y'] == spanEval['yhat']) & (spanEval['yhat'].str.len() == 2)].shape[0] / spanEval[(spanEval['yhat'].str.len() == 2)].shape[0]\n",
    "spanEval[(spanEval['y'] == spanEval['yhat']) & (spanEval['yhat'].str.len() == 3)].shape[0] / spanEval[(spanEval['yhat'].str.len() == 3)].shape[0]"
   ]
  },
  {
   "cell_type": "code",
   "execution_count": 13,
   "id": "1985fcb4-4c10-424f-b91e-896450ce9f01",
   "metadata": {},
   "outputs": [
    {
     "name": "stdout",
     "output_type": "stream",
     "text": [
      "Vobac Size 2920\n",
      "Epoch 1/14\n",
      "6/6 [==============================] - 3s 284ms/step - loss: 0.9982 - accuracy: 0.6354 - val_loss: 0.7517 - val_accuracy: 0.7358\n",
      "Epoch 2/14\n",
      "6/6 [==============================] - 1s 182ms/step - loss: 0.7862 - accuracy: 0.7070 - val_loss: 0.9896 - val_accuracy: 0.7358\n",
      "Epoch 3/14\n",
      "6/6 [==============================] - 1s 179ms/step - loss: 0.7213 - accuracy: 0.7070 - val_loss: 1.0348 - val_accuracy: 0.7358\n",
      "Epoch 4/14\n",
      "6/6 [==============================] - 1s 162ms/step - loss: 0.6421 - accuracy: 0.7070 - val_loss: 0.9341 - val_accuracy: 0.7358\n",
      "Epoch 5/14\n",
      "6/6 [==============================] - 1s 166ms/step - loss: 0.5923 - accuracy: 0.7070 - val_loss: 1.0159 - val_accuracy: 0.7358\n",
      "Epoch 6/14\n",
      "6/6 [==============================] - 1s 161ms/step - loss: 0.5473 - accuracy: 0.7070 - val_loss: 1.2260 - val_accuracy: 0.7358\n",
      "Epoch 7/14\n",
      "6/6 [==============================] - 1s 169ms/step - loss: 0.5108 - accuracy: 0.7072 - val_loss: 1.4218 - val_accuracy: 0.7358\n",
      "Epoch 8/14\n",
      "6/6 [==============================] - 1s 163ms/step - loss: 0.4844 - accuracy: 0.7356 - val_loss: 1.5367 - val_accuracy: 0.7363\n",
      "Epoch 9/14\n",
      "6/6 [==============================] - 1s 173ms/step - loss: 0.4633 - accuracy: 0.7803 - val_loss: 1.6143 - val_accuracy: 0.7378\n",
      "Epoch 10/14\n",
      "6/6 [==============================] - 1s 163ms/step - loss: 0.4432 - accuracy: 0.8082 - val_loss: 1.7108 - val_accuracy: 0.7363\n",
      "Epoch 11/14\n",
      "6/6 [==============================] - 1s 183ms/step - loss: 0.4202 - accuracy: 0.8308 - val_loss: 1.7838 - val_accuracy: 0.7368\n",
      "Epoch 12/14\n",
      "6/6 [==============================] - 1s 166ms/step - loss: 0.3965 - accuracy: 0.8465 - val_loss: 1.7943 - val_accuracy: 0.7388\n",
      "Epoch 13/14\n",
      "6/6 [==============================] - 1s 176ms/step - loss: 0.3728 - accuracy: 0.8568 - val_loss: 1.8457 - val_accuracy: 0.7414\n",
      "Epoch 14/14\n",
      "6/6 [==============================] - 1s 152ms/step - loss: 0.3527 - accuracy: 0.8628 - val_loss: 1.9590 - val_accuracy: 0.7409\n",
      "69/69 [==============================] - 1s 14ms/step\n"
     ]
    },
    {
     "data": {
      "text/plain": [
       "0.19937694704049844"
      ]
     },
     "execution_count": 13,
     "metadata": {},
     "output_type": "execute_result"
    },
    {
     "data": {
      "text/plain": [
       "0.2815533980582524"
      ]
     },
     "execution_count": 13,
     "metadata": {},
     "output_type": "execute_result"
    },
    {
     "data": {
      "text/plain": [
       "0.2391304347826087"
      ]
     },
     "execution_count": 13,
     "metadata": {},
     "output_type": "execute_result"
    },
    {
     "data": {
      "text/plain": [
       "0.029850746268656716"
      ]
     },
     "execution_count": 13,
     "metadata": {},
     "output_type": "execute_result"
    }
   ],
   "source": [
    "train, test, dev = pre_pipeline(ref=0,lemma=False)\n",
    "vectorizer = CountVectorizer()\n",
    "trainX = vectorizer.fit_transform(train[\"text\"])\n",
    "testX = vectorizer.transform(test[\"text\"])\n",
    "devX = vectorizer.transform(dev[\"text\"])\n",
    "print(\"Vobac Size\", len(vectorizer.get_feature_names_out()))\n",
    "\n",
    "le = preprocessing.OneHotEncoder()\n",
    "le = le.fit(train[\"label\"].values.reshape(-1,1))\n",
    "trainY = le.transform(train[\"label\"].values.reshape(-1,1))\n",
    "devY = le.transform(dev[\"label\"].values.reshape(-1,1))\n",
    "testY = le.transform(test[\"label\"].values.reshape(-1,1))\n",
    "\n",
    "\n",
    "\n",
    "from keras.models import Sequential\n",
    "from keras.layers import Dense, Dropout, Activation\n",
    "\n",
    "def build_model(input_dim, hidden_neurons, output_dim):\n",
    "    \"\"\"\n",
    "    Construct, compile and return a Keras model which will be used to fit/predict\n",
    "    \"\"\"\n",
    "    model = Sequential([\n",
    "        Dense(hidden_neurons, input_dim=input_dim),\n",
    "        Activation('relu'),\n",
    "        Dropout(0.2),\n",
    "        Dense(hidden_neurons),\n",
    "        Activation('relu'),\n",
    "        Dropout(0.2),\n",
    "        Dense(output_dim, activation='softmax')\n",
    "    ])\n",
    "    model.compile(loss='categorical_crossentropy', optimizer='adam', metrics=['accuracy'])\n",
    "    return model\n",
    "\n",
    "\n",
    "hist = clf.fit(trainX.toarray(), trainY.toarray())\n",
    "\n",
    "yhat = clf.predict(testX.toarray())\n",
    "\n",
    "# 0=b 1=i 2=o\n",
    "yhat = pd.DataFrame(yhat)\n",
    "yhat[yhat[0] == 0]  = 'b'\n",
    "yhat[yhat[0] == 1]  = 'i'\n",
    "yhat[yhat[0] == 2]  = 'o'\n",
    "\n",
    "\n",
    "d = {'y': test[\"label\"].values, 'yhat': yhat[0].values}\n",
    "comparison = pd.DataFrame(data=d)\n",
    "spanEval = pd.DataFrame( columns=[\"y\", \"yhat\"])\n",
    "for i in range(0, comparison.shape[0]):\n",
    "    if(comparison['y'][i] == 'b'):\n",
    "        j = i+1\n",
    "        ystr = \"b\"\n",
    "        yhatstr = comparison['yhat'][i]\n",
    "        while(comparison['y'][j] == \"i\"):\n",
    "            ystr = ystr + comparison['y'][j]\n",
    "            yhatstr = yhatstr + comparison['yhat'][j]\n",
    "            j = j + 1\n",
    "        toAppend = pd.DataFrame({'y':ystr, 'yhat':yhatstr}, index={1})\n",
    "        spanEval = pd.concat([spanEval, toAppend], ignore_index=True)\n",
    "\n",
    "spanEval[(spanEval['y'] == spanEval['yhat'])].shape[0] / spanEval.shape[0]\n",
    "spanEval[(spanEval['y'] == spanEval['yhat']) & (spanEval['yhat'].str.len() == 1)].shape[0] / spanEval[(spanEval['yhat'].str.len() == 1)].shape[0]\n",
    "spanEval[(spanEval['y'] == spanEval['yhat']) & (spanEval['yhat'].str.len() == 2)].shape[0] / spanEval[(spanEval['yhat'].str.len() == 2)].shape[0]\n",
    "spanEval[(spanEval['y'] == spanEval['yhat']) & (spanEval['yhat'].str.len() == 3)].shape[0] / spanEval[(spanEval['yhat'].str.len() == 3)].shape[0]"
   ]
  },
  {
   "cell_type": "code",
   "execution_count": 14,
   "id": "70727d63-9804-4c86-b57d-6b0d21420f3d",
   "metadata": {},
   "outputs": [
    {
     "name": "stdout",
     "output_type": "stream",
     "text": [
      "Vobac Size 2610\n"
     ]
    },
    {
     "name": "stderr",
     "output_type": "stream",
     "text": [
      "C:\\Users\\Administrator\\AppData\\Local\\Temp\\ipykernel_15328\\3123351505.py:47: DeprecationWarning: KerasClassifier is deprecated, use Sci-Keras (https://github.com/adriangb/scikeras) instead. See https://www.adriangb.com/scikeras/stable/migration.html for help migrating.\n",
      "  clf = KerasClassifier(**model_params)\n"
     ]
    },
    {
     "name": "stdout",
     "output_type": "stream",
     "text": [
      "Epoch 1/20\n",
      "33/33 [==============================] - 2s 40ms/step - loss: 0.7989 - accuracy: 0.7042 - val_loss: 0.7223 - val_accuracy: 0.7358\n",
      "Epoch 2/20\n",
      "33/33 [==============================] - 1s 30ms/step - loss: 0.6967 - accuracy: 0.7077 - val_loss: 0.7098 - val_accuracy: 0.7363\n",
      "Epoch 3/20\n",
      "33/33 [==============================] - 1s 30ms/step - loss: 0.6399 - accuracy: 0.7198 - val_loss: 0.7222 - val_accuracy: 0.7301\n",
      "Epoch 4/20\n",
      "33/33 [==============================] - 1s 30ms/step - loss: 0.5739 - accuracy: 0.7453 - val_loss: 0.7642 - val_accuracy: 0.7116\n",
      "Epoch 5/20\n",
      "33/33 [==============================] - 1s 30ms/step - loss: 0.4985 - accuracy: 0.7789 - val_loss: 0.8471 - val_accuracy: 0.6906\n",
      "Epoch 6/20\n",
      "33/33 [==============================] - 1s 30ms/step - loss: 0.4090 - accuracy: 0.8220 - val_loss: 0.9938 - val_accuracy: 0.6865\n",
      "Epoch 7/20\n",
      "33/33 [==============================] - 1s 36ms/step - loss: 0.3333 - accuracy: 0.8644 - val_loss: 1.1116 - val_accuracy: 0.6542\n",
      "Epoch 8/20\n",
      "33/33 [==============================] - 1s 39ms/step - loss: 0.2608 - accuracy: 0.8972 - val_loss: 1.2578 - val_accuracy: 0.6337\n",
      "Epoch 9/20\n",
      "33/33 [==============================] - 1s 42ms/step - loss: 0.2080 - accuracy: 0.9214 - val_loss: 1.3768 - val_accuracy: 0.6429\n",
      "Epoch 10/20\n",
      "33/33 [==============================] - 1s 44ms/step - loss: 0.1704 - accuracy: 0.9381 - val_loss: 1.5373 - val_accuracy: 0.6326\n",
      "Epoch 11/20\n",
      "33/33 [==============================] - 1s 43ms/step - loss: 0.1396 - accuracy: 0.9527 - val_loss: 1.6353 - val_accuracy: 0.6429\n",
      "Epoch 12/20\n",
      "33/33 [==============================] - 1s 43ms/step - loss: 0.1233 - accuracy: 0.9576 - val_loss: 1.7020 - val_accuracy: 0.6126\n",
      "Epoch 13/20\n",
      "33/33 [==============================] - 1s 44ms/step - loss: 0.1065 - accuracy: 0.9654 - val_loss: 1.7948 - val_accuracy: 0.6254\n",
      "Epoch 14/20\n",
      "33/33 [==============================] - 1s 43ms/step - loss: 0.0913 - accuracy: 0.9714 - val_loss: 1.8470 - val_accuracy: 0.6383\n",
      "Epoch 15/20\n",
      "33/33 [==============================] - 1s 44ms/step - loss: 0.0824 - accuracy: 0.9747 - val_loss: 1.9538 - val_accuracy: 0.6244\n",
      "Epoch 16/20\n",
      "33/33 [==============================] - 1s 43ms/step - loss: 0.0772 - accuracy: 0.9761 - val_loss: 1.9743 - val_accuracy: 0.6249\n",
      "Epoch 17/20\n",
      "33/33 [==============================] - 1s 43ms/step - loss: 0.0725 - accuracy: 0.9768 - val_loss: 2.0177 - val_accuracy: 0.6301\n",
      "Epoch 18/20\n",
      "33/33 [==============================] - 1s 43ms/step - loss: 0.0665 - accuracy: 0.9795 - val_loss: 2.0513 - val_accuracy: 0.6275\n",
      "Epoch 19/20\n",
      "33/33 [==============================] - 1s 43ms/step - loss: 0.0655 - accuracy: 0.9795 - val_loss: 2.2088 - val_accuracy: 0.6521\n",
      "Epoch 20/20\n",
      "33/33 [==============================] - 1s 44ms/step - loss: 0.0658 - accuracy: 0.9791 - val_loss: 2.1007 - val_accuracy: 0.6378\n",
      "69/69 [==============================] - 1s 7ms/step\n"
     ]
    },
    {
     "data": {
      "text/plain": [
       "0.06853582554517133"
      ]
     },
     "execution_count": 14,
     "metadata": {},
     "output_type": "execute_result"
    },
    {
     "data": {
      "text/plain": [
       "0.1941747572815534"
      ]
     },
     "execution_count": 14,
     "metadata": {},
     "output_type": "execute_result"
    },
    {
     "data": {
      "text/plain": [
       "0.007246376811594203"
      ]
     },
     "execution_count": 14,
     "metadata": {},
     "output_type": "execute_result"
    },
    {
     "data": {
      "text/plain": [
       "0.014925373134328358"
      ]
     },
     "execution_count": 14,
     "metadata": {},
     "output_type": "execute_result"
    }
   ],
   "source": [
    "train, test, dev = pre_pipeline(ref=3,lemma=True)\n",
    "vectorizer = CountVectorizer()\n",
    "trainX = vectorizer.fit_transform(train[\"text\"])\n",
    "testX = vectorizer.transform(test[\"text\"])\n",
    "devX = vectorizer.transform(dev[\"text\"])\n",
    "print(\"Vobac Size\", len(vectorizer.get_feature_names_out()))\n",
    "\n",
    "le = preprocessing.OneHotEncoder()\n",
    "le = le.fit(train[\"label\"].values.reshape(-1,1))\n",
    "trainY = le.transform(train[\"label\"].values.reshape(-1,1))\n",
    "devY = le.transform(dev[\"label\"].values.reshape(-1,1))\n",
    "testY = le.transform(test[\"label\"].values.reshape(-1,1))\n",
    "\n",
    "\n",
    "\n",
    "from keras.models import Sequential\n",
    "from keras.layers import Dense, Dropout, Activation\n",
    "\n",
    "def build_model(input_dim, hidden_neurons, output_dim):\n",
    "    \"\"\"\n",
    "    Construct, compile and return a Keras model which will be used to fit/predict\n",
    "    \"\"\"\n",
    "    model = Sequential([\n",
    "        Dense(hidden_neurons, input_dim=input_dim),\n",
    "        Activation('relu'),\n",
    "        Dropout(0.2),\n",
    "        Dense(hidden_neurons),\n",
    "        Activation('relu'),\n",
    "        Dropout(0.2),\n",
    "        Dense(output_dim, activation='softmax')\n",
    "    ])\n",
    "    model.compile(loss='categorical_crossentropy', optimizer='adam', metrics=['accuracy'])\n",
    "    return model\n",
    "\n",
    "from keras.wrappers.scikit_learn import KerasClassifier\n",
    "model_params = {\n",
    "    'build_fn': build_model,\n",
    "    'input_dim': trainX.shape[1],\n",
    "    'hidden_neurons': 512,\n",
    "    'output_dim': trainY.shape[1],\n",
    "    'epochs': 20,\n",
    "    'batch_size': 512,\n",
    "    'verbose': 1,\n",
    "    'validation_data': (devX.toarray(), devY.toarray()),\n",
    "    'shuffle': True\n",
    "}\n",
    "clf = KerasClassifier(**model_params)\n",
    "\n",
    "\n",
    "hist = clf.fit(trainX.toarray(), trainY.toarray())\n",
    "\n",
    "yhat = clf.predict(testX.toarray())\n",
    "\n",
    "# 0=b 1=i 2=o\n",
    "yhat = pd.DataFrame(yhat)\n",
    "yhat[yhat[0] == 0]  = 'b'\n",
    "yhat[yhat[0] == 1]  = 'i'\n",
    "yhat[yhat[0] == 2]  = 'o'\n",
    "\n",
    "\n",
    "d = {'y': test[\"label\"].values, 'yhat': yhat[0].values}\n",
    "comparison = pd.DataFrame(data=d)\n",
    "spanEval = pd.DataFrame( columns=[\"y\", \"yhat\"])\n",
    "for i in range(0, comparison.shape[0]):\n",
    "    if(comparison['y'][i] == 'b'):\n",
    "        j = i+1\n",
    "        ystr = \"b\"\n",
    "        yhatstr = comparison['yhat'][i]\n",
    "        while(comparison['y'][j] == \"i\"):\n",
    "            ystr = ystr + comparison['y'][j]\n",
    "            yhatstr = yhatstr + comparison['yhat'][j]\n",
    "            j = j + 1\n",
    "        toAppend = pd.DataFrame({'y':ystr, 'yhat':yhatstr}, index={1})\n",
    "        spanEval = pd.concat([spanEval, toAppend], ignore_index=True)\n",
    "\n",
    "spanEval[(spanEval['y'] == spanEval['yhat'])].shape[0] / spanEval.shape[0]\n",
    "spanEval[(spanEval['y'] == spanEval['yhat']) & (spanEval['yhat'].str.len() == 1)].shape[0] / spanEval[(spanEval['yhat'].str.len() == 1)].shape[0]\n",
    "spanEval[(spanEval['y'] == spanEval['yhat']) & (spanEval['yhat'].str.len() == 2)].shape[0] / spanEval[(spanEval['yhat'].str.len() == 2)].shape[0]\n",
    "spanEval[(spanEval['y'] == spanEval['yhat']) & (spanEval['yhat'].str.len() == 3)].shape[0] / spanEval[(spanEval['yhat'].str.len() == 3)].shape[0]"
   ]
  },
  {
   "cell_type": "code",
   "execution_count": 15,
   "id": "d76c41d8-e060-4f6b-ab5b-e37e08d267a1",
   "metadata": {},
   "outputs": [
    {
     "name": "stdout",
     "output_type": "stream",
     "text": [
      "Vobac Size 2610\n"
     ]
    },
    {
     "name": "stderr",
     "output_type": "stream",
     "text": [
      "C:\\Users\\Administrator\\AppData\\Local\\Temp\\ipykernel_15328\\807849362.py:47: DeprecationWarning: KerasClassifier is deprecated, use Sci-Keras (https://github.com/adriangb/scikeras) instead. See https://www.adriangb.com/scikeras/stable/migration.html for help migrating.\n",
      "  clf = KerasClassifier(**model_params)\n"
     ]
    },
    {
     "name": "stdout",
     "output_type": "stream",
     "text": [
      "Epoch 1/14\n",
      "6/6 [==============================] - 2s 178ms/step - loss: 0.9392 - accuracy: 0.6313 - val_loss: 0.7560 - val_accuracy: 0.7358\n",
      "Epoch 2/14\n",
      "6/6 [==============================] - 1s 115ms/step - loss: 0.7958 - accuracy: 0.7070 - val_loss: 0.7278 - val_accuracy: 0.7358\n",
      "Epoch 3/14\n",
      "6/6 [==============================] - 1s 122ms/step - loss: 0.7325 - accuracy: 0.7070 - val_loss: 0.7203 - val_accuracy: 0.7358\n",
      "Epoch 4/14\n",
      "6/6 [==============================] - 1s 123ms/step - loss: 0.7004 - accuracy: 0.7070 - val_loss: 0.6924 - val_accuracy: 0.7358\n",
      "Epoch 5/14\n",
      "6/6 [==============================] - 1s 105ms/step - loss: 0.6662 - accuracy: 0.7070 - val_loss: 0.6825 - val_accuracy: 0.7358\n",
      "Epoch 6/14\n",
      "6/6 [==============================] - 1s 123ms/step - loss: 0.6418 - accuracy: 0.7070 - val_loss: 0.6750 - val_accuracy: 0.7358\n",
      "Epoch 7/14\n",
      "6/6 [==============================] - 1s 113ms/step - loss: 0.6179 - accuracy: 0.7078 - val_loss: 0.6728 - val_accuracy: 0.7373\n",
      "Epoch 8/14\n",
      "6/6 [==============================] - 1s 115ms/step - loss: 0.5944 - accuracy: 0.7123 - val_loss: 0.6731 - val_accuracy: 0.7399\n",
      "Epoch 9/14\n",
      "6/6 [==============================] - 1s 118ms/step - loss: 0.5709 - accuracy: 0.7223 - val_loss: 0.6751 - val_accuracy: 0.7450\n",
      "Epoch 10/14\n",
      "6/6 [==============================] - 1s 115ms/step - loss: 0.5462 - accuracy: 0.7378 - val_loss: 0.6795 - val_accuracy: 0.7450\n",
      "Epoch 11/14\n",
      "6/6 [==============================] - 1s 119ms/step - loss: 0.5196 - accuracy: 0.7542 - val_loss: 0.6895 - val_accuracy: 0.7470\n",
      "Epoch 12/14\n",
      "6/6 [==============================] - 1s 113ms/step - loss: 0.4896 - accuracy: 0.7669 - val_loss: 0.7011 - val_accuracy: 0.7409\n",
      "Epoch 13/14\n",
      "6/6 [==============================] - 1s 110ms/step - loss: 0.4566 - accuracy: 0.7902 - val_loss: 0.7192 - val_accuracy: 0.7388\n",
      "Epoch 14/14\n",
      "6/6 [==============================] - 1s 111ms/step - loss: 0.4217 - accuracy: 0.8063 - val_loss: 0.7401 - val_accuracy: 0.7368\n",
      "69/69 [==============================] - 0s 3ms/step\n"
     ]
    },
    {
     "data": {
      "text/plain": [
       "0.012461059190031152"
      ]
     },
     "execution_count": 15,
     "metadata": {},
     "output_type": "execute_result"
    },
    {
     "data": {
      "text/plain": [
       "0.02912621359223301"
      ]
     },
     "execution_count": 15,
     "metadata": {},
     "output_type": "execute_result"
    },
    {
     "data": {
      "text/plain": [
       "0.007246376811594203"
      ]
     },
     "execution_count": 15,
     "metadata": {},
     "output_type": "execute_result"
    },
    {
     "data": {
      "text/plain": [
       "0.0"
      ]
     },
     "execution_count": 15,
     "metadata": {},
     "output_type": "execute_result"
    }
   ],
   "source": [
    "train, test, dev = pre_pipeline(ref=2,lemma=True)\n",
    "vectorizer = CountVectorizer()\n",
    "trainX = vectorizer.fit_transform(train[\"text\"])\n",
    "testX = vectorizer.transform(test[\"text\"])\n",
    "devX = vectorizer.transform(dev[\"text\"])\n",
    "print(\"Vobac Size\", len(vectorizer.get_feature_names_out()))\n",
    "\n",
    "le = preprocessing.OneHotEncoder()\n",
    "le = le.fit(train[\"label\"].values.reshape(-1,1))\n",
    "trainY = le.transform(train[\"label\"].values.reshape(-1,1))\n",
    "devY = le.transform(dev[\"label\"].values.reshape(-1,1))\n",
    "testY = le.transform(test[\"label\"].values.reshape(-1,1))\n",
    "\n",
    "\n",
    "\n",
    "from keras.models import Sequential\n",
    "from keras.layers import Dense, Dropout, Activation\n",
    "\n",
    "def build_model(input_dim, hidden_neurons, output_dim):\n",
    "    \"\"\"\n",
    "    Construct, compile and return a Keras model which will be used to fit/predict\n",
    "    \"\"\"\n",
    "    model = Sequential([\n",
    "        Dense(hidden_neurons, input_dim=input_dim),\n",
    "        Activation('relu'),\n",
    "        Dropout(0.2),\n",
    "        Dense(hidden_neurons),\n",
    "        Activation('relu'),\n",
    "        Dropout(0.2),\n",
    "        Dense(output_dim, activation='softmax')\n",
    "    ])\n",
    "    model.compile(loss='categorical_crossentropy', optimizer='adam', metrics=['accuracy'])\n",
    "    return model\n",
    "\n",
    "from keras.wrappers.scikit_learn import KerasClassifier\n",
    "model_params = {\n",
    "    'build_fn': build_model,\n",
    "    'input_dim': trainX.shape[1],\n",
    "    'hidden_neurons': 512,\n",
    "    'output_dim': trainY.shape[1],\n",
    "    'epochs': 14,\n",
    "    'batch_size': 3000,\n",
    "    'verbose': 1,\n",
    "    'validation_data': (devX.toarray(), devY.toarray()),\n",
    "    'shuffle': True\n",
    "}\n",
    "clf = KerasClassifier(**model_params)\n",
    "\n",
    "\n",
    "hist = clf.fit(trainX.toarray(), trainY.toarray())\n",
    "\n",
    "yhat = clf.predict(testX.toarray())\n",
    "\n",
    "# 0=b 1=i 2=o\n",
    "yhat = pd.DataFrame(yhat)\n",
    "yhat[yhat[0] == 0]  = 'b'\n",
    "yhat[yhat[0] == 1]  = 'i'\n",
    "yhat[yhat[0] == 2]  = 'o'\n",
    "\n",
    "\n",
    "d = {'y': test[\"label\"].values, 'yhat': yhat[0].values}\n",
    "comparison = pd.DataFrame(data=d)\n",
    "spanEval = pd.DataFrame( columns=[\"y\", \"yhat\"])\n",
    "for i in range(0, comparison.shape[0]):\n",
    "    if(comparison['y'][i] == 'b'):\n",
    "        j = i+1\n",
    "        ystr = \"b\"\n",
    "        yhatstr = comparison['yhat'][i]\n",
    "        while(comparison['y'][j] == \"i\"):\n",
    "            ystr = ystr + comparison['y'][j]\n",
    "            yhatstr = yhatstr + comparison['yhat'][j]\n",
    "            j = j + 1\n",
    "        toAppend = pd.DataFrame({'y':ystr, 'yhat':yhatstr}, index={1})\n",
    "        spanEval = pd.concat([spanEval, toAppend], ignore_index=True)\n",
    "\n",
    "spanEval[(spanEval['y'] == spanEval['yhat'])].shape[0] / spanEval.shape[0]\n",
    "spanEval[(spanEval['y'] == spanEval['yhat']) & (spanEval['yhat'].str.len() == 1)].shape[0] / spanEval[(spanEval['yhat'].str.len() == 1)].shape[0]\n",
    "spanEval[(spanEval['y'] == spanEval['yhat']) & (spanEval['yhat'].str.len() == 2)].shape[0] / spanEval[(spanEval['yhat'].str.len() == 2)].shape[0]\n",
    "spanEval[(spanEval['y'] == spanEval['yhat']) & (spanEval['yhat'].str.len() == 3)].shape[0] / spanEval[(spanEval['yhat'].str.len() == 3)].shape[0]"
   ]
  },
  {
   "cell_type": "code",
   "execution_count": 16,
   "id": "d7d6e87a-3a7e-4bce-a68e-70094c13641f",
   "metadata": {},
   "outputs": [
    {
     "name": "stdout",
     "output_type": "stream",
     "text": [
      "Vobac Size 2610\n"
     ]
    },
    {
     "name": "stderr",
     "output_type": "stream",
     "text": [
      "C:\\Users\\Administrator\\AppData\\Local\\Temp\\ipykernel_15328\\2954131628.py:47: DeprecationWarning: KerasClassifier is deprecated, use Sci-Keras (https://github.com/adriangb/scikeras) instead. See https://www.adriangb.com/scikeras/stable/migration.html for help migrating.\n",
      "  clf = KerasClassifier(**model_params)\n"
     ]
    },
    {
     "name": "stdout",
     "output_type": "stream",
     "text": [
      "Epoch 1/20\n",
      "33/33 [==============================] - 2s 36ms/step - loss: 0.7807 - accuracy: 0.6954 - val_loss: 0.6545 - val_accuracy: 0.7358\n",
      "Epoch 2/20\n",
      "33/33 [==============================] - 1s 26ms/step - loss: 0.6013 - accuracy: 0.7251 - val_loss: 0.6141 - val_accuracy: 0.7578\n",
      "Epoch 3/20\n",
      "33/33 [==============================] - 1s 26ms/step - loss: 0.5030 - accuracy: 0.7819 - val_loss: 0.6231 - val_accuracy: 0.7532\n",
      "Epoch 4/20\n",
      "33/33 [==============================] - 1s 27ms/step - loss: 0.4154 - accuracy: 0.8266 - val_loss: 0.6741 - val_accuracy: 0.7388\n",
      "Epoch 5/20\n",
      "33/33 [==============================] - 1s 27ms/step - loss: 0.3326 - accuracy: 0.8700 - val_loss: 0.7381 - val_accuracy: 0.7517\n",
      "Epoch 6/20\n",
      "33/33 [==============================] - 1s 29ms/step - loss: 0.2524 - accuracy: 0.9068 - val_loss: 0.8330 - val_accuracy: 0.7470\n",
      "Epoch 7/20\n",
      "33/33 [==============================] - 1s 29ms/step - loss: 0.1860 - accuracy: 0.9365 - val_loss: 0.9306 - val_accuracy: 0.7445\n",
      "Epoch 8/20\n",
      "33/33 [==============================] - 1s 28ms/step - loss: 0.1402 - accuracy: 0.9514 - val_loss: 1.0094 - val_accuracy: 0.7547\n",
      "Epoch 9/20\n",
      "33/33 [==============================] - 1s 27ms/step - loss: 0.1104 - accuracy: 0.9657 - val_loss: 1.1027 - val_accuracy: 0.7553\n",
      "Epoch 10/20\n",
      "33/33 [==============================] - 1s 27ms/step - loss: 0.0875 - accuracy: 0.9721 - val_loss: 1.2041 - val_accuracy: 0.7568\n",
      "Epoch 11/20\n",
      "33/33 [==============================] - 1s 26ms/step - loss: 0.0827 - accuracy: 0.9725 - val_loss: 1.2332 - val_accuracy: 0.7532\n",
      "Epoch 12/20\n",
      "33/33 [==============================] - 1s 28ms/step - loss: 0.0699 - accuracy: 0.9764 - val_loss: 1.2832 - val_accuracy: 0.7568\n",
      "Epoch 13/20\n",
      "33/33 [==============================] - 1s 27ms/step - loss: 0.0662 - accuracy: 0.9769 - val_loss: 1.2724 - val_accuracy: 0.7460\n",
      "Epoch 14/20\n",
      "33/33 [==============================] - 1s 26ms/step - loss: 0.0603 - accuracy: 0.9804 - val_loss: 1.3006 - val_accuracy: 0.7558\n",
      "Epoch 15/20\n",
      "33/33 [==============================] - 1s 27ms/step - loss: 0.0577 - accuracy: 0.9798 - val_loss: 1.3267 - val_accuracy: 0.7645\n",
      "Epoch 16/20\n",
      "33/33 [==============================] - 1s 27ms/step - loss: 0.0567 - accuracy: 0.9790 - val_loss: 1.3181 - val_accuracy: 0.7547\n",
      "Epoch 17/20\n",
      "33/33 [==============================] - 1s 29ms/step - loss: 0.0550 - accuracy: 0.9808 - val_loss: 1.3747 - val_accuracy: 0.7609\n",
      "Epoch 18/20\n",
      "33/33 [==============================] - 1s 27ms/step - loss: 0.0544 - accuracy: 0.9810 - val_loss: 1.3592 - val_accuracy: 0.7609\n",
      "Epoch 19/20\n",
      "33/33 [==============================] - 1s 27ms/step - loss: 0.0528 - accuracy: 0.9806 - val_loss: 1.3791 - val_accuracy: 0.7573\n",
      "Epoch 20/20\n",
      "33/33 [==============================] - 1s 26ms/step - loss: 0.0492 - accuracy: 0.9818 - val_loss: 1.3787 - val_accuracy: 0.7614\n",
      "69/69 [==============================] - 0s 3ms/step\n"
     ]
    },
    {
     "data": {
      "text/plain": [
       "0.11526479750778816"
      ]
     },
     "execution_count": 16,
     "metadata": {},
     "output_type": "execute_result"
    },
    {
     "data": {
      "text/plain": [
       "0.14563106796116504"
      ]
     },
     "execution_count": 16,
     "metadata": {},
     "output_type": "execute_result"
    },
    {
     "data": {
      "text/plain": [
       "0.10869565217391304"
      ]
     },
     "execution_count": 16,
     "metadata": {},
     "output_type": "execute_result"
    },
    {
     "data": {
      "text/plain": [
       "0.07462686567164178"
      ]
     },
     "execution_count": 16,
     "metadata": {},
     "output_type": "execute_result"
    }
   ],
   "source": [
    "train, test, dev = pre_pipeline(ref=1,lemma=True)\n",
    "vectorizer = CountVectorizer()\n",
    "trainX = vectorizer.fit_transform(train[\"text\"])\n",
    "testX = vectorizer.transform(test[\"text\"])\n",
    "devX = vectorizer.transform(dev[\"text\"])\n",
    "print(\"Vobac Size\", len(vectorizer.get_feature_names_out()))\n",
    "\n",
    "le = preprocessing.OneHotEncoder()\n",
    "le = le.fit(train[\"label\"].values.reshape(-1,1))\n",
    "trainY = le.transform(train[\"label\"].values.reshape(-1,1))\n",
    "devY = le.transform(dev[\"label\"].values.reshape(-1,1))\n",
    "testY = le.transform(test[\"label\"].values.reshape(-1,1))\n",
    "\n",
    "\n",
    "\n",
    "from keras.models import Sequential\n",
    "from keras.layers import Dense, Dropout, Activation\n",
    "\n",
    "def build_model(input_dim, hidden_neurons, output_dim):\n",
    "    \"\"\"\n",
    "    Construct, compile and return a Keras model which will be used to fit/predict\n",
    "    \"\"\"\n",
    "    model = Sequential([\n",
    "        Dense(hidden_neurons, input_dim=input_dim),\n",
    "        Activation('relu'),\n",
    "        Dropout(0.2),\n",
    "        Dense(hidden_neurons),\n",
    "        Activation('relu'),\n",
    "        Dropout(0.2),\n",
    "        Dense(output_dim, activation='softmax')\n",
    "    ])\n",
    "    model.compile(loss='categorical_crossentropy', optimizer='adam', metrics=['accuracy'])\n",
    "    return model\n",
    "\n",
    "from keras.wrappers.scikit_learn import KerasClassifier\n",
    "model_params = {\n",
    "    'build_fn': build_model,\n",
    "    'input_dim': trainX.shape[1],\n",
    "    'hidden_neurons': 512,\n",
    "    'output_dim': trainY.shape[1],\n",
    "    'epochs': 20,\n",
    "    'batch_size': 512,\n",
    "    'verbose': 1,\n",
    "    'validation_data': (devX.toarray(), devY.toarray()),\n",
    "    'shuffle': True\n",
    "}\n",
    "clf = KerasClassifier(**model_params)\n",
    "\n",
    "\n",
    "hist = clf.fit(trainX.toarray(), trainY.toarray())\n",
    "\n",
    "yhat = clf.predict(testX.toarray())\n",
    "\n",
    "# 0=b 1=i 2=o\n",
    "yhat = pd.DataFrame(yhat)\n",
    "yhat[yhat[0] == 0]  = 'b'\n",
    "yhat[yhat[0] == 1]  = 'i'\n",
    "yhat[yhat[0] == 2]  = 'o'\n",
    "\n",
    "\n",
    "d = {'y': test[\"label\"].values, 'yhat': yhat[0].values}\n",
    "comparison = pd.DataFrame(data=d)\n",
    "spanEval = pd.DataFrame( columns=[\"y\", \"yhat\"])\n",
    "for i in range(0, comparison.shape[0]):\n",
    "    if(comparison['y'][i] == 'b'):\n",
    "        j = i+1\n",
    "        ystr = \"b\"\n",
    "        yhatstr = comparison['yhat'][i]\n",
    "        while(comparison['y'][j] == \"i\"):\n",
    "            ystr = ystr + comparison['y'][j]\n",
    "            yhatstr = yhatstr + comparison['yhat'][j]\n",
    "            j = j + 1\n",
    "        toAppend = pd.DataFrame({'y':ystr, 'yhat':yhatstr}, index={1})\n",
    "        spanEval = pd.concat([spanEval, toAppend], ignore_index=True)\n",
    "\n",
    "spanEval[(spanEval['y'] == spanEval['yhat'])].shape[0] / spanEval.shape[0]\n",
    "spanEval[(spanEval['y'] == spanEval['yhat']) & (spanEval['yhat'].str.len() == 1)].shape[0] / spanEval[(spanEval['yhat'].str.len() == 1)].shape[0]\n",
    "spanEval[(spanEval['y'] == spanEval['yhat']) & (spanEval['yhat'].str.len() == 2)].shape[0] / spanEval[(spanEval['yhat'].str.len() == 2)].shape[0]\n",
    "spanEval[(spanEval['y'] == spanEval['yhat']) & (spanEval['yhat'].str.len() == 3)].shape[0] / spanEval[(spanEval['yhat'].str.len() == 3)].shape[0]"
   ]
  },
  {
   "cell_type": "code",
   "execution_count": 17,
   "id": "98e02463-0afe-4877-bd63-5c9084436dc5",
   "metadata": {},
   "outputs": [
    {
     "name": "stdout",
     "output_type": "stream",
     "text": [
      "Vobac Size 2610\n"
     ]
    },
    {
     "name": "stderr",
     "output_type": "stream",
     "text": [
      "C:\\Users\\Administrator\\AppData\\Local\\Temp\\ipykernel_15328\\2479509119.py:47: DeprecationWarning: KerasClassifier is deprecated, use Sci-Keras (https://github.com/adriangb/scikeras) instead. See https://www.adriangb.com/scikeras/stable/migration.html for help migrating.\n",
      "  clf = KerasClassifier(**model_params)\n"
     ]
    },
    {
     "name": "stdout",
     "output_type": "stream",
     "text": [
      "Epoch 1/20\n",
      "33/33 [==============================] - 2s 51ms/step - loss: 0.7796 - accuracy: 0.6950 - val_loss: 0.6261 - val_accuracy: 0.7358\n",
      "Epoch 2/20\n",
      "33/33 [==============================] - 1s 27ms/step - loss: 0.5768 - accuracy: 0.7149 - val_loss: 0.5509 - val_accuracy: 0.7707\n",
      "Epoch 3/20\n",
      "33/33 [==============================] - 1s 27ms/step - loss: 0.4743 - accuracy: 0.7920 - val_loss: 0.5124 - val_accuracy: 0.7953\n",
      "Epoch 4/20\n",
      "33/33 [==============================] - 1s 28ms/step - loss: 0.3914 - accuracy: 0.8382 - val_loss: 0.5272 - val_accuracy: 0.7948\n",
      "Epoch 5/20\n",
      "33/33 [==============================] - 1s 28ms/step - loss: 0.3608 - accuracy: 0.8425 - val_loss: 0.5422 - val_accuracy: 0.7917\n",
      "Epoch 6/20\n",
      "33/33 [==============================] - 1s 28ms/step - loss: 0.3510 - accuracy: 0.8436 - val_loss: 0.5655 - val_accuracy: 0.7943\n",
      "Epoch 7/20\n",
      "33/33 [==============================] - 1s 28ms/step - loss: 0.3456 - accuracy: 0.8401 - val_loss: 0.5515 - val_accuracy: 0.7912\n",
      "Epoch 8/20\n",
      "33/33 [==============================] - 1s 28ms/step - loss: 0.3402 - accuracy: 0.8433 - val_loss: 0.5666 - val_accuracy: 0.7953\n",
      "Epoch 9/20\n",
      "33/33 [==============================] - 1s 28ms/step - loss: 0.3377 - accuracy: 0.8435 - val_loss: 0.5630 - val_accuracy: 0.7943\n",
      "Epoch 10/20\n",
      "33/33 [==============================] - 1s 28ms/step - loss: 0.3356 - accuracy: 0.8442 - val_loss: 0.5669 - val_accuracy: 0.7963\n",
      "Epoch 11/20\n",
      "33/33 [==============================] - 1s 27ms/step - loss: 0.3337 - accuracy: 0.8440 - val_loss: 0.5682 - val_accuracy: 0.7943\n",
      "Epoch 12/20\n",
      "33/33 [==============================] - 1s 28ms/step - loss: 0.3336 - accuracy: 0.8449 - val_loss: 0.5750 - val_accuracy: 0.7978\n",
      "Epoch 13/20\n",
      "33/33 [==============================] - 1s 26ms/step - loss: 0.3311 - accuracy: 0.8453 - val_loss: 0.5828 - val_accuracy: 0.7953\n",
      "Epoch 14/20\n",
      "33/33 [==============================] - 1s 28ms/step - loss: 0.3312 - accuracy: 0.8457 - val_loss: 0.5746 - val_accuracy: 0.7953\n",
      "Epoch 15/20\n",
      "33/33 [==============================] - 1s 28ms/step - loss: 0.3294 - accuracy: 0.8476 - val_loss: 0.5727 - val_accuracy: 0.7932\n",
      "Epoch 16/20\n",
      "33/33 [==============================] - 1s 29ms/step - loss: 0.3281 - accuracy: 0.8478 - val_loss: 0.5753 - val_accuracy: 0.7871\n",
      "Epoch 17/20\n",
      "33/33 [==============================] - 1s 27ms/step - loss: 0.3285 - accuracy: 0.8455 - val_loss: 0.5830 - val_accuracy: 0.7953\n",
      "Epoch 18/20\n",
      "33/33 [==============================] - 1s 28ms/step - loss: 0.3275 - accuracy: 0.8495 - val_loss: 0.5862 - val_accuracy: 0.7937\n",
      "Epoch 19/20\n",
      "33/33 [==============================] - 1s 27ms/step - loss: 0.3259 - accuracy: 0.8478 - val_loss: 0.5939 - val_accuracy: 0.7978\n",
      "Epoch 20/20\n",
      "33/33 [==============================] - 1s 28ms/step - loss: 0.3270 - accuracy: 0.8469 - val_loss: 0.5924 - val_accuracy: 0.7953\n",
      "69/69 [==============================] - 0s 3ms/step\n"
     ]
    },
    {
     "data": {
      "text/plain": [
       "0.17757009345794392"
      ]
     },
     "execution_count": 17,
     "metadata": {},
     "output_type": "execute_result"
    },
    {
     "data": {
      "text/plain": [
       "0.30097087378640774"
      ]
     },
     "execution_count": 17,
     "metadata": {},
     "output_type": "execute_result"
    },
    {
     "data": {
      "text/plain": [
       "0.17391304347826086"
      ]
     },
     "execution_count": 17,
     "metadata": {},
     "output_type": "execute_result"
    },
    {
     "data": {
      "text/plain": [
       "0.029850746268656716"
      ]
     },
     "execution_count": 17,
     "metadata": {},
     "output_type": "execute_result"
    }
   ],
   "source": [
    "train, test, dev = pre_pipeline(ref=0,lemma=True)\n",
    "vectorizer = CountVectorizer()\n",
    "trainX = vectorizer.fit_transform(train[\"text\"])\n",
    "testX = vectorizer.transform(test[\"text\"])\n",
    "devX = vectorizer.transform(dev[\"text\"])\n",
    "print(\"Vobac Size\", len(vectorizer.get_feature_names_out()))\n",
    "\n",
    "le = preprocessing.OneHotEncoder()\n",
    "le = le.fit(train[\"label\"].values.reshape(-1,1))\n",
    "trainY = le.transform(train[\"label\"].values.reshape(-1,1))\n",
    "devY = le.transform(dev[\"label\"].values.reshape(-1,1))\n",
    "testY = le.transform(test[\"label\"].values.reshape(-1,1))\n",
    "\n",
    "\n",
    "\n",
    "from keras.models import Sequential\n",
    "from keras.layers import Dense, Dropout, Activation\n",
    "\n",
    "def build_model(input_dim, hidden_neurons, output_dim):\n",
    "    \"\"\"\n",
    "    Construct, compile and return a Keras model which will be used to fit/predict\n",
    "    \"\"\"\n",
    "    model = Sequential([\n",
    "        Dense(hidden_neurons, input_dim=input_dim),\n",
    "        Activation('relu'),\n",
    "        Dropout(0.2),\n",
    "        Dense(hidden_neurons),\n",
    "        Activation('relu'),\n",
    "        Dropout(0.2),\n",
    "        Dense(output_dim, activation='softmax')\n",
    "    ])\n",
    "    model.compile(loss='categorical_crossentropy', optimizer='adam', metrics=['accuracy'])\n",
    "    return model\n",
    "\n",
    "from keras.wrappers.scikit_learn import KerasClassifier\n",
    "model_params = {\n",
    "    'build_fn': build_model,\n",
    "    'input_dim': trainX.shape[1],\n",
    "    'hidden_neurons': 512,\n",
    "    'output_dim': trainY.shape[1],\n",
    "    'epochs': 20,\n",
    "    'batch_size': 512,\n",
    "    'verbose': 1,\n",
    "    'validation_data': (devX.toarray(), devY.toarray()),\n",
    "    'shuffle': True\n",
    "}\n",
    "clf = KerasClassifier(**model_params)\n",
    "\n",
    "\n",
    "hist = clf.fit(trainX.toarray(), trainY.toarray())\n",
    "\n",
    "yhat = clf.predict(testX.toarray())\n",
    "\n",
    "# 0=b 1=i 2=o\n",
    "yhat = pd.DataFrame(yhat)\n",
    "yhat[yhat[0] == 0]  = 'b'\n",
    "yhat[yhat[0] == 1]  = 'i'\n",
    "yhat[yhat[0] == 2]  = 'o'\n",
    "\n",
    "\n",
    "d = {'y': test[\"label\"].values, 'yhat': yhat[0].values}\n",
    "comparison = pd.DataFrame(data=d)\n",
    "spanEval = pd.DataFrame( columns=[\"y\", \"yhat\"])\n",
    "for i in range(0, comparison.shape[0]):\n",
    "    if(comparison['y'][i] == 'b'):\n",
    "        j = i+1\n",
    "        ystr = \"b\"\n",
    "        yhatstr = comparison['yhat'][i]\n",
    "        while(comparison['y'][j] == \"i\"):\n",
    "            ystr = ystr + comparison['y'][j]\n",
    "            yhatstr = yhatstr + comparison['yhat'][j]\n",
    "            j = j + 1\n",
    "        toAppend = pd.DataFrame({'y':ystr, 'yhat':yhatstr}, index={1})\n",
    "        spanEval = pd.concat([spanEval, toAppend], ignore_index=True)\n",
    "\n",
    "spanEval[(spanEval['y'] == spanEval['yhat'])].shape[0] / spanEval.shape[0]\n",
    "spanEval[(spanEval['y'] == spanEval['yhat']) & (spanEval['yhat'].str.len() == 1)].shape[0] / spanEval[(spanEval['yhat'].str.len() == 1)].shape[0]\n",
    "spanEval[(spanEval['y'] == spanEval['yhat']) & (spanEval['yhat'].str.len() == 2)].shape[0] / spanEval[(spanEval['yhat'].str.len() == 2)].shape[0]\n",
    "spanEval[(spanEval['y'] == spanEval['yhat']) & (spanEval['yhat'].str.len() == 3)].shape[0] / spanEval[(spanEval['yhat'].str.len() == 3)].shape[0]"
   ]
  },
  {
   "cell_type": "code",
   "execution_count": null,
   "id": "e5a71109-f31a-44f6-8d21-cebbef0be93c",
   "metadata": {},
   "outputs": [],
   "source": [
    "20.8 18.9 20.8 21.1 17.7 17.7 21.1 18.32\n",
    "29.13 28.15 29.13 28.16 28.15 29.13 22.4 26.2\n",
    "25.3 28.16 23.9 26.8 18.84 1.67 33 18.84\n",
    "2.94 2.94 5.88 2.94 2.94 5.88 4.41 8.8"
   ]
  }
 ],
 "metadata": {
  "kernelspec": {
   "display_name": "IDMC",
   "language": "python",
   "name": "idmc"
  },
  "language_info": {
   "codemirror_mode": {
    "name": "ipython",
    "version": 3
   },
   "file_extension": ".py",
   "mimetype": "text/x-python",
   "name": "python",
   "nbconvert_exporter": "python",
   "pygments_lexer": "ipython3",
   "version": "3.10.6"
  }
 },
 "nbformat": 4,
 "nbformat_minor": 5
}
