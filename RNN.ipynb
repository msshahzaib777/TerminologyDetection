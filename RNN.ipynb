{
 "cells": [
  {
   "cell_type": "code",
   "execution_count": null,
   "id": "19cc7ecd-9b4a-490d-86c0-f08a21394fa6",
   "metadata": {},
   "outputs": [],
   "source": [
    "from keras.models import Sequential\n",
    "from keras.layers import Embedding\n",
    "from keras.layers import Dense, Input\n",
    "from keras.layers import TimeDistributed\n",
    "from keras.layers import LSTM, GRU, Bidirectional, SimpleRNN, RNN\n",
    "from keras.preprocessing.text import Tokenizer\n",
    "from keras.models import Model\n",
    "import keras"
   ]
  },
  {
   "cell_type": "code",
   "execution_count": null,
   "id": "9adc3b8e-105c-4575-a955-1ac20c5896bf",
   "metadata": {},
   "outputs": [],
   "source": [
    "import os\n",
    "import nltk\n",
    "import pandas as pd\n",
    "import numpy as np\n",
    "from sklearn import preprocessing, pipeline, svm, linear_model, neighbors, metrics, ensemble\n",
    "from sklearn.feature_extraction.text import CountVectorizer, TfidfVectorizer\n",
    "import matplotlib.pyplot as plt\n",
    "import seaborn as sns\n",
    "from nltk.stem import WordNetLemmatizer\n",
    "from nltk import wordpunct_tokenize, WordNetLemmatizer, sent_tokenize, pos_tag\n",
    "from nltk.corpus import stopwords as sw, wordnet as wn\n",
    "import re\n",
    "import string \n",
    "import copy\n",
    "from unidecode import unidecode\n",
    "\n",
    "from gensim.models import KeyedVectors\n",
    "from keras.utils.np_utils import to_categorical\n",
    "from tensorflow.keras.preprocessing.sequence import pad_sequences\n",
    "\n",
    "from IPython.core.interactiveshell import InteractiveShell\n",
    "InteractiveShell.ast_node_interactivity = \"all\"\n",
    "dataPath = \".\\\\data\""
   ]
  },
  {
   "cell_type": "code",
   "execution_count": null,
   "id": "980cbd51-07f6-469e-b15e-5c8e69977b25",
   "metadata": {},
   "outputs": [],
   "source": [
    "CUSTOM_SEED = 42\n",
    "np.random.seed(CUSTOM_SEED)"
   ]
  },
  {
   "cell_type": "code",
   "execution_count": null,
   "id": "81014b72-c790-44fc-8a87-0a772471eb41",
   "metadata": {},
   "outputs": [],
   "source": [
    "def find_files(search_path):\n",
    "    result = []\n",
    "    # Walking top-down from the root\n",
    "    for root, dir, files in os.walk(search_path):\n",
    "        for file in files:       \n",
    "                result.append(os.path.join(root, file))\n",
    "    return result\n",
    "\n",
    "def loadData(paths):\n",
    "    data = pd.DataFrame(columns=[\"tokens\", \"label\"])\n",
    "    for i in paths:\n",
    "        try:\n",
    "            doc = pd.read_csv(i, sep=\"\\t\", names=[\"tokens\", \"label\"], header=None)\n",
    "            doc['file'] = i[12:-5]\n",
    "            data = pd.concat([data, doc], ignore_index=True)\n",
    "        except Exception as e: \n",
    "            print(i, e)\n",
    "    return data\n",
    "\n",
    "def stripSpaces(x):\n",
    "    x = unidecode(x)\n",
    "    specialchar = \"!@#$%^&*()[]{};:,./<>?\\|`-~=_+\\t\\n\"\n",
    "    for tag in specialchar:\n",
    "        x = x.replace(tag, '')\n",
    "    x = x.replace(\" \", \"\")\n",
    "    x = x.lower()\n",
    "    x = x.strip()\n",
    "    return x\n",
    "\n",
    "def cleaning(_dataset, lemma=True, pos=False, verbose=True):\n",
    "    dataset = _dataset.copy()\n",
    "    dataset.drop(dataset[dataset[\"tokens\"].isna()].index, inplace=True)\n",
    "    if verbose: \n",
    "        print(\"Size after Dropping Null Tokens\",dataset.shape)\n",
    "        print(\"Tokens Without labels:\")\n",
    "    for indexWithNullLabel in dataset[dataset[\"label\"].isna()].index:\n",
    "        token = dataset[\"tokens\"][indexWithNullLabel]\n",
    "        #split with ' ' doesnt consider multiple spaces as one\n",
    "        tokenslist = token.split()\n",
    "        dataset[\"tokens\"][indexWithNullLabel] = tokenslist[0]\n",
    "\n",
    "        if (len(tokenslist) > 1):\n",
    "            dataset[\"label\"][indexWithNullLabel] = tokenslist[1]\n",
    "        else:\n",
    "            if verbose:\n",
    "                print(dataset.loc[indexWithNullLabel, :])\n",
    "            #Manual Correction for 5467 and 5858 (very & research)\n",
    "            dataset[\"label\"][indexWithNullLabel] = 'O'\n",
    "            if verbose:\n",
    "                print(\"Manual Corrected:\", dataset[\"tokens\"][indexWithNullLabel])\n",
    "    dataset = dataset.applymap(stripSpaces)\n",
    "    #label to handel 0, i*, b*, o*, 0*\n",
    "    dataset[dataset[\"label\"] == 'ii'] = 'i'\n",
    "    dataset[dataset[\"label\"] == '0'] = 'o'\n",
    "    if verbose:\n",
    "        print(\"Removing special characters\")\n",
    "    specialCharTokens = dataset[~(dataset[\"tokens\"].str.isalnum())][\"tokens\"].unique()\n",
    "    #for sprecialChar with label B, moving label to next row and droping rows  \n",
    "    specialCharWithB = dataset[dataset[\"tokens\"].isin(specialCharTokens) & (dataset[\"label\"] == 'b')].index\n",
    "    for i in specialCharWithB:\n",
    "        dataset.loc[i+1, \"label\"] = 'b'\n",
    "    dataset.drop(dataset[dataset[\"tokens\"].isin(specialCharTokens) & ((dataset[\"label\"] == 'o') | (dataset[\"label\"] == 'b') )].index, inplace=True)\n",
    "    #Drop i where there is i and b before it\n",
    "    toDrop = []\n",
    "    for i in dataset[dataset[\"tokens\"].isin(specialCharTokens)].index:\n",
    "        if(dataset[\"label\"][i-1] == 'b' or dataset[\"label\"][i-1] == 'i' ):\n",
    "            toDrop.append(i)\n",
    "        else:\n",
    "            dataset[\"label\"][i] = 'b'\n",
    "    dataset.drop(toDrop, axis=0, inplace=True)\n",
    "    if verbose:\n",
    "        print(dataset.value_counts()[:30])\n",
    "        print(\"Removing Stopwords based on above listed most frequent words\")\n",
    "    stopwords = [\"about\", \"all\", \"also\", \"among\", \"at\", \"available\", \"be\", \"because\", \"been\", \"both\", \"but\", \"by\", \"can\", \"each\", \"first\", \"has\", \"have\", \"here\", \"how\",\n",
    "             \"however\", \"into\", \"it\", \"its\", \"large\", \"learn\", \"many\", \"may\", \"more\", \"most\", \"much\", \"new\", \"not\", \"often\", \"only\", \"or\", \"other\", \"over\", \"recent\", \"related\", \"same\",\n",
    "             \"several\", \"shown\", \"some\", \"studies\", \"such\", \"than\", \"their\", \"them\", \"then\", \"there\", \"these\", \"they\", \"those\", \"through\", \"use\", \"used\", \"we\", \"well\", \"what\",\n",
    "             \"when\", \"where\", \"which\"]\n",
    "    if verbose:\n",
    "        print(\"Label order correction:\")\n",
    "    dataset.reset_index(drop=True, inplace=True)\n",
    "    temp = dataset.copy()\n",
    "    temp[\"before\"] = temp[\"label\"].shift(1)\n",
    "    temp[\"after\"] = temp[\"label\"].shift(-1)\n",
    "    for i in temp[(temp[\"label\"] == 'i') & (temp[\"before\"] == 'o') ].index:\n",
    "            # oio or oii\n",
    "            if verbose:\n",
    "                print(temp.loc[i-1, \"tokens\"]+\"(\"+temp.loc[i-1, \"label\"]+\")\\t\\t\", temp.loc[i, \"tokens\"]+\"(\"+temp.loc[i, \"label\"]+\")\\t\\t\", temp.loc[i+1, \"tokens\"]+\"(\"+temp.loc[i+1, \"label\"]+\")\")\n",
    "            if(temp.loc[i+1, \"label\"] == 'o' or temp.loc[i+1, \"label\"] == 'i'):\n",
    "                dataset.loc[i, \"label\"] = 'b'\n",
    "            # oib\n",
    "            if(temp.loc[i+1, \"label\"] == 'b'):\n",
    "                dataset.loc[i, \"label\"] = 'b'\n",
    "                dataset.loc[i+1, \"label\"] = 'i'\n",
    "    del temp\n",
    "    if verbose:\n",
    "        print(dataset[(dataset[\"tokens\"].isin(stopwords))][\"tokens\"].value_counts().index)\n",
    "    dataset.drop(dataset[dataset[\"tokens\"].isin(stopwords)].index, inplace=True)\n",
    "    if pos:\n",
    "        dataset[\"POS\"] = nltk.pos_tag(train[\"tokens\"])\n",
    "    if lemma:\n",
    "        lemmatizer = WordNetLemmatizer()\n",
    "        dataset[\"tokens\"] = dataset[\"tokens\"].apply(lambda x: lemmatizer.lemmatize(x))\n",
    "    dataset.reset_index(drop=True, inplace=True)\n",
    "    return dataset\n",
    "\n",
    "def featurePreparation(_dataset, ref=1):\n",
    "    dataset = _dataset.copy()\n",
    "    if  ref == 0:\n",
    "        dataset[\"text\"] = dataset[\"tokens\"]\n",
    "    elif ref == 1:\n",
    "        dataset[\"text\"] = dataset[\"tokens\"].shift(fill_value= \"\") + \" \" + dataset[\"tokens\"] \\\n",
    "                            + \" \" + dataset[\"tokens\"].shift(-1, fill_value= \"\")\n",
    "        dataset[\"label\"] = dataset[\"label\"].shift(fill_value= \"o\") + \" \" + dataset[\"label\"] \\\n",
    "                            + \" \" + dataset[\"label\"].shift(-1, fill_value= \"o\")\n",
    "    elif ref == 2:\n",
    "        dataset[\"text\"] = dataset[\"tokens\"].shift(2, fill_value= \"\") + \" \" + dataset[\"tokens\"].shift(fill_value= \"\") \\\n",
    "                            + \" \" + dataset[\"tokens\"] + \" \" + dataset[\"tokens\"].shift(-1, fill_value= \"\") \\\n",
    "                            + \" \" + dataset[\"tokens\"].shift(-2, fill_value= \"\")\n",
    "        dataset[\"label\"] = dataset[\"label\"].shift(2, fill_value= \"o\") + \" \" + dataset[\"label\"].shift(fill_value= \"o\") \\\n",
    "                            + \" \" + dataset[\"label\"] + \" \" + dataset[\"label\"].shift(-1, fill_value= \"o\") \\\n",
    "                            + \" \" + dataset[\"label\"].shift(-2, fill_value= \"o\")\n",
    "        \n",
    "    elif ref == 3:\n",
    "        dataset[\"text\"] = dataset[\"tokens\"].shift(3, fill_value= \"o\") + \" \" + dataset[\"tokens\"].shift(2, fill_value= \"\") \\\n",
    "                            + \" \" + dataset[\"tokens\"].shift(fill_value= \"o\") + \" \" + dataset[\"tokens\"] \\\n",
    "                            + \" \" + dataset[\"tokens\"].shift(-1, fill_value= \"o\") \\\n",
    "                            + \" \" + dataset[\"tokens\"].shift(-2, fill_value= \"o\") + \" \" + dataset[\"tokens\"].shift(-3, fill_value= \"o\")\n",
    "        dataset[\"label\"] = dataset[\"label\"].shift(3, fill_value= \"o\") + \" \" + dataset[\"label\"].shift(2, fill_value= \"o\") \\\n",
    "                            + \" \" + dataset[\"label\"].shift(fill_value= \"o\") + \" \" + dataset[\"label\"] \\\n",
    "                            + \" \" + dataset[\"label\"].shift(-1, fill_value= \"o\") \\\n",
    "                            + \" \" + dataset[\"label\"].shift(-2, fill_value= \"o\") + \" \" + dataset[\"label\"].shift(-3, fill_value= \"o\")\n",
    "    dataset = dataset.drop([\"tokens\", \"file\"], axis=1)\n",
    "    return dataset\n",
    "\n",
    "def pre_pipeline(ref=1, pos=False,lemma=True):\n",
    "    trainFiles = find_files(dataPath + \"\\\\train\")\n",
    "    testFiles = find_files(dataPath + \"\\\\test\")\n",
    "    devFiles = find_files(dataPath + \"\\\\dev\")\n",
    "    train = loadData(trainFiles)\n",
    "    test  = loadData(testFiles)\n",
    "    dev = loadData(devFiles)\n",
    "    train = cleaning(train, lemma=lemma, pos=pos, verbose=False)\n",
    "    test = cleaning(test, lemma=lemma, pos=pos, verbose=False)\n",
    "    dev = cleaning(dev, lemma=lemma, pos=pos, verbose=False)\n",
    "    train = featurePreparation(train, ref=ref)\n",
    "    test = featurePreparation(test, ref=ref)\n",
    "    dev = featurePreparation(dev, ref=ref)\n",
    "    return train, test, dev"
   ]
  },
  {
   "cell_type": "code",
   "execution_count": null,
   "id": "e46881f8-2f1f-4ed6-ba99-3842b8eeb827",
   "metadata": {},
   "outputs": [],
   "source": [
    "train, test, dev = pre_pipeline(ref=3, lemma=True)\n",
    "print(train.shape[0], test.shape[0], dev.shape[0])\n",
    "data = pd.concat([train, test], axis=0, ignore_index=True)\n",
    "data = pd.concat([data, dev], axis=0, ignore_index=True)"
   ]
  },
  {
   "cell_type": "code",
   "execution_count": null,
   "id": "b07994c1-7f47-484f-b81f-ea0cd48b30e9",
   "metadata": {},
   "outputs": [],
   "source": [
    "trainSize = train.shape[0]-1\n",
    "testSize = train.shape[0] + test.shape[0] -1 \n",
    "devSize = train.shape[0] + test.shape[0] + dev.shape[0] -1"
   ]
  },
  {
   "cell_type": "code",
   "execution_count": null,
   "id": "f4abe192-af17-4a2d-9183-1bb1440091d3",
   "metadata": {},
   "outputs": [],
   "source": [
    "# encode X\n",
    "word_tokenizer = Tokenizer()                      # instantiate tokeniser\n",
    "word_tokenizer.fit_on_texts(data[\"text\"])                    # fit tokeniser on data\n",
    "X_encoded = word_tokenizer.texts_to_sequences(data[\"text\"])  # use the tokeniser to encode input sequence\n",
    "\n",
    "# encode Y\n",
    "tag_tokenizer = Tokenizer()\n",
    "tag_tokenizer.fit_on_texts(data[\"label\"])\n",
    "Y_encoded = tag_tokenizer.texts_to_sequences(data[\"label\"])"
   ]
  },
  {
   "cell_type": "code",
   "execution_count": null,
   "id": "6acacb39-864a-42e9-b9f4-3c2aa7d4af7e",
   "metadata": {},
   "outputs": [],
   "source": [
    "Y_encoded[:10]"
   ]
  },
  {
   "cell_type": "code",
   "execution_count": null,
   "id": "b177f1d5-6231-46bc-9779-6663aa619519",
   "metadata": {},
   "outputs": [],
   "source": [
    "# word2vec\n",
    "path = './GoogleNews-vectors-negative300.bin'\n",
    "\n",
    "# load word2vec using the following function present in the gensim library\n",
    "word2vec = KeyedVectors.load_word2vec_format(path, binary=True)\n",
    "\n",
    "# assign word vectors from word2vec model\n",
    "EMBEDDING_SIZE  = 300  # each word in word2vec model is represented using a 300 dimensional vector\n",
    "VOCABULARY_SIZE = len(word_tokenizer.word_index) + 1\n",
    "\n",
    "# create an empty embedding matix\n",
    "embedding_weights = np.zeros((VOCABULARY_SIZE, EMBEDDING_SIZE))\n",
    "\n",
    "# create a word to index dictionary mapping\n",
    "word2id = word_tokenizer.word_index\n",
    "\n",
    "# copy vectors from word2vec model to the words present in corpus\n",
    "for word, index in word2id.items():\n",
    "    try:\n",
    "        embedding_weights[index, :] = word2vec[word]\n",
    "    except KeyError:\n",
    "        pass\n",
    "\n",
    "MAX_SEQ_LENGTH = 7  # sequences greater than 100 in length will be truncated\n",
    "\n",
    "X_padded = pad_sequences(X_encoded, maxlen=MAX_SEQ_LENGTH, padding=\"pre\", truncating=\"post\")\n",
    "Y_padded = pad_sequences(Y_encoded, maxlen=MAX_SEQ_LENGTH, padding=\"pre\", truncating=\"post\")\n",
    "\n",
    "# assign padded sequences to X and Y\n",
    "X, Y = X_padded, Y_padded"
   ]
  },
  {
   "cell_type": "code",
   "execution_count": null,
   "id": "051373a9-fffe-4b11-bc64-d04a8e9fad24",
   "metadata": {},
   "outputs": [],
   "source": [
    "Y[:10]"
   ]
  },
  {
   "cell_type": "code",
   "execution_count": null,
   "id": "9012b3b8-ce08-429d-9f34-4b1ff86a85f7",
   "metadata": {},
   "outputs": [],
   "source": [
    "Y = to_categorical(Y)"
   ]
  },
  {
   "cell_type": "code",
   "execution_count": null,
   "id": "c8fd9115-0fa5-4851-aded-a3469a44a2f4",
   "metadata": {},
   "outputs": [],
   "source": [
    "X_train = X[:trainSize]\n",
    "X_test = X[trainSize:testSize]\n",
    "X_validation = X[testSize:]\n",
    "Y_train = Y[:trainSize]\n",
    "Y_test = Y[trainSize:testSize]\n",
    "Y_validation = Y[testSize:]"
   ]
  },
  {
   "cell_type": "code",
   "execution_count": null,
   "id": "50a4a4d1-f351-4d91-a328-42486bb5c08b",
   "metadata": {},
   "outputs": [],
   "source": [
    "# total number of tags\n",
    "NUM_CLASSES = Y.shape[2]\n",
    "\n",
    "bidirect_model = Sequential()\n",
    "bidirect_model.add(Embedding(input_dim     = VOCABULARY_SIZE,\n",
    "                             output_dim    = EMBEDDING_SIZE,\n",
    "                             input_length  = MAX_SEQ_LENGTH,\n",
    "                             weights       = [embedding_weights],\n",
    "                             trainable     = True\n",
    "))\n",
    "bidirect_model.add(Bidirectional(LSTM(32, return_sequences=True)))\n",
    "bidirect_model.add(TimeDistributed(Dense(NUM_CLASSES, activation='softmax')))\n",
    "bidirect_model.compile(loss='categorical_crossentropy',\n",
    "              optimizer= 'adam',\n",
    "              metrics=['acc'])\n",
    "\n",
    "# check summary of model\n",
    "bidirect_model.summary()"
   ]
  },
  {
   "cell_type": "code",
   "execution_count": null,
   "id": "16585026-a738-44c7-90fe-1b52b8996b4e",
   "metadata": {},
   "outputs": [],
   "source": [
    "bidirect_training = bidirect_model.fit(X_train, Y_train, batch_size=512, epochs=5, validation_data=(X_validation, Y_validation))"
   ]
  },
  {
   "cell_type": "code",
   "execution_count": 30,
   "id": "3464b891-28a8-4b49-8f34-a3c52c80cd17",
   "metadata": {},
   "outputs": [
    {
     "data": {
      "text/plain": [
       "[<matplotlib.lines.Line2D at 0x1c9c22d0910>]"
      ]
     },
     "execution_count": 30,
     "metadata": {},
     "output_type": "execute_result"
    },
    {
     "data": {
      "text/plain": [
       "[<matplotlib.lines.Line2D at 0x1c9c22d0c70>]"
      ]
     },
     "execution_count": 30,
     "metadata": {},
     "output_type": "execute_result"
    },
    {
     "data": {
      "text/plain": [
       "Text(0.5, 1.0, 'model accuracy')"
      ]
     },
     "execution_count": 30,
     "metadata": {},
     "output_type": "execute_result"
    },
    {
     "data": {
      "text/plain": [
       "Text(0, 0.5, 'accuracy')"
      ]
     },
     "execution_count": 30,
     "metadata": {},
     "output_type": "execute_result"
    },
    {
     "data": {
      "text/plain": [
       "Text(0.5, 0, 'epoch')"
      ]
     },
     "execution_count": 30,
     "metadata": {},
     "output_type": "execute_result"
    },
    {
     "data": {
      "text/plain": [
       "<matplotlib.legend.Legend at 0x1c99d9b8040>"
      ]
     },
     "execution_count": 30,
     "metadata": {},
     "output_type": "execute_result"
    },
    {
     "data": {
      "image/png": "[encoded data removed]",
      "text/plain": [
       "<Figure size 640x480 with 1 Axes>"
      ]
     },
     "metadata": {},
     "output_type": "display_data"
    }
   ],
   "source": [
    "# visualise training history\n",
    "plt.plot(bidirect_training.history['acc'])\n",
    "plt.plot(bidirect_training.history['val_acc'])\n",
    "plt.title('model accuracy')\n",
    "plt.ylabel('accuracy')\n",
    "plt.xlabel('epoch')\n",
    "plt.legend(['train', 'test'], loc=\"lower right\")\n",
    "plt.show()"
   ]
  },
  {
   "cell_type": "code",
   "execution_count": 31,
   "id": "f8878d4e-e02f-4a03-9d60-bbb32c69d591",
   "metadata": {},
   "outputs": [
    {
     "name": "stdout",
     "output_type": "stream",
     "text": [
      "69/69 [==============================] - 0s 4ms/step\n"
     ]
    }
   ],
   "source": [
    "pre_Y_test = bidirect_model.predict(X_test)"
   ]
  },
  {
   "cell_type": "code",
   "execution_count": 32,
   "id": "648a2e47-dcc2-4b27-b592-db9fc9b75a32",
   "metadata": {},
   "outputs": [
    {
     "name": "stdout",
     "output_type": "stream",
     "text": [
      "69/69 [==============================] - 0s 4ms/step - loss: 0.4481 - acc: 0.8414\n",
      "Loss: 0.4480702877044678,\n",
      "Accuracy: 0.841406524181366\n"
     ]
    }
   ],
   "source": [
    "loss, accuracy = bidirect_model.evaluate(X_test, Y_test, verbose = 1)\n",
    "print(\"Loss: {0},\\nAccuracy: {1}\".format(loss, accuracy))"
   ]
  },
  {
   "cell_type": "code",
   "execution_count": 33,
   "id": "f117958f-20e9-49e0-be59-e7896a94ae7a",
   "metadata": {},
   "outputs": [
    {
     "data": {
      "text/plain": [
       "array([[0., 0., 0., 1.],\n",
       "       [0., 1., 0., 0.],\n",
       "       [0., 1., 0., 0.],\n",
       "       [0., 1., 0., 0.],\n",
       "       [0., 1., 0., 0.],\n",
       "       [0., 1., 0., 0.],\n",
       "       [0., 1., 0., 0.]], dtype=float32)"
      ]
     },
     "execution_count": 33,
     "metadata": {},
     "output_type": "execute_result"
    }
   ],
   "source": [
    "Y_test[0]"
   ]
  },
  {
   "cell_type": "code",
   "execution_count": 34,
   "id": "cd11b869-7b9d-4bd9-8c6d-e096f2905e44",
   "metadata": {},
   "outputs": [
    {
     "data": {
      "text/plain": [
       "array([[9.30536259e-03, 6.70647100e-02, 1.58929616e-01, 7.64700294e-01],\n",
       "       [1.02775775e-04, 9.94817436e-01, 6.40467624e-04, 4.43919608e-03],\n",
       "       [2.53218197e-04, 9.84622836e-01, 1.15605062e-02, 3.56343784e-03],\n",
       "       [2.53299891e-04, 7.92616785e-01, 1.56678453e-01, 5.04515283e-02],\n",
       "       [1.28739790e-04, 9.86894906e-01, 7.23697338e-03, 5.73945325e-03],\n",
       "       [1.59550880e-04, 9.90292430e-01, 8.01268313e-03, 1.53527502e-03],\n",
       "       [4.79703158e-04, 9.75877345e-01, 2.18819417e-02, 1.76105683e-03]],\n",
       "      dtype=float32)"
      ]
     },
     "execution_count": 34,
     "metadata": {},
     "output_type": "execute_result"
    }
   ],
   "source": [
    "pre_Y_test[0]"
   ]
  },
  {
   "cell_type": "code",
   "execution_count": 35,
   "id": "d2e26b30-4af7-4d3b-b8c5-0b8d3da4722c",
   "metadata": {},
   "outputs": [],
   "source": [
    "pre = [] \n",
    "for i in range(0, pre_Y_test.shape[0]):\n",
    "    pre.append(np.argmax(pre_Y_test[i], axis=1))"
   ]
  },
  {
   "cell_type": "code",
   "execution_count": 36,
   "id": "8e72cc23-8f78-4c46-9a96-33be3c000cb6",
   "metadata": {},
   "outputs": [
    {
     "data": {
      "text/plain": [
       "array([3, 1, 1, 1, 1, 1, 1], dtype=int64)"
      ]
     },
     "execution_count": 36,
     "metadata": {},
     "output_type": "execute_result"
    }
   ],
   "source": [
    "np.argmax(pre_Y_test[0], axis=1)"
   ]
  },
  {
   "cell_type": "code",
   "execution_count": 37,
   "id": "3277ebba-e952-4480-b402-757c70034f67",
   "metadata": {},
   "outputs": [
    {
     "data": {
      "text/plain": [
       "[array([3, 1, 1, 1, 1, 1, 1], dtype=int64),\n",
       " array([1, 1, 1, 1, 1, 1, 2], dtype=int64),\n",
       " array([1, 1, 1, 1, 1, 2, 3], dtype=int64),\n",
       " array([1, 1, 1, 1, 2, 3, 1], dtype=int64),\n",
       " array([3, 1, 1, 2, 3, 1, 2], dtype=int64),\n",
       " array([1, 1, 2, 3, 1, 2, 3], dtype=int64),\n",
       " array([1, 2, 3, 1, 2, 3, 3], dtype=int64),\n",
       " array([2, 3, 1, 2, 3, 3, 1], dtype=int64),\n",
       " array([3, 1, 2, 3, 1, 1, 1], dtype=int64),\n",
       " array([1, 2, 3, 1, 1, 1, 1], dtype=int64)]"
      ]
     },
     "execution_count": 37,
     "metadata": {},
     "output_type": "execute_result"
    }
   ],
   "source": [
    "pre[:10]"
   ]
  },
  {
   "cell_type": "code",
   "execution_count": 38,
   "id": "f748c9ed-a83c-4dc0-8da6-b0d1b2b4a34b",
   "metadata": {},
   "outputs": [],
   "source": [
    "# Creating a reverse dictionary\n",
    "reverse_word_map = dict(map(reversed, tag_tokenizer.word_index.items()))\n",
    "\n",
    "# Function takes a tokenized sentence and returns the words\n",
    "def sequence_to_text(list_of_indices):\n",
    "    # Looking up words in dictionary\n",
    "    words = [reverse_word_map.get(letter) for letter in list_of_indices]\n",
    "    return(words)"
   ]
  },
  {
   "cell_type": "code",
   "execution_count": 39,
   "id": "0e7b896f-b8e2-4068-b76b-de7d992246c5",
   "metadata": {},
   "outputs": [],
   "source": [
    "# Creating texts \n",
    "my_texts = list(map(sequence_to_text, pre))"
   ]
  },
  {
   "cell_type": "code",
   "execution_count": 40,
   "id": "02758257-704c-4a74-8294-0e47e5a64a20",
   "metadata": {},
   "outputs": [],
   "source": [
    "labels = []\n",
    "for i in range(1, len(my_texts)):\n",
    "    labels.append(\" \".join([str(i) for a,i in enumerate(my_texts[i])]))"
   ]
  },
  {
   "cell_type": "code",
   "execution_count": 41,
   "id": "4c37d76e-eb5e-45c7-a164-f47f17194487",
   "metadata": {},
   "outputs": [],
   "source": [
    "evaluate  = pd.concat([test, pd.Series(labels)], axis=1) "
   ]
  },
  {
   "cell_type": "code",
   "execution_count": 48,
   "id": "c4eef449-5fb1-4f7d-b86c-11cc159385dc",
   "metadata": {},
   "outputs": [],
   "source": [
    "wrong = evaluate[evaluate[\"label\"] !=  evaluate[0]].shape[0] \n",
    "correct = evaluate[evaluate[\"label\"] ==  evaluate[0]].shape[0]"
   ]
  },
  {
   "cell_type": "code",
   "execution_count": 49,
   "id": "8914bacf-ecf6-4203-ad3d-8e3f5797628a",
   "metadata": {},
   "outputs": [
    {
     "data": {
      "text/plain": [
       "0.38803263825929285"
      ]
     },
     "execution_count": 49,
     "metadata": {},
     "output_type": "execute_result"
    }
   ],
   "source": [
    "correct / (wrong + correct)"
   ]
  }
 ],
 "metadata": {
  "kernelspec": {
   "display_name": "IDMC",
   "language": "python",
   "name": "idmc"
  },
  "language_info": {
   "codemirror_mode": {
    "name": "ipython",
    "version": 3
   },
   "file_extension": ".py",
   "mimetype": "text/x-python",
   "name": "python",
   "nbconvert_exporter": "python",
   "pygments_lexer": "ipython3",
   "version": "3.10.6"
  }
 },
 "nbformat": 4,
 "nbformat_minor": 5
}
